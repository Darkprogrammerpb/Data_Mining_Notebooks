{
  "nbformat": 4,
  "nbformat_minor": 0,
  "metadata": {
    "colab": {
      "name": "Redundancy and correlation analysis.ipynb",
      "provenance": [],
      "collapsed_sections": []
    },
    "kernelspec": {
      "name": "python3",
      "display_name": "Python 3"
    },
    "language_info": {
      "name": "python"
    }
  },
  "cells": [
    {
      "cell_type": "code",
      "metadata": {
        "id": "-XbVUkI8fUXK"
      },
      "source": [
        "import pandas as pd\n",
        "import numpy as np\n",
        "import scipy.stats\n",
        "from scipy.stats import *"
      ],
      "execution_count": 60,
      "outputs": []
    },
    {
      "cell_type": "markdown",
      "metadata": {
        "id": "MUE7y2EOe-cb"
      },
      "source": [
        "# Chi square test for nominal data\n",
        "* To understand the correlation relationship between nominal variables, we use chisquare test \n",
        "* The null hypothesis is both the nominal variables are independent (no correlation between them) \n",
        "<br>\n",
        "<br>\n",
        "We will consider an example mentioned in the textbook to understand the concept.<br>\n",
        "Suppose a group of 1500 people was surveyed. The gender of each person was noted. Each person was polled as to whether his or her preferred type of reading material was fiction or non-fiction. 250 males preferred fiction while 50 preferred non fiction. 200 females preferred fiction while 1000 preferred non fiction.\n",
        "<br>\n",
        "We need to check if gender and reading preference are independent of not."
      ]
    },
    {
      "cell_type": "markdown",
      "metadata": {
        "id": "zSQTM0OYlqY8"
      },
      "source": [
        "We will update the attribute1, index, attribute2, columns and los (level of significance) to be used later while performing hypothesis testing"
      ]
    },
    {
      "cell_type": "code",
      "metadata": {
        "colab": {
          "base_uri": "https://localhost:8080/"
        },
        "id": "zLNZwLY0e5cd",
        "outputId": "4d4addb1-4987-4bcc-dbc7-91a7a6a03026"
      },
      "source": [
        "attribute1 = 'reading preference'\n",
        "index      = ['fiction','non_fiction']\n",
        "\n",
        "attribute2 = 'gender'\n",
        "columns    = ['males','females']\n",
        "\n",
        "los        = 0.05\n",
        "\n",
        "print('---------------------------------------------------------------------------------------------')\n",
        "print(f'We have attributes - {attribute1} and {attribute2} both of which are nominal')\n",
        "print('\\n')\n",
        "print(f'The values corresponding to {attribute1} is {index}')\n",
        "print('\\n')\n",
        "print(f'The values corresponding to {attribute2} is {columns}')\n",
        "print('\\n')\n",
        "print(f'The level of significance for the test is {los}')\n",
        "print('---------------------------------------------------------------------------------------------')"
      ],
      "execution_count": 61,
      "outputs": [
        {
          "output_type": "stream",
          "name": "stdout",
          "text": [
            "---------------------------------------------------------------------------------------------\n",
            "We have attributes - reading preference and gender both of which are nominal\n",
            "\n",
            "\n",
            "The values corresponding to reading preference is ['fiction', 'non_fiction']\n",
            "\n",
            "\n",
            "The values corresponding to gender is ['males', 'females']\n",
            "\n",
            "\n",
            "The level of significance for the test is 0.05\n",
            "---------------------------------------------------------------------------------------------\n"
          ]
        }
      ]
    },
    {
      "cell_type": "markdown",
      "metadata": {
        "id": "pVyWZ1xvleHB"
      },
      "source": [
        "update the values from the problem statement manually. These are going to be the observed values"
      ]
    },
    {
      "cell_type": "code",
      "metadata": {
        "id": "lGeUr89pkYR_"
      },
      "source": [
        "contingency_df                              = pd.DataFrame(columns = columns,index=index)\n",
        "contingency_df.loc['fiction','males']       = 250\n",
        "contingency_df.loc['fiction','females']     = 200\n",
        "contingency_df.loc['non_fiction','males']   = 50\n",
        "contingency_df.loc['non_fiction','females'] = 1000"
      ],
      "execution_count": 62,
      "outputs": []
    },
    {
      "cell_type": "code",
      "metadata": {
        "colab": {
          "base_uri": "https://localhost:8080/",
          "height": 537
        },
        "id": "XVwdiKh0hFJN",
        "outputId": "f7ae751e-e8a6-4447-ced6-d1040dcb3db1"
      },
      "source": [
        "print('-----------------------------------------------------------------------------------------------------------')\n",
        "print('We have contingency matrix defined as ')\n",
        "display(contingency_df)\n",
        "print('\\n')\n",
        "observed_matrix                             = contingency_df.values\n",
        "\n",
        "row_sum                                     = contingency_df.sum(axis=1).values\n",
        "col_sum                                     = contingency_df.sum(axis=0).values\n",
        "expected_matrix                             = np.zeros((contingency_df.shape[0],contingency_df.shape[1]))\n",
        "for i in range(expected_matrix.shape[0]):\n",
        "  for j in range(expected_matrix.shape[1]):\n",
        "    expected_matrix[i][j]                   = (row_sum[i]*col_sum[j])/np.sum(row_sum)\n",
        "\n",
        "print('-----------------------------------------------------------------------------------------------------------')\n",
        "print('The matrix with expected frequencies is given as ')\n",
        "display(pd.DataFrame(expected_matrix,columns = columns,index=index))\n",
        "print('\\n')\n",
        "\n",
        "print('-----------------------------------------------------------------------------------------------------------')\n",
        "test_statistic                               = 0\n",
        "for i in range(expected_matrix.shape[0]):\n",
        "  for j in range(expected_matrix.shape[1]):\n",
        "    test_statistic                          += ((observed_matrix[i][j]-expected_matrix[i][j])**2)/expected_matrix[i][j]\n",
        "print(f'The value of test statistic is {test_statistic}')\n",
        "\n",
        "degree_of_freedom                            = (len(index)-1)*(len(columns)-1)\n",
        "chisq_val                                    = scipy.stats.chi2.ppf(1-los, df=degree_of_freedom)\n",
        "print(f'The value of chisquare at {degree_of_freedom} degrees of freedom is {chisq_val}')\n",
        "print('\\n')\n",
        "print('------------------------------------------------------------------------------------------------------------')\n",
        "\n",
        "print('Conclusion - ')\n",
        "if test_statistic<chisq_val:\n",
        "  print(f'we may accept the Null Hypothesis H0: {attribute1} and {attribute2} are independent at level of significance being {los}')\n",
        "else:\n",
        "  print(f'We may accept the alternative hypothesis that {attribute1} and {attribute2} are dependent/strongly correlated at level of significance being {los}')\n",
        "print('\\n')\n",
        "print('------------------------------------------------------------------------------------------------------------')"
      ],
      "execution_count": 63,
      "outputs": [
        {
          "output_type": "stream",
          "name": "stdout",
          "text": [
            "-----------------------------------------------------------------------------------------------------------\n",
            "We have contingency matrix defined as \n"
          ]
        },
        {
          "output_type": "display_data",
          "data": {
            "text/html": [
              "<div>\n",
              "<style scoped>\n",
              "    .dataframe tbody tr th:only-of-type {\n",
              "        vertical-align: middle;\n",
              "    }\n",
              "\n",
              "    .dataframe tbody tr th {\n",
              "        vertical-align: top;\n",
              "    }\n",
              "\n",
              "    .dataframe thead th {\n",
              "        text-align: right;\n",
              "    }\n",
              "</style>\n",
              "<table border=\"1\" class=\"dataframe\">\n",
              "  <thead>\n",
              "    <tr style=\"text-align: right;\">\n",
              "      <th></th>\n",
              "      <th>males</th>\n",
              "      <th>females</th>\n",
              "    </tr>\n",
              "  </thead>\n",
              "  <tbody>\n",
              "    <tr>\n",
              "      <th>fiction</th>\n",
              "      <td>250</td>\n",
              "      <td>200</td>\n",
              "    </tr>\n",
              "    <tr>\n",
              "      <th>non_fiction</th>\n",
              "      <td>50</td>\n",
              "      <td>1000</td>\n",
              "    </tr>\n",
              "  </tbody>\n",
              "</table>\n",
              "</div>"
            ],
            "text/plain": [
              "            males females\n",
              "fiction       250     200\n",
              "non_fiction    50    1000"
            ]
          },
          "metadata": {}
        },
        {
          "output_type": "stream",
          "name": "stdout",
          "text": [
            "\n",
            "\n",
            "-----------------------------------------------------------------------------------------------------------\n",
            "The matrix with expected frequencies is given as \n"
          ]
        },
        {
          "output_type": "display_data",
          "data": {
            "text/html": [
              "<div>\n",
              "<style scoped>\n",
              "    .dataframe tbody tr th:only-of-type {\n",
              "        vertical-align: middle;\n",
              "    }\n",
              "\n",
              "    .dataframe tbody tr th {\n",
              "        vertical-align: top;\n",
              "    }\n",
              "\n",
              "    .dataframe thead th {\n",
              "        text-align: right;\n",
              "    }\n",
              "</style>\n",
              "<table border=\"1\" class=\"dataframe\">\n",
              "  <thead>\n",
              "    <tr style=\"text-align: right;\">\n",
              "      <th></th>\n",
              "      <th>males</th>\n",
              "      <th>females</th>\n",
              "    </tr>\n",
              "  </thead>\n",
              "  <tbody>\n",
              "    <tr>\n",
              "      <th>fiction</th>\n",
              "      <td>90.0</td>\n",
              "      <td>360.0</td>\n",
              "    </tr>\n",
              "    <tr>\n",
              "      <th>non_fiction</th>\n",
              "      <td>210.0</td>\n",
              "      <td>840.0</td>\n",
              "    </tr>\n",
              "  </tbody>\n",
              "</table>\n",
              "</div>"
            ],
            "text/plain": [
              "             males  females\n",
              "fiction       90.0    360.0\n",
              "non_fiction  210.0    840.0"
            ]
          },
          "metadata": {}
        },
        {
          "output_type": "stream",
          "name": "stdout",
          "text": [
            "\n",
            "\n",
            "-----------------------------------------------------------------------------------------------------------\n",
            "The value of test statistic is 507.93650793650795\n",
            "The value of chisquare at 1 degrees of freedom is 3.841458820694124\n",
            "\n",
            "\n",
            "------------------------------------------------------------------------------------------------------------\n",
            "Conclusion - \n",
            "We may accept the alternative hypothesis that reading preference and gender are dependent/strongly correlated at level of significance being 0.05\n",
            "\n",
            "\n",
            "------------------------------------------------------------------------------------------------------------\n"
          ]
        }
      ]
    },
    {
      "cell_type": "markdown",
      "metadata": {
        "id": "SqHRf3RNn1cU"
      },
      "source": [
        "### Example: Vampire, Werewolves and Witches using Chi Square test\n",
        "\n",
        "About 1000 down-worlders (vampires, warewolves and witches) interviewed, and their killings in last 3 months of humans and shadowhunters were noted.\n",
        "* 40 vampires killed humans, 30 vampires were intereted in killing shadowhunters\n",
        "* About 15 werewolves killed humans compared to 20 killings of shadowhunters\n",
        "* The witches killed about 3 humans and 2 shadowhunters.\n",
        "<br>\n",
        "One needs to find if there is an association between the killing preference and downworld category. \n",
        "<br>\n",
        "We want to test the hypothesis that the downworlders don't differentiate between humans or shadowhunters while killing them. "
      ]
    },
    {
      "cell_type": "code",
      "metadata": {
        "colab": {
          "base_uri": "https://localhost:8080/"
        },
        "id": "bSMdQYOniP81",
        "outputId": "9b9961f7-13f7-4335-8caa-3fdaea4bd1d8"
      },
      "source": [
        "attribute1 = 'downworld_category'\n",
        "index      = ['vampire','werewolves','witches']\n",
        "\n",
        "attribute2 = 'killing_preference'\n",
        "columns    = ['humans','shadowhunters']\n",
        "\n",
        "los        = 0.05\n",
        "\n",
        "print('---------------------------------------------------------------------------------------------')\n",
        "print(f'We have attributes - {attribute1} and {attribute2} both of which are nominal')\n",
        "print('\\n')\n",
        "print(f'The values corresponding to {attribute1} is {index}')\n",
        "print('\\n')\n",
        "print(f'The values corresponding to {attribute2} is {columns}')\n",
        "print('\\n')\n",
        "print(f'The level of significance for the test is {los}')\n",
        "print('---------------------------------------------------------------------------------------------')"
      ],
      "execution_count": 64,
      "outputs": [
        {
          "output_type": "stream",
          "name": "stdout",
          "text": [
            "---------------------------------------------------------------------------------------------\n",
            "We have attributes - downworld_category and killing_preference both of which are nominal\n",
            "\n",
            "\n",
            "The values corresponding to downworld_category is ['vampire', 'werewolves', 'witches']\n",
            "\n",
            "\n",
            "The values corresponding to killing_preference is ['humans', 'shadowhunters']\n",
            "\n",
            "\n",
            "The level of significance for the test is 0.05\n",
            "---------------------------------------------------------------------------------------------\n"
          ]
        }
      ]
    },
    {
      "cell_type": "code",
      "metadata": {
        "id": "GHuUe2Srp89A"
      },
      "source": [
        "contingency_df                              = pd.DataFrame(columns = columns,index=index)\n",
        "values                                      = np.array([[40,30],[15,20],[3,2]])\n",
        "\n",
        "for i in range(len(index)):\n",
        "  for j in range(len(columns)):\n",
        "    contingency_df.loc[index[i],columns[j]] = values[i][j]\n"
      ],
      "execution_count": 65,
      "outputs": []
    },
    {
      "cell_type": "code",
      "metadata": {
        "colab": {
          "base_uri": "https://localhost:8080/",
          "height": 599
        },
        "id": "Ie-XgUDZqbV3",
        "outputId": "39dcb59c-0b34-4010-b93d-3f32c5ffd675"
      },
      "source": [
        "print('-----------------------------------------------------------------------------------------------------------')\n",
        "print('We have contingency matrix defined as ')\n",
        "display(contingency_df)\n",
        "print('\\n')\n",
        "observed_matrix                             = contingency_df.values\n",
        "\n",
        "row_sum                                     = contingency_df.sum(axis=1).values\n",
        "col_sum                                     = contingency_df.sum(axis=0).values\n",
        "expected_matrix                             = np.zeros((contingency_df.shape[0],contingency_df.shape[1]))\n",
        "for i in range(expected_matrix.shape[0]):\n",
        "  for j in range(expected_matrix.shape[1]):\n",
        "    expected_matrix[i][j]                   = (row_sum[i]*col_sum[j])/np.sum(row_sum)\n",
        "\n",
        "print('-----------------------------------------------------------------------------------------------------------')\n",
        "print('The matrix with expected frequencies is given as ')\n",
        "display(pd.DataFrame(expected_matrix,columns = columns,index=index))\n",
        "print('\\n')\n",
        "\n",
        "print('-----------------------------------------------------------------------------------------------------------')\n",
        "test_statistic                               = 0\n",
        "for i in range(expected_matrix.shape[0]):\n",
        "  for j in range(expected_matrix.shape[1]):\n",
        "    test_statistic                          += ((observed_matrix[i][j]-expected_matrix[i][j])**2)/expected_matrix[i][j]\n",
        "print(f'The value of test statistic is {test_statistic}')\n",
        "\n",
        "degree_of_freedom                            = (len(index)-1)*(len(columns)-1)\n",
        "chisq_val                                    = scipy.stats.chi2.ppf(1-los, df=degree_of_freedom)\n",
        "print(f'The value of chisquare at {degree_of_freedom} degrees of freedom is {chisq_val}')\n",
        "print('\\n')\n",
        "print('------------------------------------------------------------------------------------------------------------')\n",
        "\n",
        "print('Conclusion - ')\n",
        "if test_statistic<chisq_val:\n",
        "  print(f'we may accept the Null Hypothesis H0: {attribute1} and {attribute2} are independent at level of significance being {los}')\n",
        "else:\n",
        "  print(f'We may accept the alternative hypothesis that {attribute1} and {attribute2} are dependent/strongly correlated at level of significance being {los}')\n",
        "print('\\n')\n",
        "print('------------------------------------------------------------------------------------------------------------')"
      ],
      "execution_count": 66,
      "outputs": [
        {
          "output_type": "stream",
          "name": "stdout",
          "text": [
            "-----------------------------------------------------------------------------------------------------------\n",
            "We have contingency matrix defined as \n"
          ]
        },
        {
          "output_type": "display_data",
          "data": {
            "text/html": [
              "<div>\n",
              "<style scoped>\n",
              "    .dataframe tbody tr th:only-of-type {\n",
              "        vertical-align: middle;\n",
              "    }\n",
              "\n",
              "    .dataframe tbody tr th {\n",
              "        vertical-align: top;\n",
              "    }\n",
              "\n",
              "    .dataframe thead th {\n",
              "        text-align: right;\n",
              "    }\n",
              "</style>\n",
              "<table border=\"1\" class=\"dataframe\">\n",
              "  <thead>\n",
              "    <tr style=\"text-align: right;\">\n",
              "      <th></th>\n",
              "      <th>humans</th>\n",
              "      <th>shadowhunters</th>\n",
              "    </tr>\n",
              "  </thead>\n",
              "  <tbody>\n",
              "    <tr>\n",
              "      <th>vampire</th>\n",
              "      <td>40</td>\n",
              "      <td>30</td>\n",
              "    </tr>\n",
              "    <tr>\n",
              "      <th>werewolves</th>\n",
              "      <td>15</td>\n",
              "      <td>20</td>\n",
              "    </tr>\n",
              "    <tr>\n",
              "      <th>witches</th>\n",
              "      <td>3</td>\n",
              "      <td>2</td>\n",
              "    </tr>\n",
              "  </tbody>\n",
              "</table>\n",
              "</div>"
            ],
            "text/plain": [
              "           humans shadowhunters\n",
              "vampire        40            30\n",
              "werewolves     15            20\n",
              "witches         3             2"
            ]
          },
          "metadata": {}
        },
        {
          "output_type": "stream",
          "name": "stdout",
          "text": [
            "\n",
            "\n",
            "-----------------------------------------------------------------------------------------------------------\n",
            "The matrix with expected frequencies is given as \n"
          ]
        },
        {
          "output_type": "display_data",
          "data": {
            "text/html": [
              "<div>\n",
              "<style scoped>\n",
              "    .dataframe tbody tr th:only-of-type {\n",
              "        vertical-align: middle;\n",
              "    }\n",
              "\n",
              "    .dataframe tbody tr th {\n",
              "        vertical-align: top;\n",
              "    }\n",
              "\n",
              "    .dataframe thead th {\n",
              "        text-align: right;\n",
              "    }\n",
              "</style>\n",
              "<table border=\"1\" class=\"dataframe\">\n",
              "  <thead>\n",
              "    <tr style=\"text-align: right;\">\n",
              "      <th></th>\n",
              "      <th>humans</th>\n",
              "      <th>shadowhunters</th>\n",
              "    </tr>\n",
              "  </thead>\n",
              "  <tbody>\n",
              "    <tr>\n",
              "      <th>vampire</th>\n",
              "      <td>36.909091</td>\n",
              "      <td>33.090909</td>\n",
              "    </tr>\n",
              "    <tr>\n",
              "      <th>werewolves</th>\n",
              "      <td>18.454545</td>\n",
              "      <td>16.545455</td>\n",
              "    </tr>\n",
              "    <tr>\n",
              "      <th>witches</th>\n",
              "      <td>2.636364</td>\n",
              "      <td>2.363636</td>\n",
              "    </tr>\n",
              "  </tbody>\n",
              "</table>\n",
              "</div>"
            ],
            "text/plain": [
              "               humans  shadowhunters\n",
              "vampire     36.909091      33.090909\n",
              "werewolves  18.454545      16.545455\n",
              "witches      2.636364       2.363636"
            ]
          },
          "metadata": {}
        },
        {
          "output_type": "stream",
          "name": "stdout",
          "text": [
            "\n",
            "\n",
            "-----------------------------------------------------------------------------------------------------------\n",
            "The value of test statistic is 2.021599090564608\n",
            "The value of chisquare at 2 degrees of freedom is 5.991464547107979\n",
            "\n",
            "\n",
            "------------------------------------------------------------------------------------------------------------\n",
            "Conclusion - \n",
            "we may accept the Null Hypothesis H0: downworld_category and killing_preference are independent at level of significance being 0.05\n",
            "\n",
            "\n",
            "------------------------------------------------------------------------------------------------------------\n"
          ]
        }
      ]
    },
    {
      "cell_type": "markdown",
      "metadata": {
        "id": "GUT0FJ2qr7EI"
      },
      "source": [
        "# Correlation coefficient for Numeric data\n",
        "* We calculate correlation for numeric data. \n",
        "* Correlation coefficient is also called Person's product moment coefficient\n",
        "* Scatter plots are usually used to view correlation between attributes\n",
        "* The value of correlation is usually between 1 and -1\n",
        "* Value close to 1 will mean highly correlated value\n",
        "* Vale close to -1 will mean inversely correlated value\n",
        "\n",
        "<br>\n",
        "We will try to understand the relationship between both correlation and covariance using an example from the text-book"
      ]
    },
    {
      "cell_type": "code",
      "metadata": {
        "colab": {
          "base_uri": "https://localhost:8080/",
          "height": 569
        },
        "id": "0iZrOQ35qb3t",
        "outputId": "89680999-d4d1-4bda-eb87-1ba62a72d4f4"
      },
      "source": [
        "allelec  = [6,5,4,3,2]\n",
        "hightech = [20,10,14,5,5]\n",
        "\n",
        "df                            = pd.DataFrame(columns = ['AllElectronics(X)','HighTech(Y)'])\n",
        "df['AllElectronics(X)']       = allelec\n",
        "df['HighTech(Y)']             = hightech\n",
        "df['X-mean(X)']               = df['AllElectronics(X)']-df['AllElectronics(X)'].mean()\n",
        "df['Y-mean(Y)']               = df['HighTech(Y)']-df['HighTech(Y)'].mean()\n",
        "df['(X-mean(X))*(Y-mean(Y))'] = df['X-mean(X)']*df['Y-mean(Y)']\n",
        "display(df)\n",
        "print('\\n')\n",
        "cov                           = df['(X-mean(X))*(Y-mean(Y))'].mean()\n",
        "print(f'The covariance for the given data is {cov}')\n",
        "\n",
        "\n",
        "df['(X-mean(X))^2']           = (df['AllElectronics(X)']-df['AllElectronics(X)'].mean())**2\n",
        "df['(Y-mean(Y))^2']           = (df['HighTech(Y)']-df['HighTech(Y)'].mean())**2\n",
        "print('\\n')\n",
        "display(df)\n",
        "\n",
        "var1                         = df['(X-mean(X))^2'].mean()\n",
        "var2                         = df['(Y-mean(Y))^2'].mean()\n",
        "\n",
        "correl                       = cov/(np.sqrt(var1*var2))\n",
        "print('\\n')\n",
        "print(f'The correlation between the two variables is {correl}')\n",
        "print('\\n')"
      ],
      "execution_count": 67,
      "outputs": [
        {
          "output_type": "display_data",
          "data": {
            "text/html": [
              "<div>\n",
              "<style scoped>\n",
              "    .dataframe tbody tr th:only-of-type {\n",
              "        vertical-align: middle;\n",
              "    }\n",
              "\n",
              "    .dataframe tbody tr th {\n",
              "        vertical-align: top;\n",
              "    }\n",
              "\n",
              "    .dataframe thead th {\n",
              "        text-align: right;\n",
              "    }\n",
              "</style>\n",
              "<table border=\"1\" class=\"dataframe\">\n",
              "  <thead>\n",
              "    <tr style=\"text-align: right;\">\n",
              "      <th></th>\n",
              "      <th>AllElectronics(X)</th>\n",
              "      <th>HighTech(Y)</th>\n",
              "      <th>X-mean(X)</th>\n",
              "      <th>Y-mean(Y)</th>\n",
              "      <th>(X-mean(X))*(Y-mean(Y))</th>\n",
              "    </tr>\n",
              "  </thead>\n",
              "  <tbody>\n",
              "    <tr>\n",
              "      <th>0</th>\n",
              "      <td>6</td>\n",
              "      <td>20</td>\n",
              "      <td>2.0</td>\n",
              "      <td>9.2</td>\n",
              "      <td>18.4</td>\n",
              "    </tr>\n",
              "    <tr>\n",
              "      <th>1</th>\n",
              "      <td>5</td>\n",
              "      <td>10</td>\n",
              "      <td>1.0</td>\n",
              "      <td>-0.8</td>\n",
              "      <td>-0.8</td>\n",
              "    </tr>\n",
              "    <tr>\n",
              "      <th>2</th>\n",
              "      <td>4</td>\n",
              "      <td>14</td>\n",
              "      <td>0.0</td>\n",
              "      <td>3.2</td>\n",
              "      <td>0.0</td>\n",
              "    </tr>\n",
              "    <tr>\n",
              "      <th>3</th>\n",
              "      <td>3</td>\n",
              "      <td>5</td>\n",
              "      <td>-1.0</td>\n",
              "      <td>-5.8</td>\n",
              "      <td>5.8</td>\n",
              "    </tr>\n",
              "    <tr>\n",
              "      <th>4</th>\n",
              "      <td>2</td>\n",
              "      <td>5</td>\n",
              "      <td>-2.0</td>\n",
              "      <td>-5.8</td>\n",
              "      <td>11.6</td>\n",
              "    </tr>\n",
              "  </tbody>\n",
              "</table>\n",
              "</div>"
            ],
            "text/plain": [
              "   AllElectronics(X)  HighTech(Y)  ...  Y-mean(Y)  (X-mean(X))*(Y-mean(Y))\n",
              "0                  6           20  ...        9.2                     18.4\n",
              "1                  5           10  ...       -0.8                     -0.8\n",
              "2                  4           14  ...        3.2                      0.0\n",
              "3                  3            5  ...       -5.8                      5.8\n",
              "4                  2            5  ...       -5.8                     11.6\n",
              "\n",
              "[5 rows x 5 columns]"
            ]
          },
          "metadata": {}
        },
        {
          "output_type": "stream",
          "name": "stdout",
          "text": [
            "\n",
            "\n",
            "The covariance for the given data is 7.0\n",
            "\n",
            "\n"
          ]
        },
        {
          "output_type": "display_data",
          "data": {
            "text/html": [
              "<div>\n",
              "<style scoped>\n",
              "    .dataframe tbody tr th:only-of-type {\n",
              "        vertical-align: middle;\n",
              "    }\n",
              "\n",
              "    .dataframe tbody tr th {\n",
              "        vertical-align: top;\n",
              "    }\n",
              "\n",
              "    .dataframe thead th {\n",
              "        text-align: right;\n",
              "    }\n",
              "</style>\n",
              "<table border=\"1\" class=\"dataframe\">\n",
              "  <thead>\n",
              "    <tr style=\"text-align: right;\">\n",
              "      <th></th>\n",
              "      <th>AllElectronics(X)</th>\n",
              "      <th>HighTech(Y)</th>\n",
              "      <th>X-mean(X)</th>\n",
              "      <th>Y-mean(Y)</th>\n",
              "      <th>(X-mean(X))*(Y-mean(Y))</th>\n",
              "      <th>(X-mean(X))^2</th>\n",
              "      <th>(Y-mean(Y))^2</th>\n",
              "    </tr>\n",
              "  </thead>\n",
              "  <tbody>\n",
              "    <tr>\n",
              "      <th>0</th>\n",
              "      <td>6</td>\n",
              "      <td>20</td>\n",
              "      <td>2.0</td>\n",
              "      <td>9.2</td>\n",
              "      <td>18.4</td>\n",
              "      <td>4.0</td>\n",
              "      <td>84.64</td>\n",
              "    </tr>\n",
              "    <tr>\n",
              "      <th>1</th>\n",
              "      <td>5</td>\n",
              "      <td>10</td>\n",
              "      <td>1.0</td>\n",
              "      <td>-0.8</td>\n",
              "      <td>-0.8</td>\n",
              "      <td>1.0</td>\n",
              "      <td>0.64</td>\n",
              "    </tr>\n",
              "    <tr>\n",
              "      <th>2</th>\n",
              "      <td>4</td>\n",
              "      <td>14</td>\n",
              "      <td>0.0</td>\n",
              "      <td>3.2</td>\n",
              "      <td>0.0</td>\n",
              "      <td>0.0</td>\n",
              "      <td>10.24</td>\n",
              "    </tr>\n",
              "    <tr>\n",
              "      <th>3</th>\n",
              "      <td>3</td>\n",
              "      <td>5</td>\n",
              "      <td>-1.0</td>\n",
              "      <td>-5.8</td>\n",
              "      <td>5.8</td>\n",
              "      <td>1.0</td>\n",
              "      <td>33.64</td>\n",
              "    </tr>\n",
              "    <tr>\n",
              "      <th>4</th>\n",
              "      <td>2</td>\n",
              "      <td>5</td>\n",
              "      <td>-2.0</td>\n",
              "      <td>-5.8</td>\n",
              "      <td>11.6</td>\n",
              "      <td>4.0</td>\n",
              "      <td>33.64</td>\n",
              "    </tr>\n",
              "  </tbody>\n",
              "</table>\n",
              "</div>"
            ],
            "text/plain": [
              "   AllElectronics(X)  HighTech(Y)  ...  (X-mean(X))^2  (Y-mean(Y))^2\n",
              "0                  6           20  ...            4.0          84.64\n",
              "1                  5           10  ...            1.0           0.64\n",
              "2                  4           14  ...            0.0          10.24\n",
              "3                  3            5  ...            1.0          33.64\n",
              "4                  2            5  ...            4.0          33.64\n",
              "\n",
              "[5 rows x 7 columns]"
            ]
          },
          "metadata": {}
        },
        {
          "output_type": "stream",
          "name": "stdout",
          "text": [
            "\n",
            "\n",
            "The correlation between the two variables is 0.867442794919067\n",
            "\n",
            "\n"
          ]
        }
      ]
    },
    {
      "cell_type": "markdown",
      "metadata": {
        "id": "gXptImsrwVI8"
      },
      "source": [
        "#### Calculating covariance using in-built functions"
      ]
    },
    {
      "cell_type": "code",
      "metadata": {
        "id": "THvppn6ktDdZ"
      },
      "source": [
        "from numpy import cov"
      ],
      "execution_count": 68,
      "outputs": []
    },
    {
      "cell_type": "code",
      "metadata": {
        "colab": {
          "base_uri": "https://localhost:8080/",
          "height": 294
        },
        "id": "zkbF-9W3tl-2",
        "outputId": "5bbe16e5-6e14-463a-91f5-4d640a311e18"
      },
      "source": [
        "column1            = 'AllElectronics(X)'\n",
        "column2            = 'HighTech(Y)'\n",
        "\n",
        "print('-------------------------------------------------------------------------------------')\n",
        "covariance_matrix  = cov(df[column1],df[column2])\n",
        "print('The variance-covariance matrix between the two numerical attributes is given as - ')\n",
        "display(covariance_matrix)\n",
        "print('\\n')\n",
        "print(f'The covariance between {column1} and {column2} is {covariance_matrix[0,1]}')\n",
        "print('\\n')\n",
        "print(f'The Variance of {column1} is {covariance_matrix[0,0]}')\n",
        "print('\\n')\n",
        "print(f'The Variance of {column2} is {covariance_matrix[1,1]}')\n",
        "print('\\n')\n",
        "correlation        = covariance_matrix[0,1]/np.sqrt(covariance_matrix[0,0]*covariance_matrix[1,1])\n",
        "print(f'Correlation is {correlation} which is exactly the same as we obtained before')\n"
      ],
      "execution_count": 69,
      "outputs": [
        {
          "output_type": "stream",
          "name": "stdout",
          "text": [
            "-------------------------------------------------------------------------------------\n",
            "The variance-covariance matrix between the two numerical attributes is given as - \n"
          ]
        },
        {
          "output_type": "display_data",
          "data": {
            "text/plain": [
              "array([[ 2.5 ,  8.75],\n",
              "       [ 8.75, 40.7 ]])"
            ]
          },
          "metadata": {}
        },
        {
          "output_type": "stream",
          "name": "stdout",
          "text": [
            "\n",
            "\n",
            "The covariance between AllElectronics(X) and HighTech(Y) is 8.75\n",
            "\n",
            "\n",
            "The Variance of AllElectronics(X) is 2.5\n",
            "\n",
            "\n",
            "The Variance of HighTech(Y) is 40.7\n",
            "\n",
            "\n",
            "Correlation is 0.867442794919067 which is exactly the same as we obtained before\n"
          ]
        }
      ]
    },
    {
      "cell_type": "code",
      "metadata": {
        "colab": {
          "base_uri": "https://localhost:8080/"
        },
        "id": "f9kuGC5ut7g2",
        "outputId": "7ac710c2-39d2-460b-cb6c-95e1a315f8d1"
      },
      "source": [
        "correlation,_ = pearsonr(df[column1], df[column2])\n",
        "print(f'Correlation calculated from the inbuilt module in scipy is {correlation} which is also same as other two before')"
      ],
      "execution_count": 71,
      "outputs": [
        {
          "output_type": "stream",
          "name": "stdout",
          "text": [
            "Correlation calculated from the inbuilt module in scipy is 0.867442794919067 which is also same as other two before\n"
          ]
        }
      ]
    },
    {
      "cell_type": "markdown",
      "metadata": {
        "id": "0givK0KQyD3T"
      },
      "source": [
        "# Important note\n",
        "* If two attributes are independent, then the covariance is 0\n",
        "* However, the covariance of 0 may not mean independence\n",
        "<br>\n",
        "Let us demonstrate with the following example. <br>\n",
        "Let x be a vector whose mean is 0. Let y be a vector such that y=x^2.\n",
        "<br>\n",
        "Clearly x and y are dependent and a quadratic relationship exists. However, the correlation between the two is 0"
      ]
    },
    {
      "cell_type": "code",
      "metadata": {
        "colab": {
          "base_uri": "https://localhost:8080/"
        },
        "id": "HErQhueux4vE",
        "outputId": "3f847519-b60d-4e35-ee0e-362f63867f88"
      },
      "source": [
        "x = [-1,-3,-2,1,2,3]\n",
        "y = [val**2 for val in x]\n",
        "print(f'The two vectors are {x} and {y}')\n",
        "correlation,_ = pearsonr(x,y)\n",
        "print(f'The correlation between both the vectors is {round(correlation,3)}')"
      ],
      "execution_count": 82,
      "outputs": [
        {
          "output_type": "stream",
          "name": "stdout",
          "text": [
            "The two vectors are [-1, -3, -2, 1, 2, 3] and [1, 9, 4, 1, 4, 9]\n",
            "The correlation between both the vectors is 0.0\n"
          ]
        }
      ]
    },
    {
      "cell_type": "code",
      "metadata": {
        "id": "ULeXJZ67y0Ul"
      },
      "source": [
        ""
      ],
      "execution_count": null,
      "outputs": []
    }
  ]
}