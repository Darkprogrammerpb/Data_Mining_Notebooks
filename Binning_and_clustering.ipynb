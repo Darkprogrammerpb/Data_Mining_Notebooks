{
  "nbformat": 4,
  "nbformat_minor": 0,
  "metadata": {
    "colab": {
      "name": "Binning and clustering.ipynb",
      "provenance": [],
      "collapsed_sections": []
    },
    "kernelspec": {
      "name": "python3",
      "display_name": "Python 3"
    },
    "language_info": {
      "name": "python"
    }
  },
  "cells": [
    {
      "cell_type": "code",
      "metadata": {
        "id": "186ggeTK3JXr"
      },
      "source": [
        "import numpy as np\n",
        "import pandas as pd\n",
        "import plotly.express as px"
      ],
      "execution_count": null,
      "outputs": []
    },
    {
      "cell_type": "markdown",
      "metadata": {
        "id": "FO9r4vsl-mqy"
      },
      "source": [
        "# Binning of data"
      ]
    },
    {
      "cell_type": "markdown",
      "metadata": {
        "id": "tPlW0IFp_BiA"
      },
      "source": [
        "Exercise 2.2 gave the following data for attribute age(in increasing order).\n",
        "<br>\n",
        "Use smoothing by bin means to smooth the data using bin depth of 3"
      ]
    },
    {
      "cell_type": "code",
      "metadata": {
        "id": "tL0aOZxE3RqT"
      },
      "source": [
        "age      = [13,15,16,16,19,20,20,21,22,22,25,25,25,25,30,33,33,35,35,35,35,36,40,45,46,52,70]\n",
        "bin_size = 3"
      ],
      "execution_count": null,
      "outputs": []
    },
    {
      "cell_type": "code",
      "metadata": {
        "colab": {
          "base_uri": "https://localhost:8080/",
          "height": 503
        },
        "id": "0dNaKKl6_Wsu",
        "outputId": "e8903752-6d84-4d92-b33b-0a18e6a64df7"
      },
      "source": [
        "print('------------------------------------------------------------------------')\n",
        "print('Partition to equal interval bins')\n",
        "bin_dict_equal = {}\n",
        "counter        = 1\n",
        "for i in range(0,len(age),bin_size):\n",
        "  bin_dict_equal[f'Bin_{counter}'] = age[i:i+3]\n",
        "  counter+=1\n",
        "print(f'The partition to equal interval bins results in the following binning- ')\n",
        "display(bin_dict_equal)\n",
        "print('\\n')\n",
        "\n",
        "\n",
        "print('------------------------------------------------------------------------')\n",
        "print('Smoothing by bin Means')\n",
        "bin_dict_mean = {}\n",
        "counter       = 1\n",
        "for i in range(0,len(age),bin_size):\n",
        "  bin_dict_mean[f'Bin_{counter}'] = [round(np.mean(age[i:i+3]),3)]*bin_size\n",
        "  counter+=1\n",
        "print(f'The smoothing by bin means results in the following bins- ')\n",
        "display(bin_dict_mean)\n",
        "print('\\n')\n"
      ],
      "execution_count": null,
      "outputs": [
        {
          "output_type": "stream",
          "name": "stdout",
          "text": [
            "------------------------------------------------------------------------\n",
            "Partition to equal interval bins\n",
            "The partition to equal interval bins results in the following binning- \n"
          ]
        },
        {
          "output_type": "display_data",
          "data": {
            "text/plain": [
              "{'Bin_1': [13, 15, 16],\n",
              " 'Bin_2': [16, 19, 20],\n",
              " 'Bin_3': [20, 21, 22],\n",
              " 'Bin_4': [22, 25, 25],\n",
              " 'Bin_5': [25, 25, 30],\n",
              " 'Bin_6': [33, 33, 35],\n",
              " 'Bin_7': [35, 35, 35],\n",
              " 'Bin_8': [36, 40, 45],\n",
              " 'Bin_9': [46, 52, 70]}"
            ]
          },
          "metadata": {}
        },
        {
          "output_type": "stream",
          "name": "stdout",
          "text": [
            "\n",
            "\n",
            "------------------------------------------------------------------------\n",
            "Smoothing by bin Means\n",
            "The smoothing by bin means results in the following bins- \n"
          ]
        },
        {
          "output_type": "display_data",
          "data": {
            "text/plain": [
              "{'Bin_1': [14.667, 14.667, 14.667],\n",
              " 'Bin_2': [18.333, 18.333, 18.333],\n",
              " 'Bin_3': [21.0, 21.0, 21.0],\n",
              " 'Bin_4': [24.0, 24.0, 24.0],\n",
              " 'Bin_5': [26.667, 26.667, 26.667],\n",
              " 'Bin_6': [33.667, 33.667, 33.667],\n",
              " 'Bin_7': [35.0, 35.0, 35.0],\n",
              " 'Bin_8': [40.333, 40.333, 40.333],\n",
              " 'Bin_9': [56.0, 56.0, 56.0]}"
            ]
          },
          "metadata": {}
        },
        {
          "output_type": "stream",
          "name": "stdout",
          "text": [
            "\n",
            "\n"
          ]
        }
      ]
    },
    {
      "cell_type": "code",
      "metadata": {
        "id": "5ek5Pfu8_txG"
      },
      "source": [
        "def replace_by_boundaries(vector):\n",
        "  '''\n",
        "      Making sure that the nearest bounday is mapped with the variable\n",
        "  '''\n",
        "  min = np.min(vector)\n",
        "  max = np.max(vector)\n",
        "\n",
        "  binned_vect = vector.copy()\n",
        "  for i in range(len(vector)):\n",
        "    if np.abs(vector[i]-min)> np.abs(vector[i]-max):\n",
        "      binned_vect[i] = max\n",
        "    else:\n",
        "      binned_vect[i] = min\n",
        "\n",
        "  return binned_vect\n"
      ],
      "execution_count": null,
      "outputs": []
    },
    {
      "cell_type": "code",
      "metadata": {
        "colab": {
          "base_uri": "https://localhost:8080/",
          "height": 486
        },
        "id": "yxja-wA2_wPV",
        "outputId": "ae06cc86-faee-4ec0-d31d-f7bb93fa96eb"
      },
      "source": [
        "print('------------------------------------------------------------------------')\n",
        "print('Smoothing by bin Boundaries')\n",
        "bin_dict_boundaries = {}\n",
        "bin_dict_equal      = {}\n",
        "counter             = 1\n",
        "for i in range(0,len(age),bin_size):\n",
        "  bin_dict_equal[f'Bin_{counter}']      = age[i:i+3]\n",
        "  bin_dict_boundaries[f'Bin_{counter}'] = replace_by_boundaries(age[i:i+3])\n",
        "  counter+=1\n",
        "\n",
        "print('The partition based on equal frequency is given as ')\n",
        "display(bin_dict_equal)\n",
        "print('\\n')\n",
        "print(f'The smoothing by bin boundaries results in the following bins- ')\n",
        "display(bin_dict_boundaries)\n",
        "print('\\n')\n",
        "print('------------------------------------------------------------------------')"
      ],
      "execution_count": null,
      "outputs": [
        {
          "output_type": "stream",
          "name": "stdout",
          "text": [
            "------------------------------------------------------------------------\n",
            "Smoothing by bin Boundaries\n",
            "The partition based on equal frequency is given as \n"
          ]
        },
        {
          "output_type": "display_data",
          "data": {
            "text/plain": [
              "{'Bin_1': [13, 15, 16],\n",
              " 'Bin_2': [16, 19, 20],\n",
              " 'Bin_3': [20, 21, 22],\n",
              " 'Bin_4': [22, 25, 25],\n",
              " 'Bin_5': [25, 25, 30],\n",
              " 'Bin_6': [33, 33, 35],\n",
              " 'Bin_7': [35, 35, 35],\n",
              " 'Bin_8': [36, 40, 45],\n",
              " 'Bin_9': [46, 52, 70]}"
            ]
          },
          "metadata": {}
        },
        {
          "output_type": "stream",
          "name": "stdout",
          "text": [
            "\n",
            "\n",
            "The smoothing by bin boundaries results in the following bins- \n"
          ]
        },
        {
          "output_type": "display_data",
          "data": {
            "text/plain": [
              "{'Bin_1': [13, 16, 16],\n",
              " 'Bin_2': [16, 20, 20],\n",
              " 'Bin_3': [20, 20, 22],\n",
              " 'Bin_4': [22, 25, 25],\n",
              " 'Bin_5': [25, 25, 30],\n",
              " 'Bin_6': [33, 33, 35],\n",
              " 'Bin_7': [35, 35, 35],\n",
              " 'Bin_8': [36, 36, 45],\n",
              " 'Bin_9': [46, 46, 70]}"
            ]
          },
          "metadata": {}
        },
        {
          "output_type": "stream",
          "name": "stdout",
          "text": [
            "\n",
            "\n",
            "------------------------------------------------------------------------\n"
          ]
        }
      ]
    },
    {
      "cell_type": "markdown",
      "metadata": {
        "id": "ODvaSB-0JQkK"
      },
      "source": [
        "We will now perform equi-width binning. Here we need 3 bins"
      ]
    },
    {
      "cell_type": "code",
      "metadata": {
        "colab": {
          "base_uri": "https://localhost:8080/"
        },
        "id": "zT8Gvi1eJQBi",
        "outputId": "754ffce4-e16a-428f-d710-893f95d3582e"
      },
      "source": [
        ""
      ],
      "execution_count": null,
      "outputs": [
        {
          "output_type": "execute_result",
          "data": {
            "text/plain": [
              "19.0"
            ]
          },
          "metadata": {},
          "execution_count": 55
        }
      ]
    },
    {
      "cell_type": "code",
      "metadata": {
        "colab": {
          "base_uri": "https://localhost:8080/",
          "height": 555
        },
        "id": "7TbZniUqJ7EJ",
        "outputId": "23c1360c-9732-4142-febd-c6f88b71cee4"
      },
      "source": [
        "bins = 3\n",
        "X    = np.array(age)\n",
        "\n",
        "width = (np.max(X)-np.min(X))/bins\n",
        "print(f'Corresponding to {bins} bins, we get the maximum width of each bin as {width}')\n",
        "print('\\n')\n",
        "print('---------------------------------------------------------------------------------')\n",
        "\n",
        "bounds = []\n",
        "print('We will calculate the lowerbounds for each bin first from the Bin width attained')\n",
        "print('\\n')\n",
        "for i in range(0, bins + 1):\n",
        "  lb     = min(X) + width * i\n",
        "  print(f'The lowerbound for Bin {i+1} is {lb} ')\n",
        "  bounds = bounds + [lb]\n",
        "print('\\n')\n",
        "print('---------------------------------------------------------------------------------')\n",
        "\n",
        "bounds_tuples = []\n",
        "for i in range(len(bounds)-1):\n",
        "  bounds_tuples.append((bounds[i],bounds[i+1]))\n",
        "print(f'The lower and upper bound for each of the bins is given by {bounds_tuples}')\n",
        "print('\\n')\n",
        "print('---------------------------------------------------------------------------------')\n",
        "\n",
        "bin_dict_width = {}\n",
        "count          = 1\n",
        "for i in range(len(bounds_tuples)):\n",
        "  bound_bin = bounds_tuples[i]\n",
        "  print(f'Assigning values in range {bound_bin} to Bin{count}')\n",
        "  bin_dict_width[f'Bin{count}'] = X[np.where(np.logical_and(X>=bound_bin[0], X<bound_bin[1]))]\n",
        "  count = count+1\n",
        "print('---------------------------------------------------------------------------------')\n",
        "\n",
        "print('The final binned data is given as ')\n",
        "print('\\n')\n",
        "display(bin_dict_width)\n",
        "print('\\n')\n",
        "print('---------------------------------------------------------------------------------')"
      ],
      "execution_count": null,
      "outputs": [
        {
          "output_type": "stream",
          "name": "stdout",
          "text": [
            "Corresponding to 3 bins, we get the maximum width of each bin as 19.0\n",
            "\n",
            "\n",
            "---------------------------------------------------------------------------------\n",
            "We will calculate the lowerbounds for each bin first from the Bin width attained\n",
            "\n",
            "\n",
            "The lowerbound for Bin 1 is 13.0 \n",
            "The lowerbound for Bin 2 is 32.0 \n",
            "The lowerbound for Bin 3 is 51.0 \n",
            "The lowerbound for Bin 4 is 70.0 \n",
            "\n",
            "\n",
            "---------------------------------------------------------------------------------\n",
            "The lower and upper bound for each of the bins is given by [(13.0, 32.0), (32.0, 51.0), (51.0, 70.0)]\n",
            "\n",
            "\n",
            "---------------------------------------------------------------------------------\n",
            "Assigning values in range (13.0, 32.0) to Bin1\n",
            "Assigning values in range (32.0, 51.0) to Bin2\n",
            "Assigning values in range (51.0, 70.0) to Bin3\n",
            "---------------------------------------------------------------------------------\n",
            "The final binned data is given as \n",
            "\n",
            "\n"
          ]
        },
        {
          "output_type": "display_data",
          "data": {
            "text/plain": [
              "{'Bin1': array([13, 15, 16, 16, 19, 20, 20, 21, 22, 22, 25, 25, 25, 25, 30]),\n",
              " 'Bin2': array([33, 33, 35, 35, 35, 35, 36, 40, 45, 46]),\n",
              " 'Bin3': array([52, 70])}"
            ]
          },
          "metadata": {}
        },
        {
          "output_type": "stream",
          "name": "stdout",
          "text": [
            "\n",
            "\n",
            "---------------------------------------------------------------------------------\n"
          ]
        }
      ]
    },
    {
      "cell_type": "markdown",
      "metadata": {
        "id": "pO-7H-RfDQ0N"
      },
      "source": [
        "## Outlier detection using clustering \n",
        "We will use clustering to find out the outliers in the dataset"
      ]
    },
    {
      "cell_type": "code",
      "metadata": {
        "id": "XwcQZOcvBfQH"
      },
      "source": [
        "from sklearn.cluster import KMeans"
      ],
      "execution_count": null,
      "outputs": []
    },
    {
      "cell_type": "code",
      "metadata": {
        "colab": {
          "base_uri": "https://localhost:8080/",
          "height": 295
        },
        "id": "WHjiS5iXDYc0",
        "outputId": "b477249f-e3b6-45d9-e154-94a387acf29b"
      },
      "source": [
        "X          = np.array(age).reshape(-1,1)\n",
        "K_clusters = range(1,10)\n",
        "kmeans     = [KMeans(n_clusters=i) for i in K_clusters]\n",
        "score      = [kmeans[i].fit(X).score(X) for i in range(len(kmeans))]\n",
        "\n",
        "import matplotlib.pyplot as plt\n",
        "\n",
        "plt.plot(K_clusters, score)\n",
        "plt.xlabel('Number of Clusters')\n",
        "plt.ylabel('Score')\n",
        "plt.title('Elbow Curve')\n",
        "plt.show()"
      ],
      "execution_count": null,
      "outputs": [
        {
          "output_type": "display_data",
          "data": {
            "image/png": "[encoded data removed]",
            "text/plain": [
              "<Figure size 432x288 with 1 Axes>"
            ]
          },
          "metadata": {
            "needs_background": "light"
          }
        }
      ]
    },
    {
      "cell_type": "markdown",
      "metadata": {
        "id": "i7fMEt_5FsHM"
      },
      "source": [
        "We will select the cluster of 4 using Elbow method and if we plot the clusters along with their cluster centers, we can see one outlier as well"
      ]
    },
    {
      "cell_type": "code",
      "metadata": {
        "colab": {
          "base_uri": "https://localhost:8080/",
          "height": 1000
        },
        "id": "z14t8LBiDoI1",
        "outputId": "1646dbef-bdb7-42ea-b801-4135d42d5f14"
      },
      "source": [
        "cluster = 4\n",
        "kmeans  = KMeans(n_clusters = cluster,random_state=13)\n",
        "_       = kmeans.fit(X) \n",
        "preds   = kmeans.fit_predict(X)\n",
        "centers = kmeans.cluster_centers_\n",
        "center_map = dict(zip(range(cluster),centers.ravel()))\n",
        "\n",
        "cluster_df                  = pd.DataFrame(columns = ['actual_values','clusters'])\n",
        "cluster_df['actual_values'] = X.ravel()\n",
        "cluster_df['clusters']      = preds\n",
        "cluster_df['centres']       = cluster_df['clusters'].map(center_map)\n",
        "cluster_df['Bins'] = cluster_df['clusters'].apply(lambda z: 'Bin'+str(z))\n",
        "display(cluster_df)\n",
        "print('\\n')\n",
        "px.scatter(x=cluster_df['actual_values'],y=cluster_df['centres'], color= cluster_df['clusters'])"
      ],
      "execution_count": null,
      "outputs": [
        {
          "output_type": "display_data",
          "data": {
            "text/html": [
              "<div>\n",
              "<style scoped>\n",
              "    .dataframe tbody tr th:only-of-type {\n",
              "        vertical-align: middle;\n",
              "    }\n",
              "\n",
              "    .dataframe tbody tr th {\n",
              "        vertical-align: top;\n",
              "    }\n",
              "\n",
              "    .dataframe thead th {\n",
              "        text-align: right;\n",
              "    }\n",
              "</style>\n",
              "<table border=\"1\" class=\"dataframe\">\n",
              "  <thead>\n",
              "    <tr style=\"text-align: right;\">\n",
              "      <th></th>\n",
              "      <th>actual_values</th>\n",
              "      <th>clusters</th>\n",
              "      <th>centres</th>\n",
              "      <th>Bins</th>\n",
              "    </tr>\n",
              "  </thead>\n",
              "  <tbody>\n",
              "    <tr>\n",
              "      <th>0</th>\n",
              "      <td>13</td>\n",
              "      <td>1</td>\n",
              "      <td>20.285714</td>\n",
              "      <td>Bin1</td>\n",
              "    </tr>\n",
              "    <tr>\n",
              "      <th>1</th>\n",
              "      <td>15</td>\n",
              "      <td>1</td>\n",
              "      <td>20.285714</td>\n",
              "      <td>Bin1</td>\n",
              "    </tr>\n",
              "    <tr>\n",
              "      <th>2</th>\n",
              "      <td>16</td>\n",
              "      <td>1</td>\n",
              "      <td>20.285714</td>\n",
              "      <td>Bin1</td>\n",
              "    </tr>\n",
              "    <tr>\n",
              "      <th>3</th>\n",
              "      <td>16</td>\n",
              "      <td>1</td>\n",
              "      <td>20.285714</td>\n",
              "      <td>Bin1</td>\n",
              "    </tr>\n",
              "    <tr>\n",
              "      <th>4</th>\n",
              "      <td>19</td>\n",
              "      <td>1</td>\n",
              "      <td>20.285714</td>\n",
              "      <td>Bin1</td>\n",
              "    </tr>\n",
              "    <tr>\n",
              "      <th>5</th>\n",
              "      <td>20</td>\n",
              "      <td>1</td>\n",
              "      <td>20.285714</td>\n",
              "      <td>Bin1</td>\n",
              "    </tr>\n",
              "    <tr>\n",
              "      <th>6</th>\n",
              "      <td>20</td>\n",
              "      <td>1</td>\n",
              "      <td>20.285714</td>\n",
              "      <td>Bin1</td>\n",
              "    </tr>\n",
              "    <tr>\n",
              "      <th>7</th>\n",
              "      <td>21</td>\n",
              "      <td>1</td>\n",
              "      <td>20.285714</td>\n",
              "      <td>Bin1</td>\n",
              "    </tr>\n",
              "    <tr>\n",
              "      <th>8</th>\n",
              "      <td>22</td>\n",
              "      <td>1</td>\n",
              "      <td>20.285714</td>\n",
              "      <td>Bin1</td>\n",
              "    </tr>\n",
              "    <tr>\n",
              "      <th>9</th>\n",
              "      <td>22</td>\n",
              "      <td>1</td>\n",
              "      <td>20.285714</td>\n",
              "      <td>Bin1</td>\n",
              "    </tr>\n",
              "    <tr>\n",
              "      <th>10</th>\n",
              "      <td>25</td>\n",
              "      <td>1</td>\n",
              "      <td>20.285714</td>\n",
              "      <td>Bin1</td>\n",
              "    </tr>\n",
              "    <tr>\n",
              "      <th>11</th>\n",
              "      <td>25</td>\n",
              "      <td>1</td>\n",
              "      <td>20.285714</td>\n",
              "      <td>Bin1</td>\n",
              "    </tr>\n",
              "    <tr>\n",
              "      <th>12</th>\n",
              "      <td>25</td>\n",
              "      <td>1</td>\n",
              "      <td>20.285714</td>\n",
              "      <td>Bin1</td>\n",
              "    </tr>\n",
              "    <tr>\n",
              "      <th>13</th>\n",
              "      <td>25</td>\n",
              "      <td>1</td>\n",
              "      <td>20.285714</td>\n",
              "      <td>Bin1</td>\n",
              "    </tr>\n",
              "    <tr>\n",
              "      <th>14</th>\n",
              "      <td>30</td>\n",
              "      <td>0</td>\n",
              "      <td>34.666667</td>\n",
              "      <td>Bin0</td>\n",
              "    </tr>\n",
              "    <tr>\n",
              "      <th>15</th>\n",
              "      <td>33</td>\n",
              "      <td>0</td>\n",
              "      <td>34.666667</td>\n",
              "      <td>Bin0</td>\n",
              "    </tr>\n",
              "    <tr>\n",
              "      <th>16</th>\n",
              "      <td>33</td>\n",
              "      <td>0</td>\n",
              "      <td>34.666667</td>\n",
              "      <td>Bin0</td>\n",
              "    </tr>\n",
              "    <tr>\n",
              "      <th>17</th>\n",
              "      <td>35</td>\n",
              "      <td>0</td>\n",
              "      <td>34.666667</td>\n",
              "      <td>Bin0</td>\n",
              "    </tr>\n",
              "    <tr>\n",
              "      <th>18</th>\n",
              "      <td>35</td>\n",
              "      <td>0</td>\n",
              "      <td>34.666667</td>\n",
              "      <td>Bin0</td>\n",
              "    </tr>\n",
              "    <tr>\n",
              "      <th>19</th>\n",
              "      <td>35</td>\n",
              "      <td>0</td>\n",
              "      <td>34.666667</td>\n",
              "      <td>Bin0</td>\n",
              "    </tr>\n",
              "    <tr>\n",
              "      <th>20</th>\n",
              "      <td>35</td>\n",
              "      <td>0</td>\n",
              "      <td>34.666667</td>\n",
              "      <td>Bin0</td>\n",
              "    </tr>\n",
              "    <tr>\n",
              "      <th>21</th>\n",
              "      <td>36</td>\n",
              "      <td>0</td>\n",
              "      <td>34.666667</td>\n",
              "      <td>Bin0</td>\n",
              "    </tr>\n",
              "    <tr>\n",
              "      <th>22</th>\n",
              "      <td>40</td>\n",
              "      <td>0</td>\n",
              "      <td>34.666667</td>\n",
              "      <td>Bin0</td>\n",
              "    </tr>\n",
              "    <tr>\n",
              "      <th>23</th>\n",
              "      <td>45</td>\n",
              "      <td>3</td>\n",
              "      <td>47.666667</td>\n",
              "      <td>Bin3</td>\n",
              "    </tr>\n",
              "    <tr>\n",
              "      <th>24</th>\n",
              "      <td>46</td>\n",
              "      <td>3</td>\n",
              "      <td>47.666667</td>\n",
              "      <td>Bin3</td>\n",
              "    </tr>\n",
              "    <tr>\n",
              "      <th>25</th>\n",
              "      <td>52</td>\n",
              "      <td>3</td>\n",
              "      <td>47.666667</td>\n",
              "      <td>Bin3</td>\n",
              "    </tr>\n",
              "    <tr>\n",
              "      <th>26</th>\n",
              "      <td>70</td>\n",
              "      <td>2</td>\n",
              "      <td>70.000000</td>\n",
              "      <td>Bin2</td>\n",
              "    </tr>\n",
              "  </tbody>\n",
              "</table>\n",
              "</div>"
            ],
            "text/plain": [
              "    actual_values  clusters    centres  Bins\n",
              "0              13         1  20.285714  Bin1\n",
              "1              15         1  20.285714  Bin1\n",
              "2              16         1  20.285714  Bin1\n",
              "3              16         1  20.285714  Bin1\n",
              "4              19         1  20.285714  Bin1\n",
              "5              20         1  20.285714  Bin1\n",
              "6              20         1  20.285714  Bin1\n",
              "7              21         1  20.285714  Bin1\n",
              "8              22         1  20.285714  Bin1\n",
              "9              22         1  20.285714  Bin1\n",
              "10             25         1  20.285714  Bin1\n",
              "11             25         1  20.285714  Bin1\n",
              "12             25         1  20.285714  Bin1\n",
              "13             25         1  20.285714  Bin1\n",
              "14             30         0  34.666667  Bin0\n",
              "15             33         0  34.666667  Bin0\n",
              "16             33         0  34.666667  Bin0\n",
              "17             35         0  34.666667  Bin0\n",
              "18             35         0  34.666667  Bin0\n",
              "19             35         0  34.666667  Bin0\n",
              "20             35         0  34.666667  Bin0\n",
              "21             36         0  34.666667  Bin0\n",
              "22             40         0  34.666667  Bin0\n",
              "23             45         3  47.666667  Bin3\n",
              "24             46         3  47.666667  Bin3\n",
              "25             52         3  47.666667  Bin3\n",
              "26             70         2  70.000000  Bin2"
            ]
          },
          "metadata": {}
        },
        {
          "output_type": "stream",
          "name": "stdout",
          "text": [
            "\n",
            "\n"
          ]
        },
        {
          "output_type": "display_data",
          "data": {
            "text/html": [
              "<html>\n",
              "<head><meta charset=\"utf-8\" /></head>\n",
              "<body>\n",
              "    <div>\n",
              "            <script src=\"https://cdnjs.cloudflare.com/ajax/libs/mathjax/2.7.5/MathJax.js?config=TeX-AMS-MML_SVG\"></script><script type=\"text/javascript\">if (window.MathJax) {MathJax.Hub.Config({SVG: {font: \"STIX-Web\"}});}</script>\n",
              "                <script type=\"text/javascript\">window.PlotlyConfig = {MathJaxConfig: 'local'};</script>\n",
              "        <script src=\"https://cdn.plot.ly/plotly-latest.min.js\"></script>    \n",
              "            <div id=\"8ba1299d-eb21-46ec-9671-7297b669051e\" class=\"plotly-graph-div\" style=\"height:525px; width:100%;\"></div>\n",
              "            <script type=\"text/javascript\">\n",
              "                \n",
              "                    window.PLOTLYENV=window.PLOTLYENV || {};\n",
              "                    \n",
              "                if (document.getElementById(\"8ba1299d-eb21-46ec-9671-7297b669051e\")) {\n",
              "                    Plotly.newPlot(\n",
              "                        '8ba1299d-eb21-46ec-9671-7297b669051e',\n",
              "                        [{\"hoverlabel\": {\"namelength\": 0}, \"hovertemplate\": \"x=%{x}<br>y=%{y}<br>color=%{marker.color}\", \"legendgroup\": \"\", \"marker\": {\"color\": [1, 1, 1, 1, 1, 1, 1, 1, 1, 1, 1, 1, 1, 1, 0, 0, 0, 0, 0, 0, 0, 0, 0, 3, 3, 3, 2], \"coloraxis\": \"coloraxis\", \"symbol\": \"circle\"}, \"mode\": \"markers\", \"name\": \"\", \"showlegend\": false, \"type\": \"scatter\", \"x\": [13, 15, 16, 16, 19, 20, 20, 21, 22, 22, 25, 25, 25, 25, 30, 33, 33, 35, 35, 35, 35, 36, 40, 45, 46, 52, 70], \"xaxis\": \"x\", \"y\": [20.285714285714285, 20.285714285714285, 20.285714285714285, 20.285714285714285, 20.285714285714285, 20.285714285714285, 20.285714285714285, 20.285714285714285, 20.285714285714285, 20.285714285714285, 20.285714285714285, 20.285714285714285, 20.285714285714285, 20.285714285714285, 34.666666666666664, 34.666666666666664, 34.666666666666664, 34.666666666666664, 34.666666666666664, 34.666666666666664, 34.666666666666664, 34.666666666666664, 34.666666666666664, 47.666666666666664, 47.666666666666664, 47.666666666666664, 70.0], \"yaxis\": \"y\"}],\n",
              "                        {\"coloraxis\": {\"colorbar\": {\"title\": {\"text\": \"color\"}}, \"colorscale\": [[0.0, \"#0d0887\"], [0.1111111111111111, \"#46039f\"], [0.2222222222222222, \"#7201a8\"], [0.3333333333333333, \"#9c179e\"], [0.4444444444444444, \"#bd3786\"], [0.5555555555555556, \"#d8576b\"], [0.6666666666666666, \"#ed7953\"], [0.7777777777777778, \"#fb9f3a\"], [0.8888888888888888, \"#fdca26\"], [1.0, \"#f0f921\"]]}, \"legend\": {\"tracegroupgap\": 0}, \"margin\": {\"t\": 60}, \"template\": {\"data\": {\"bar\": [{\"error_x\": {\"color\": \"#2a3f5f\"}, \"error_y\": {\"color\": \"#2a3f5f\"}, \"marker\": {\"line\": {\"color\": \"#E5ECF6\", \"width\": 0.5}}, \"type\": \"bar\"}], \"barpolar\": [{\"marker\": {\"line\": {\"color\": \"#E5ECF6\", \"width\": 0.5}}, \"type\": \"barpolar\"}], \"carpet\": [{\"aaxis\": {\"endlinecolor\": \"#2a3f5f\", \"gridcolor\": \"white\", \"linecolor\": \"white\", \"minorgridcolor\": \"white\", \"startlinecolor\": \"#2a3f5f\"}, \"baxis\": {\"endlinecolor\": \"#2a3f5f\", \"gridcolor\": \"white\", \"linecolor\": \"white\", \"minorgridcolor\": \"white\", \"startlinecolor\": \"#2a3f5f\"}, \"type\": \"carpet\"}], \"choropleth\": [{\"colorbar\": {\"outlinewidth\": 0, \"ticks\": \"\"}, \"type\": \"choropleth\"}], \"contour\": [{\"colorbar\": {\"outlinewidth\": 0, \"ticks\": \"\"}, \"colorscale\": [[0.0, \"#0d0887\"], [0.1111111111111111, \"#46039f\"], [0.2222222222222222, \"#7201a8\"], [0.3333333333333333, \"#9c179e\"], [0.4444444444444444, \"#bd3786\"], [0.5555555555555556, \"#d8576b\"], [0.6666666666666666, \"#ed7953\"], [0.7777777777777778, \"#fb9f3a\"], [0.8888888888888888, \"#fdca26\"], [1.0, \"#f0f921\"]], \"type\": \"contour\"}], \"contourcarpet\": [{\"colorbar\": {\"outlinewidth\": 0, \"ticks\": \"\"}, \"type\": \"contourcarpet\"}], \"heatmap\": [{\"colorbar\": {\"outlinewidth\": 0, \"ticks\": \"\"}, \"colorscale\": [[0.0, \"#0d0887\"], [0.1111111111111111, \"#46039f\"], [0.2222222222222222, \"#7201a8\"], [0.3333333333333333, \"#9c179e\"], [0.4444444444444444, \"#bd3786\"], [0.5555555555555556, \"#d8576b\"], [0.6666666666666666, \"#ed7953\"], [0.7777777777777778, \"#fb9f3a\"], [0.8888888888888888, \"#fdca26\"], [1.0, \"#f0f921\"]], \"type\": \"heatmap\"}], \"heatmapgl\": [{\"colorbar\": {\"outlinewidth\": 0, \"ticks\": \"\"}, \"colorscale\": [[0.0, \"#0d0887\"], [0.1111111111111111, \"#46039f\"], [0.2222222222222222, \"#7201a8\"], [0.3333333333333333, \"#9c179e\"], [0.4444444444444444, \"#bd3786\"], [0.5555555555555556, \"#d8576b\"], [0.6666666666666666, \"#ed7953\"], [0.7777777777777778, \"#fb9f3a\"], [0.8888888888888888, \"#fdca26\"], [1.0, \"#f0f921\"]], \"type\": \"heatmapgl\"}], \"histogram\": [{\"marker\": {\"colorbar\": {\"outlinewidth\": 0, \"ticks\": \"\"}}, \"type\": \"histogram\"}], \"histogram2d\": [{\"colorbar\": {\"outlinewidth\": 0, \"ticks\": \"\"}, \"colorscale\": [[0.0, \"#0d0887\"], [0.1111111111111111, \"#46039f\"], [0.2222222222222222, \"#7201a8\"], [0.3333333333333333, \"#9c179e\"], [0.4444444444444444, \"#bd3786\"], [0.5555555555555556, \"#d8576b\"], [0.6666666666666666, \"#ed7953\"], [0.7777777777777778, \"#fb9f3a\"], [0.8888888888888888, \"#fdca26\"], [1.0, \"#f0f921\"]], \"type\": \"histogram2d\"}], \"histogram2dcontour\": [{\"colorbar\": {\"outlinewidth\": 0, \"ticks\": \"\"}, \"colorscale\": [[0.0, \"#0d0887\"], [0.1111111111111111, \"#46039f\"], [0.2222222222222222, \"#7201a8\"], [0.3333333333333333, \"#9c179e\"], [0.4444444444444444, \"#bd3786\"], [0.5555555555555556, \"#d8576b\"], [0.6666666666666666, \"#ed7953\"], [0.7777777777777778, \"#fb9f3a\"], [0.8888888888888888, \"#fdca26\"], [1.0, \"#f0f921\"]], \"type\": \"histogram2dcontour\"}], \"mesh3d\": [{\"colorbar\": {\"outlinewidth\": 0, \"ticks\": \"\"}, \"type\": \"mesh3d\"}], \"parcoords\": [{\"line\": {\"colorbar\": {\"outlinewidth\": 0, \"ticks\": \"\"}}, \"type\": \"parcoords\"}], \"pie\": [{\"automargin\": true, \"type\": \"pie\"}], \"scatter\": [{\"marker\": {\"colorbar\": {\"outlinewidth\": 0, \"ticks\": \"\"}}, \"type\": \"scatter\"}], \"scatter3d\": [{\"line\": {\"colorbar\": {\"outlinewidth\": 0, \"ticks\": \"\"}}, \"marker\": {\"colorbar\": {\"outlinewidth\": 0, \"ticks\": \"\"}}, \"type\": \"scatter3d\"}], \"scattercarpet\": [{\"marker\": {\"colorbar\": {\"outlinewidth\": 0, \"ticks\": \"\"}}, \"type\": \"scattercarpet\"}], \"scattergeo\": [{\"marker\": {\"colorbar\": {\"outlinewidth\": 0, \"ticks\": \"\"}}, \"type\": \"scattergeo\"}], \"scattergl\": [{\"marker\": {\"colorbar\": {\"outlinewidth\": 0, \"ticks\": \"\"}}, \"type\": \"scattergl\"}], \"scattermapbox\": [{\"marker\": {\"colorbar\": {\"outlinewidth\": 0, \"ticks\": \"\"}}, \"type\": \"scattermapbox\"}], \"scatterpolar\": [{\"marker\": {\"colorbar\": {\"outlinewidth\": 0, \"ticks\": \"\"}}, \"type\": \"scatterpolar\"}], \"scatterpolargl\": [{\"marker\": {\"colorbar\": {\"outlinewidth\": 0, \"ticks\": \"\"}}, \"type\": \"scatterpolargl\"}], \"scatterternary\": [{\"marker\": {\"colorbar\": {\"outlinewidth\": 0, \"ticks\": \"\"}}, \"type\": \"scatterternary\"}], \"surface\": [{\"colorbar\": {\"outlinewidth\": 0, \"ticks\": \"\"}, \"colorscale\": [[0.0, \"#0d0887\"], [0.1111111111111111, \"#46039f\"], [0.2222222222222222, \"#7201a8\"], [0.3333333333333333, \"#9c179e\"], [0.4444444444444444, \"#bd3786\"], [0.5555555555555556, \"#d8576b\"], [0.6666666666666666, \"#ed7953\"], [0.7777777777777778, \"#fb9f3a\"], [0.8888888888888888, \"#fdca26\"], [1.0, \"#f0f921\"]], \"type\": \"surface\"}], \"table\": [{\"cells\": {\"fill\": {\"color\": \"#EBF0F8\"}, \"line\": {\"color\": \"white\"}}, \"header\": {\"fill\": {\"color\": \"#C8D4E3\"}, \"line\": {\"color\": \"white\"}}, \"type\": \"table\"}]}, \"layout\": {\"annotationdefaults\": {\"arrowcolor\": \"#2a3f5f\", \"arrowhead\": 0, \"arrowwidth\": 1}, \"coloraxis\": {\"colorbar\": {\"outlinewidth\": 0, \"ticks\": \"\"}}, \"colorscale\": {\"diverging\": [[0, \"#8e0152\"], [0.1, \"#c51b7d\"], [0.2, \"#de77ae\"], [0.3, \"#f1b6da\"], [0.4, \"#fde0ef\"], [0.5, \"#f7f7f7\"], [0.6, \"#e6f5d0\"], [0.7, \"#b8e186\"], [0.8, \"#7fbc41\"], [0.9, \"#4d9221\"], [1, \"#276419\"]], \"sequential\": [[0.0, \"#0d0887\"], [0.1111111111111111, \"#46039f\"], [0.2222222222222222, \"#7201a8\"], [0.3333333333333333, \"#9c179e\"], [0.4444444444444444, \"#bd3786\"], [0.5555555555555556, \"#d8576b\"], [0.6666666666666666, \"#ed7953\"], [0.7777777777777778, \"#fb9f3a\"], [0.8888888888888888, \"#fdca26\"], [1.0, \"#f0f921\"]], \"sequentialminus\": [[0.0, \"#0d0887\"], [0.1111111111111111, \"#46039f\"], [0.2222222222222222, \"#7201a8\"], [0.3333333333333333, \"#9c179e\"], [0.4444444444444444, \"#bd3786\"], [0.5555555555555556, \"#d8576b\"], [0.6666666666666666, \"#ed7953\"], [0.7777777777777778, \"#fb9f3a\"], [0.8888888888888888, \"#fdca26\"], [1.0, \"#f0f921\"]]}, \"colorway\": [\"#636efa\", \"#EF553B\", \"#00cc96\", \"#ab63fa\", \"#FFA15A\", \"#19d3f3\", \"#FF6692\", \"#B6E880\", \"#FF97FF\", \"#FECB52\"], \"font\": {\"color\": \"#2a3f5f\"}, \"geo\": {\"bgcolor\": \"white\", \"lakecolor\": \"white\", \"landcolor\": \"#E5ECF6\", \"showlakes\": true, \"showland\": true, \"subunitcolor\": \"white\"}, \"hoverlabel\": {\"align\": \"left\"}, \"hovermode\": \"closest\", \"mapbox\": {\"style\": \"light\"}, \"paper_bgcolor\": \"white\", \"plot_bgcolor\": \"#E5ECF6\", \"polar\": {\"angularaxis\": {\"gridcolor\": \"white\", \"linecolor\": \"white\", \"ticks\": \"\"}, \"bgcolor\": \"#E5ECF6\", \"radialaxis\": {\"gridcolor\": \"white\", \"linecolor\": \"white\", \"ticks\": \"\"}}, \"scene\": {\"xaxis\": {\"backgroundcolor\": \"#E5ECF6\", \"gridcolor\": \"white\", \"gridwidth\": 2, \"linecolor\": \"white\", \"showbackground\": true, \"ticks\": \"\", \"zerolinecolor\": \"white\"}, \"yaxis\": {\"backgroundcolor\": \"#E5ECF6\", \"gridcolor\": \"white\", \"gridwidth\": 2, \"linecolor\": \"white\", \"showbackground\": true, \"ticks\": \"\", \"zerolinecolor\": \"white\"}, \"zaxis\": {\"backgroundcolor\": \"#E5ECF6\", \"gridcolor\": \"white\", \"gridwidth\": 2, \"linecolor\": \"white\", \"showbackground\": true, \"ticks\": \"\", \"zerolinecolor\": \"white\"}}, \"shapedefaults\": {\"line\": {\"color\": \"#2a3f5f\"}}, \"ternary\": {\"aaxis\": {\"gridcolor\": \"white\", \"linecolor\": \"white\", \"ticks\": \"\"}, \"baxis\": {\"gridcolor\": \"white\", \"linecolor\": \"white\", \"ticks\": \"\"}, \"bgcolor\": \"#E5ECF6\", \"caxis\": {\"gridcolor\": \"white\", \"linecolor\": \"white\", \"ticks\": \"\"}}, \"title\": {\"x\": 0.05}, \"xaxis\": {\"automargin\": true, \"gridcolor\": \"white\", \"linecolor\": \"white\", \"ticks\": \"\", \"title\": {\"standoff\": 15}, \"zerolinecolor\": \"white\", \"zerolinewidth\": 2}, \"yaxis\": {\"automargin\": true, \"gridcolor\": \"white\", \"linecolor\": \"white\", \"ticks\": \"\", \"title\": {\"standoff\": 15}, \"zerolinecolor\": \"white\", \"zerolinewidth\": 2}}}, \"xaxis\": {\"anchor\": \"y\", \"domain\": [0.0, 1.0], \"title\": {\"text\": \"x\"}}, \"yaxis\": {\"anchor\": \"x\", \"domain\": [0.0, 1.0], \"title\": {\"text\": \"y\"}}},\n",
              "                        {\"responsive\": true}\n",
              "                    ).then(function(){\n",
              "                            \n",
              "var gd = document.getElementById('8ba1299d-eb21-46ec-9671-7297b669051e');\n",
              "var x = new MutationObserver(function (mutations, observer) {{\n",
              "        var display = window.getComputedStyle(gd).display;\n",
              "        if (!display || display === 'none') {{\n",
              "            console.log([gd, 'removed!']);\n",
              "            Plotly.purge(gd);\n",
              "            observer.disconnect();\n",
              "        }}\n",
              "}});\n",
              "\n",
              "// Listen for the removal of the full notebook cells\n",
              "var notebookContainer = gd.closest('#notebook-container');\n",
              "if (notebookContainer) {{\n",
              "    x.observe(notebookContainer, {childList: true});\n",
              "}}\n",
              "\n",
              "// Listen for the clearing of the current output cell\n",
              "var outputEl = gd.closest('.output');\n",
              "if (outputEl) {{\n",
              "    x.observe(outputEl, {childList: true});\n",
              "}}\n",
              "\n",
              "                        })\n",
              "                };\n",
              "                \n",
              "            </script>\n",
              "        </div>\n",
              "</body>\n",
              "</html>"
            ]
          },
          "metadata": {}
        }
      ]
    },
    {
      "cell_type": "code",
      "metadata": {
        "colab": {
          "base_uri": "https://localhost:8080/",
          "height": 896
        },
        "id": "ySNs3vd6ENI7",
        "outputId": "3f3f95a9-9658-458d-945f-71b60dde043d"
      },
      "source": [
        ""
      ],
      "execution_count": null,
      "outputs": [
        {
          "output_type": "execute_result",
          "data": {
            "text/html": [
              "<div>\n",
              "<style scoped>\n",
              "    .dataframe tbody tr th:only-of-type {\n",
              "        vertical-align: middle;\n",
              "    }\n",
              "\n",
              "    .dataframe tbody tr th {\n",
              "        vertical-align: top;\n",
              "    }\n",
              "\n",
              "    .dataframe thead th {\n",
              "        text-align: right;\n",
              "    }\n",
              "</style>\n",
              "<table border=\"1\" class=\"dataframe\">\n",
              "  <thead>\n",
              "    <tr style=\"text-align: right;\">\n",
              "      <th></th>\n",
              "      <th>actual_values</th>\n",
              "      <th>clusters</th>\n",
              "      <th>centres</th>\n",
              "      <th>Bins</th>\n",
              "    </tr>\n",
              "  </thead>\n",
              "  <tbody>\n",
              "    <tr>\n",
              "      <th>0</th>\n",
              "      <td>13</td>\n",
              "      <td>1</td>\n",
              "      <td>20.285714</td>\n",
              "      <td>Bin1</td>\n",
              "    </tr>\n",
              "    <tr>\n",
              "      <th>1</th>\n",
              "      <td>15</td>\n",
              "      <td>1</td>\n",
              "      <td>20.285714</td>\n",
              "      <td>Bin1</td>\n",
              "    </tr>\n",
              "    <tr>\n",
              "      <th>2</th>\n",
              "      <td>16</td>\n",
              "      <td>1</td>\n",
              "      <td>20.285714</td>\n",
              "      <td>Bin1</td>\n",
              "    </tr>\n",
              "    <tr>\n",
              "      <th>3</th>\n",
              "      <td>16</td>\n",
              "      <td>1</td>\n",
              "      <td>20.285714</td>\n",
              "      <td>Bin1</td>\n",
              "    </tr>\n",
              "    <tr>\n",
              "      <th>4</th>\n",
              "      <td>19</td>\n",
              "      <td>1</td>\n",
              "      <td>20.285714</td>\n",
              "      <td>Bin1</td>\n",
              "    </tr>\n",
              "    <tr>\n",
              "      <th>5</th>\n",
              "      <td>20</td>\n",
              "      <td>1</td>\n",
              "      <td>20.285714</td>\n",
              "      <td>Bin1</td>\n",
              "    </tr>\n",
              "    <tr>\n",
              "      <th>6</th>\n",
              "      <td>20</td>\n",
              "      <td>1</td>\n",
              "      <td>20.285714</td>\n",
              "      <td>Bin1</td>\n",
              "    </tr>\n",
              "    <tr>\n",
              "      <th>7</th>\n",
              "      <td>21</td>\n",
              "      <td>1</td>\n",
              "      <td>20.285714</td>\n",
              "      <td>Bin1</td>\n",
              "    </tr>\n",
              "    <tr>\n",
              "      <th>8</th>\n",
              "      <td>22</td>\n",
              "      <td>1</td>\n",
              "      <td>20.285714</td>\n",
              "      <td>Bin1</td>\n",
              "    </tr>\n",
              "    <tr>\n",
              "      <th>9</th>\n",
              "      <td>22</td>\n",
              "      <td>1</td>\n",
              "      <td>20.285714</td>\n",
              "      <td>Bin1</td>\n",
              "    </tr>\n",
              "    <tr>\n",
              "      <th>10</th>\n",
              "      <td>25</td>\n",
              "      <td>1</td>\n",
              "      <td>20.285714</td>\n",
              "      <td>Bin1</td>\n",
              "    </tr>\n",
              "    <tr>\n",
              "      <th>11</th>\n",
              "      <td>25</td>\n",
              "      <td>1</td>\n",
              "      <td>20.285714</td>\n",
              "      <td>Bin1</td>\n",
              "    </tr>\n",
              "    <tr>\n",
              "      <th>12</th>\n",
              "      <td>25</td>\n",
              "      <td>1</td>\n",
              "      <td>20.285714</td>\n",
              "      <td>Bin1</td>\n",
              "    </tr>\n",
              "    <tr>\n",
              "      <th>13</th>\n",
              "      <td>25</td>\n",
              "      <td>1</td>\n",
              "      <td>20.285714</td>\n",
              "      <td>Bin1</td>\n",
              "    </tr>\n",
              "    <tr>\n",
              "      <th>14</th>\n",
              "      <td>30</td>\n",
              "      <td>0</td>\n",
              "      <td>34.666667</td>\n",
              "      <td>Bin0</td>\n",
              "    </tr>\n",
              "    <tr>\n",
              "      <th>15</th>\n",
              "      <td>33</td>\n",
              "      <td>0</td>\n",
              "      <td>34.666667</td>\n",
              "      <td>Bin0</td>\n",
              "    </tr>\n",
              "    <tr>\n",
              "      <th>16</th>\n",
              "      <td>33</td>\n",
              "      <td>0</td>\n",
              "      <td>34.666667</td>\n",
              "      <td>Bin0</td>\n",
              "    </tr>\n",
              "    <tr>\n",
              "      <th>17</th>\n",
              "      <td>35</td>\n",
              "      <td>0</td>\n",
              "      <td>34.666667</td>\n",
              "      <td>Bin0</td>\n",
              "    </tr>\n",
              "    <tr>\n",
              "      <th>18</th>\n",
              "      <td>35</td>\n",
              "      <td>0</td>\n",
              "      <td>34.666667</td>\n",
              "      <td>Bin0</td>\n",
              "    </tr>\n",
              "    <tr>\n",
              "      <th>19</th>\n",
              "      <td>35</td>\n",
              "      <td>0</td>\n",
              "      <td>34.666667</td>\n",
              "      <td>Bin0</td>\n",
              "    </tr>\n",
              "    <tr>\n",
              "      <th>20</th>\n",
              "      <td>35</td>\n",
              "      <td>0</td>\n",
              "      <td>34.666667</td>\n",
              "      <td>Bin0</td>\n",
              "    </tr>\n",
              "    <tr>\n",
              "      <th>21</th>\n",
              "      <td>36</td>\n",
              "      <td>0</td>\n",
              "      <td>34.666667</td>\n",
              "      <td>Bin0</td>\n",
              "    </tr>\n",
              "    <tr>\n",
              "      <th>22</th>\n",
              "      <td>40</td>\n",
              "      <td>0</td>\n",
              "      <td>34.666667</td>\n",
              "      <td>Bin0</td>\n",
              "    </tr>\n",
              "    <tr>\n",
              "      <th>23</th>\n",
              "      <td>45</td>\n",
              "      <td>3</td>\n",
              "      <td>47.666667</td>\n",
              "      <td>Bin3</td>\n",
              "    </tr>\n",
              "    <tr>\n",
              "      <th>24</th>\n",
              "      <td>46</td>\n",
              "      <td>3</td>\n",
              "      <td>47.666667</td>\n",
              "      <td>Bin3</td>\n",
              "    </tr>\n",
              "    <tr>\n",
              "      <th>25</th>\n",
              "      <td>52</td>\n",
              "      <td>3</td>\n",
              "      <td>47.666667</td>\n",
              "      <td>Bin3</td>\n",
              "    </tr>\n",
              "    <tr>\n",
              "      <th>26</th>\n",
              "      <td>70</td>\n",
              "      <td>2</td>\n",
              "      <td>70.000000</td>\n",
              "      <td>Bin2</td>\n",
              "    </tr>\n",
              "  </tbody>\n",
              "</table>\n",
              "</div>"
            ],
            "text/plain": [
              "    actual_values  clusters    centres  Bins\n",
              "0              13         1  20.285714  Bin1\n",
              "1              15         1  20.285714  Bin1\n",
              "2              16         1  20.285714  Bin1\n",
              "3              16         1  20.285714  Bin1\n",
              "4              19         1  20.285714  Bin1\n",
              "5              20         1  20.285714  Bin1\n",
              "6              20         1  20.285714  Bin1\n",
              "7              21         1  20.285714  Bin1\n",
              "8              22         1  20.285714  Bin1\n",
              "9              22         1  20.285714  Bin1\n",
              "10             25         1  20.285714  Bin1\n",
              "11             25         1  20.285714  Bin1\n",
              "12             25         1  20.285714  Bin1\n",
              "13             25         1  20.285714  Bin1\n",
              "14             30         0  34.666667  Bin0\n",
              "15             33         0  34.666667  Bin0\n",
              "16             33         0  34.666667  Bin0\n",
              "17             35         0  34.666667  Bin0\n",
              "18             35         0  34.666667  Bin0\n",
              "19             35         0  34.666667  Bin0\n",
              "20             35         0  34.666667  Bin0\n",
              "21             36         0  34.666667  Bin0\n",
              "22             40         0  34.666667  Bin0\n",
              "23             45         3  47.666667  Bin3\n",
              "24             46         3  47.666667  Bin3\n",
              "25             52         3  47.666667  Bin3\n",
              "26             70         2  70.000000  Bin2"
            ]
          },
          "metadata": {},
          "execution_count": 75
        }
      ]
    },
    {
      "cell_type": "code",
      "metadata": {
        "id": "MUgAhYUEE4L7"
      },
      "source": [
        ""
      ],
      "execution_count": null,
      "outputs": []
    }
  ]
}