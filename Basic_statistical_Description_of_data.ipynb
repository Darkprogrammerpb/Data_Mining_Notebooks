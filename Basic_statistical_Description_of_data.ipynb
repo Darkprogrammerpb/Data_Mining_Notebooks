{
  "nbformat": 4,
  "nbformat_minor": 0,
  "metadata": {
    "colab": {
      "name": "Basic statistical Description of data.ipynb",
      "provenance": [],
      "collapsed_sections": []
    },
    "kernelspec": {
      "name": "python3",
      "display_name": "Python 3"
    },
    "language_info": {
      "name": "python"
    }
  },
  "cells": [
    {
      "cell_type": "code",
      "metadata": {
        "id": "0jamy0w2R0Xm"
      },
      "source": [
        "import pandas as pd\n",
        "import numpy as np\n",
        "import matplotlib.pyplot as plt\n",
        "import statsmodels.api as sm\n",
        "import pylab as py"
      ],
      "execution_count": 2,
      "outputs": []
    },
    {
      "cell_type": "markdown",
      "metadata": {
        "id": "Jv7e-APCYqU0"
      },
      "source": [
        "## Calculating descriptive values for a univariate data\n",
        "Here we will be solving the problem 2.2 of textbook"
      ]
    },
    {
      "cell_type": "code",
      "metadata": {
        "colab": {
          "base_uri": "https://localhost:8080/",
          "height": 1000
        },
        "id": "Afavz2dzXxrk",
        "outputId": "b34c2ac7-539b-48a1-8384-893de1f3b42c"
      },
      "source": [
        "age      = [13,15,16,16,19,20,20,21,22,22,25,25,25,25,30,33,33,35,35,35,35,36,40,45,46,52,70]\n",
        "X        = np.array(age)\n",
        "\n",
        "print('-----------------------------------------------------------------------------------------------------------')\n",
        "print(f'Answer to Q2.2.a')\n",
        "print(f'Mean of the data is {np.mean(np.array(age))}')\n",
        "print('\\n')\n",
        "\n",
        "n = len(age)\n",
        "if n%2==0:\n",
        "  median = (X[(n//2)-1]+X[((n//2)+1)-1])/2\n",
        "  print(f'As n is even, the median is {median} with formula being  (X[n/2]+X[(n/2)+1])/2')\n",
        "else:\n",
        "  index2consider = ((n+1)//2)-1\n",
        "  median = X[index2consider]\n",
        "  print(f'As n is odd, the median is {median} with formula being  X[(n+1)/2]')\n",
        "print('-----------------------------------------------------------------------------------------------------------')\n",
        "print('\\n')\n",
        "\n",
        "\n",
        "print('-----------------------------------------------------------------------------------------------------------')\n",
        "print(f'Answer to Q2.2.b')\n",
        "df        = pd.DataFrame(age,columns=['Age'])\n",
        "count_age = df.groupby(['Age']).agg({'Age':'count'}).rename({'Age':'Count_Age'},axis=1).reset_index()\n",
        "count_age = count_age.sort_values(by=['Count_Age'],ascending=False)\n",
        "max_count = count_age['Count_Age'].max()\n",
        "mode_df   = count_age[count_age['Count_Age']==max_count]\n",
        "print(f'The following models are available and we have {mode_df.shape[0]} modes')\n",
        "display(mode_df)\n",
        "print('\\n')\n",
        "modal_vals = mode_df['Age'].values.tolist()\n",
        "print(f'Modal values - {modal_vals}')\n",
        "print('-----------------------------------------------------------------------------------------------------------')\n",
        "print('\\n')\n",
        "\n",
        "\n",
        "print('-----------------------------------------------------------------------------------------------------------')\n",
        "print(f'Answer to Q2.2.c and Q2.2.d')\n",
        "print(f'We will first calculate the lower quantile of data')\n",
        "if n%2==0:\n",
        "  Q1 = ( X[(n//4)-1] + X[((n//4)+1)-1] )/2\n",
        "  print(f'The lower quantile (Q1) for n being even is {Q1}')\n",
        "else:\n",
        "  Q1 = X[((n+1)//4)-1]\n",
        "  print(f'The lower quantile (Q1) for n being odd is {Q1}')\n",
        "\n",
        "print('\\n')\n",
        "print(f'We will now calculate the upper quantile of data')\n",
        "if n%2==0:\n",
        "  Q3 = (X[3*(n//4)-1]+X[3*((n//4)+1)-1])/2\n",
        "  print(f'The upper quantile (Q3) for n being even is {Q3}')\n",
        "else:\n",
        "  Q3 = X[(3*(n+1)//4)-1]\n",
        "  print(f'The upper quantile (Q3) for n being odd is {Q3}')\n",
        "print('\\n')\n",
        "print(f'The midrange of data is {Q3-Q1}')\n",
        "print('-----------------------------------------------------------------------------------------------------------')\n",
        "print('\\n')\n",
        "\n",
        "print('-----------------------------------------------------------------------------------------------------------')\n",
        "print(f'Answer to Q2.2.e')\n",
        "df = pd.DataFrame(X,columns=['age'])\n",
        "print('The 5 point summary is described below')\n",
        "display(df.describe([0.25,0.75,0.5]))\n",
        "print('-----------------------------------------------------------------------------------------------------------')\n",
        "print('\\n')\n",
        "\n",
        "print('-----------------------------------------------------------------------------------------------------------')\n",
        "print(f'Answer to Q2.2.e')\n",
        "fig = plt.figure(figsize =(10, 7))\n",
        "plt.boxplot(X)\n",
        "plt.show()\n",
        "print('-----------------------------------------------------------------------------------------------------------')"
      ],
      "execution_count": 3,
      "outputs": [
        {
          "output_type": "stream",
          "name": "stdout",
          "text": [
            "-----------------------------------------------------------------------------------------------------------\n",
            "Answer to Q2.2.a\n",
            "Mean of the data is 29.962962962962962\n",
            "\n",
            "\n",
            "As n is odd, the median is 25 with formula being  X[(n+1)/2]\n",
            "-----------------------------------------------------------------------------------------------------------\n",
            "\n",
            "\n",
            "-----------------------------------------------------------------------------------------------------------\n",
            "Answer to Q2.2.b\n",
            "The following models are available and we have 2 modes\n"
          ]
        },
        {
          "output_type": "display_data",
          "data": {
            "text/html": [
              "<div>\n",
              "<style scoped>\n",
              "    .dataframe tbody tr th:only-of-type {\n",
              "        vertical-align: middle;\n",
              "    }\n",
              "\n",
              "    .dataframe tbody tr th {\n",
              "        vertical-align: top;\n",
              "    }\n",
              "\n",
              "    .dataframe thead th {\n",
              "        text-align: right;\n",
              "    }\n",
              "</style>\n",
              "<table border=\"1\" class=\"dataframe\">\n",
              "  <thead>\n",
              "    <tr style=\"text-align: right;\">\n",
              "      <th></th>\n",
              "      <th>Age</th>\n",
              "      <th>Count_Age</th>\n",
              "    </tr>\n",
              "  </thead>\n",
              "  <tbody>\n",
              "    <tr>\n",
              "      <th>7</th>\n",
              "      <td>25</td>\n",
              "      <td>4</td>\n",
              "    </tr>\n",
              "    <tr>\n",
              "      <th>10</th>\n",
              "      <td>35</td>\n",
              "      <td>4</td>\n",
              "    </tr>\n",
              "  </tbody>\n",
              "</table>\n",
              "</div>"
            ],
            "text/plain": [
              "    Age  Count_Age\n",
              "7    25          4\n",
              "10   35          4"
            ]
          },
          "metadata": {}
        },
        {
          "output_type": "stream",
          "name": "stdout",
          "text": [
            "\n",
            "\n",
            "Modal values - [25, 35]\n",
            "-----------------------------------------------------------------------------------------------------------\n",
            "\n",
            "\n",
            "-----------------------------------------------------------------------------------------------------------\n",
            "Answer to Q2.2.c and Q2.2.d\n",
            "We will first calculate the lower quantile of data\n",
            "The lower quantile (Q1) for n being odd is 20\n",
            "\n",
            "\n",
            "We will now calculate the upper quantile of data\n",
            "The upper quantile (Q3) for n being odd is 35\n",
            "\n",
            "\n",
            "The midrange of data is 15\n",
            "-----------------------------------------------------------------------------------------------------------\n",
            "\n",
            "\n",
            "-----------------------------------------------------------------------------------------------------------\n",
            "Answer to Q2.2.e\n",
            "The 5 point summary is described below\n"
          ]
        },
        {
          "output_type": "display_data",
          "data": {
            "text/html": [
              "<div>\n",
              "<style scoped>\n",
              "    .dataframe tbody tr th:only-of-type {\n",
              "        vertical-align: middle;\n",
              "    }\n",
              "\n",
              "    .dataframe tbody tr th {\n",
              "        vertical-align: top;\n",
              "    }\n",
              "\n",
              "    .dataframe thead th {\n",
              "        text-align: right;\n",
              "    }\n",
              "</style>\n",
              "<table border=\"1\" class=\"dataframe\">\n",
              "  <thead>\n",
              "    <tr style=\"text-align: right;\">\n",
              "      <th></th>\n",
              "      <th>age</th>\n",
              "    </tr>\n",
              "  </thead>\n",
              "  <tbody>\n",
              "    <tr>\n",
              "      <th>count</th>\n",
              "      <td>27.000000</td>\n",
              "    </tr>\n",
              "    <tr>\n",
              "      <th>mean</th>\n",
              "      <td>29.962963</td>\n",
              "    </tr>\n",
              "    <tr>\n",
              "      <th>std</th>\n",
              "      <td>12.942124</td>\n",
              "    </tr>\n",
              "    <tr>\n",
              "      <th>min</th>\n",
              "      <td>13.000000</td>\n",
              "    </tr>\n",
              "    <tr>\n",
              "      <th>25%</th>\n",
              "      <td>20.500000</td>\n",
              "    </tr>\n",
              "    <tr>\n",
              "      <th>50%</th>\n",
              "      <td>25.000000</td>\n",
              "    </tr>\n",
              "    <tr>\n",
              "      <th>75%</th>\n",
              "      <td>35.000000</td>\n",
              "    </tr>\n",
              "    <tr>\n",
              "      <th>max</th>\n",
              "      <td>70.000000</td>\n",
              "    </tr>\n",
              "  </tbody>\n",
              "</table>\n",
              "</div>"
            ],
            "text/plain": [
              "             age\n",
              "count  27.000000\n",
              "mean   29.962963\n",
              "std    12.942124\n",
              "min    13.000000\n",
              "25%    20.500000\n",
              "50%    25.000000\n",
              "75%    35.000000\n",
              "max    70.000000"
            ]
          },
          "metadata": {}
        },
        {
          "output_type": "stream",
          "name": "stdout",
          "text": [
            "-----------------------------------------------------------------------------------------------------------\n",
            "\n",
            "\n",
            "-----------------------------------------------------------------------------------------------------------\n",
            "Answer to Q2.2.e\n"
          ]
        },
        {
          "output_type": "display_data",
          "data": {
            "image/png": "[encoded data removed]",
            "text/plain": [
              "<Figure size 720x504 with 1 Axes>"
            ]
          },
          "metadata": {
            "needs_background": "light"
          }
        },
        {
          "output_type": "stream",
          "name": "stdout",
          "text": [
            "-----------------------------------------------------------------------------------------------------------\n"
          ]
        }
      ]
    },
    {
      "cell_type": "markdown",
      "metadata": {
        "id": "GdXpYTN2Q6vc"
      },
      "source": [
        "# Median of Grouped Frequency data\n",
        "We will try to find the median of a grouped frequency distribution for textbook Question 2.2 "
      ]
    },
    {
      "cell_type": "code",
      "metadata": {
        "colab": {
          "base_uri": "https://localhost:8080/",
          "height": 1000
        },
        "id": "Xv-2cgNKNtj9",
        "outputId": "df7052a3-5880-4661-cbd6-4215c8fa3d02"
      },
      "source": [
        "lb = [1,6,16,21,51,81]\n",
        "ub = [5,15,20,50,80,100]\n",
        "freq = [200,450,300,1500,700,44]\n",
        "\n",
        "df = pd.DataFrame(columns = ['lower_bound','upper_bound','frequency'])\n",
        "df['lower_bound'] = lb\n",
        "df['upper_bound'] = ub\n",
        "df['frequency']   = freq\n",
        "print('We have a frequency data given as ')\n",
        "display(df)\n",
        "print('\\n')\n",
        "\n",
        "print('---------------------------------------------------------------------------------')\n",
        "print('Interval adjusted dataset is ')\n",
        "df['lower_bound_adjusted'] = df['lower_bound'].apply(lambda z: z-0.5)\n",
        "df['upper_bound_adjusted'] = df['upper_bound'].apply(lambda z: z+0.5)\n",
        "display(df)\n",
        "print('\\n')\n",
        "print('---------------------------------------------------------------------------------')\n",
        "\n",
        "\n",
        "df['Cumulative_freq'] = df['frequency'].cumsum()\n",
        "median_pt             = df['frequency'].sum()//2\n",
        "print(f'The approximate median point is {median_pt}')\n",
        "print('\\n')\n",
        "df['Track']           = np.where(df['Cumulative_freq']>median_pt,1,0)\n",
        "display(df)\n",
        "print('\\n')\n",
        "\n",
        "print('-------------------------------------------------------------------------------')\n",
        "print('We find values that will be used for median calculation')\n",
        "C     = df[df['Track']==0].iloc[-1]['Cumulative_freq']\n",
        "print(f'The cumulative frequency of class preceeding the median class is {C}. It will be denoted by C')\n",
        "\n",
        "subdf = df[df['Track']>0].iloc[0]\n",
        "L     = subdf['lower_bound_adjusted']\n",
        "print(f'The lower bound of median class is {L}. It will be denoted by L\\n')\n",
        "\n",
        "h     = subdf['upper_bound_adjusted']-subdf['lower_bound_adjusted']\n",
        "print(f'The class width of median class is {h}. It will be denoted by h\\n')\n",
        "\n",
        "f     = subdf['frequency']\n",
        "print(f'The frequency of median class is {f}. It will be denoted by f\\n')\n",
        "\n",
        "N     = df['frequency'].sum()\n",
        "print(f'The overall sum of observations is {N}. It will be denoted by N\\n')\n",
        "\n",
        "Median = L+h*(((N/2)-C)/f)\n",
        "print(f'Median is {Median}')\n",
        "print('Formula for calculation of median is Median = L+h*(((N/2)-C)/f)\\n')\n",
        "\n",
        "print('\\n')"
      ],
      "execution_count": 4,
      "outputs": [
        {
          "output_type": "stream",
          "name": "stdout",
          "text": [
            "We have a frequency data given as \n"
          ]
        },
        {
          "output_type": "display_data",
          "data": {
            "text/html": [
              "<div>\n",
              "<style scoped>\n",
              "    .dataframe tbody tr th:only-of-type {\n",
              "        vertical-align: middle;\n",
              "    }\n",
              "\n",
              "    .dataframe tbody tr th {\n",
              "        vertical-align: top;\n",
              "    }\n",
              "\n",
              "    .dataframe thead th {\n",
              "        text-align: right;\n",
              "    }\n",
              "</style>\n",
              "<table border=\"1\" class=\"dataframe\">\n",
              "  <thead>\n",
              "    <tr style=\"text-align: right;\">\n",
              "      <th></th>\n",
              "      <th>lower_bound</th>\n",
              "      <th>upper_bound</th>\n",
              "      <th>frequency</th>\n",
              "    </tr>\n",
              "  </thead>\n",
              "  <tbody>\n",
              "    <tr>\n",
              "      <th>0</th>\n",
              "      <td>1</td>\n",
              "      <td>5</td>\n",
              "      <td>200</td>\n",
              "    </tr>\n",
              "    <tr>\n",
              "      <th>1</th>\n",
              "      <td>6</td>\n",
              "      <td>15</td>\n",
              "      <td>450</td>\n",
              "    </tr>\n",
              "    <tr>\n",
              "      <th>2</th>\n",
              "      <td>16</td>\n",
              "      <td>20</td>\n",
              "      <td>300</td>\n",
              "    </tr>\n",
              "    <tr>\n",
              "      <th>3</th>\n",
              "      <td>21</td>\n",
              "      <td>50</td>\n",
              "      <td>1500</td>\n",
              "    </tr>\n",
              "    <tr>\n",
              "      <th>4</th>\n",
              "      <td>51</td>\n",
              "      <td>80</td>\n",
              "      <td>700</td>\n",
              "    </tr>\n",
              "    <tr>\n",
              "      <th>5</th>\n",
              "      <td>81</td>\n",
              "      <td>100</td>\n",
              "      <td>44</td>\n",
              "    </tr>\n",
              "  </tbody>\n",
              "</table>\n",
              "</div>"
            ],
            "text/plain": [
              "   lower_bound  upper_bound  frequency\n",
              "0            1            5        200\n",
              "1            6           15        450\n",
              "2           16           20        300\n",
              "3           21           50       1500\n",
              "4           51           80        700\n",
              "5           81          100         44"
            ]
          },
          "metadata": {}
        },
        {
          "output_type": "stream",
          "name": "stdout",
          "text": [
            "\n",
            "\n",
            "---------------------------------------------------------------------------------\n",
            "Interval adjusted dataset is \n"
          ]
        },
        {
          "output_type": "display_data",
          "data": {
            "text/html": [
              "<div>\n",
              "<style scoped>\n",
              "    .dataframe tbody tr th:only-of-type {\n",
              "        vertical-align: middle;\n",
              "    }\n",
              "\n",
              "    .dataframe tbody tr th {\n",
              "        vertical-align: top;\n",
              "    }\n",
              "\n",
              "    .dataframe thead th {\n",
              "        text-align: right;\n",
              "    }\n",
              "</style>\n",
              "<table border=\"1\" class=\"dataframe\">\n",
              "  <thead>\n",
              "    <tr style=\"text-align: right;\">\n",
              "      <th></th>\n",
              "      <th>lower_bound</th>\n",
              "      <th>upper_bound</th>\n",
              "      <th>frequency</th>\n",
              "      <th>lower_bound_adjusted</th>\n",
              "      <th>upper_bound_adjusted</th>\n",
              "    </tr>\n",
              "  </thead>\n",
              "  <tbody>\n",
              "    <tr>\n",
              "      <th>0</th>\n",
              "      <td>1</td>\n",
              "      <td>5</td>\n",
              "      <td>200</td>\n",
              "      <td>0.5</td>\n",
              "      <td>5.5</td>\n",
              "    </tr>\n",
              "    <tr>\n",
              "      <th>1</th>\n",
              "      <td>6</td>\n",
              "      <td>15</td>\n",
              "      <td>450</td>\n",
              "      <td>5.5</td>\n",
              "      <td>15.5</td>\n",
              "    </tr>\n",
              "    <tr>\n",
              "      <th>2</th>\n",
              "      <td>16</td>\n",
              "      <td>20</td>\n",
              "      <td>300</td>\n",
              "      <td>15.5</td>\n",
              "      <td>20.5</td>\n",
              "    </tr>\n",
              "    <tr>\n",
              "      <th>3</th>\n",
              "      <td>21</td>\n",
              "      <td>50</td>\n",
              "      <td>1500</td>\n",
              "      <td>20.5</td>\n",
              "      <td>50.5</td>\n",
              "    </tr>\n",
              "    <tr>\n",
              "      <th>4</th>\n",
              "      <td>51</td>\n",
              "      <td>80</td>\n",
              "      <td>700</td>\n",
              "      <td>50.5</td>\n",
              "      <td>80.5</td>\n",
              "    </tr>\n",
              "    <tr>\n",
              "      <th>5</th>\n",
              "      <td>81</td>\n",
              "      <td>100</td>\n",
              "      <td>44</td>\n",
              "      <td>80.5</td>\n",
              "      <td>100.5</td>\n",
              "    </tr>\n",
              "  </tbody>\n",
              "</table>\n",
              "</div>"
            ],
            "text/plain": [
              "   lower_bound  upper_bound  ...  lower_bound_adjusted  upper_bound_adjusted\n",
              "0            1            5  ...                   0.5                   5.5\n",
              "1            6           15  ...                   5.5                  15.5\n",
              "2           16           20  ...                  15.5                  20.5\n",
              "3           21           50  ...                  20.5                  50.5\n",
              "4           51           80  ...                  50.5                  80.5\n",
              "5           81          100  ...                  80.5                 100.5\n",
              "\n",
              "[6 rows x 5 columns]"
            ]
          },
          "metadata": {}
        },
        {
          "output_type": "stream",
          "name": "stdout",
          "text": [
            "\n",
            "\n",
            "---------------------------------------------------------------------------------\n",
            "The approximate median point is 1597\n",
            "\n",
            "\n"
          ]
        },
        {
          "output_type": "display_data",
          "data": {
            "text/html": [
              "<div>\n",
              "<style scoped>\n",
              "    .dataframe tbody tr th:only-of-type {\n",
              "        vertical-align: middle;\n",
              "    }\n",
              "\n",
              "    .dataframe tbody tr th {\n",
              "        vertical-align: top;\n",
              "    }\n",
              "\n",
              "    .dataframe thead th {\n",
              "        text-align: right;\n",
              "    }\n",
              "</style>\n",
              "<table border=\"1\" class=\"dataframe\">\n",
              "  <thead>\n",
              "    <tr style=\"text-align: right;\">\n",
              "      <th></th>\n",
              "      <th>lower_bound</th>\n",
              "      <th>upper_bound</th>\n",
              "      <th>frequency</th>\n",
              "      <th>lower_bound_adjusted</th>\n",
              "      <th>upper_bound_adjusted</th>\n",
              "      <th>Cumulative_freq</th>\n",
              "      <th>Track</th>\n",
              "    </tr>\n",
              "  </thead>\n",
              "  <tbody>\n",
              "    <tr>\n",
              "      <th>0</th>\n",
              "      <td>1</td>\n",
              "      <td>5</td>\n",
              "      <td>200</td>\n",
              "      <td>0.5</td>\n",
              "      <td>5.5</td>\n",
              "      <td>200</td>\n",
              "      <td>0</td>\n",
              "    </tr>\n",
              "    <tr>\n",
              "      <th>1</th>\n",
              "      <td>6</td>\n",
              "      <td>15</td>\n",
              "      <td>450</td>\n",
              "      <td>5.5</td>\n",
              "      <td>15.5</td>\n",
              "      <td>650</td>\n",
              "      <td>0</td>\n",
              "    </tr>\n",
              "    <tr>\n",
              "      <th>2</th>\n",
              "      <td>16</td>\n",
              "      <td>20</td>\n",
              "      <td>300</td>\n",
              "      <td>15.5</td>\n",
              "      <td>20.5</td>\n",
              "      <td>950</td>\n",
              "      <td>0</td>\n",
              "    </tr>\n",
              "    <tr>\n",
              "      <th>3</th>\n",
              "      <td>21</td>\n",
              "      <td>50</td>\n",
              "      <td>1500</td>\n",
              "      <td>20.5</td>\n",
              "      <td>50.5</td>\n",
              "      <td>2450</td>\n",
              "      <td>1</td>\n",
              "    </tr>\n",
              "    <tr>\n",
              "      <th>4</th>\n",
              "      <td>51</td>\n",
              "      <td>80</td>\n",
              "      <td>700</td>\n",
              "      <td>50.5</td>\n",
              "      <td>80.5</td>\n",
              "      <td>3150</td>\n",
              "      <td>1</td>\n",
              "    </tr>\n",
              "    <tr>\n",
              "      <th>5</th>\n",
              "      <td>81</td>\n",
              "      <td>100</td>\n",
              "      <td>44</td>\n",
              "      <td>80.5</td>\n",
              "      <td>100.5</td>\n",
              "      <td>3194</td>\n",
              "      <td>1</td>\n",
              "    </tr>\n",
              "  </tbody>\n",
              "</table>\n",
              "</div>"
            ],
            "text/plain": [
              "   lower_bound  upper_bound  ...  Cumulative_freq  Track\n",
              "0            1            5  ...              200      0\n",
              "1            6           15  ...              650      0\n",
              "2           16           20  ...              950      0\n",
              "3           21           50  ...             2450      1\n",
              "4           51           80  ...             3150      1\n",
              "5           81          100  ...             3194      1\n",
              "\n",
              "[6 rows x 7 columns]"
            ]
          },
          "metadata": {}
        },
        {
          "output_type": "stream",
          "name": "stdout",
          "text": [
            "\n",
            "\n",
            "-------------------------------------------------------------------------------\n",
            "We find values that will be used for median calculation\n",
            "The cumulative frequency of class preceeding the median class is 950.0. It will be denoted by C\n",
            "The lower bound of median class is 20.5. It will be denoted by L\n",
            "\n",
            "The class width of median class is 30.0. It will be denoted by h\n",
            "\n",
            "The frequency of median class is 1500.0. It will be denoted by f\n",
            "\n",
            "The overall sum of observations is 3194. It will be denoted by N\n",
            "\n",
            "Median is 33.44\n",
            "Formula for calculation of median is Median = L+h*(((N/2)-C)/f)\n",
            "\n",
            "\n",
            "\n"
          ]
        }
      ]
    },
    {
      "cell_type": "markdown",
      "metadata": {
        "id": "YH301E9AhwKm"
      },
      "source": [
        "### Median of Bivariate data\n",
        "We will solve question 2.4 from the text book "
      ]
    },
    {
      "cell_type": "code",
      "metadata": {
        "colab": {
          "base_uri": "https://localhost:8080/",
          "height": 1000
        },
        "id": "ZNc2Xe2RVZS_",
        "outputId": "fdb08fdd-8b3f-4fde-ebdf-73a248163adf"
      },
      "source": [
        "age = [23,23,27,27,39,41,47,49,50,52,54,54,56,57,58,58,60,61]\n",
        "fat = [9.5,26.5,7.8,17.8,31.4,25.9,27.4,27.2,31.2,34.6,42.5,28.8,33.4,30.2,34.1,32.9,41.2,35.7]\n",
        "df  = pd.DataFrame(columns = ['AGE','FAT'])\n",
        "df['AGE'] = age\n",
        "df['FAT'] = fat\n",
        "print('-----------------------------------------------------------------------------------------------------------')\n",
        "print('answer to q2.3.a')\n",
        "print(f\"The mean, median, standard deviation for age is {df['AGE'].mean(),df['AGE'].median(),df['AGE'].std()}\")\n",
        "print(f\"The mean, median, standard deviation for fat percentage is {df['FAT'].mean(),df['FAT'].median(),df['FAT'].std()}\")\n",
        "print('-----------------------------------------------------------------------------------------------------------')\n",
        "\n",
        "print('-----------------------------------------------------------------------------------------------------------')\n",
        "print(f'Answer to Q2.3.b')\n",
        "print('The following box-plot is for age')\n",
        "fig = plt.figure(figsize =(10, 7))\n",
        "plt.boxplot(df['AGE'].values)\n",
        "plt.show()\n",
        "print('\\n')\n",
        "print('The following box-plot is for fat percentage')\n",
        "fig = plt.figure(figsize =(10, 7))\n",
        "plt.boxplot(df['FAT'].values)\n",
        "plt.show()\n",
        "print('-----------------------------------------------------------------------------------------------------------')\n",
        "print('\\n')\n",
        "\n",
        "print('-----------------------------------------------------------------------------------------------------------')\n",
        "print(f'Answer to Q2.3.c')\n",
        "print('The scatter plot between fat percentage and age is ')\n",
        "plt.scatter(df['AGE'],df['FAT'])\n",
        "plt.show()\n",
        "print('\\n')\n",
        "\n",
        "print('The Quantile-quantile plot for AGE is ')\n",
        "sm.qqplot(df['AGE'].values)\n",
        "py.show()\n",
        "print('\\n')\n",
        "print('The Quantile-quantile plot for Fat percentage is ')\n",
        "sm.qqplot(df['FAT'].values)\n",
        "py.show()\n",
        "print('\\n')\n",
        "print('-----------------------------------------------------------------------------------------------------------')\n"
      ],
      "execution_count": 5,
      "outputs": [
        {
          "output_type": "stream",
          "name": "stdout",
          "text": [
            "-----------------------------------------------------------------------------------------------------------\n",
            "answer to q2.3.a\n",
            "The mean, median, standard deviation for age is (46.44444444444444, 51.0, 13.218624215242327)\n",
            "The mean, median, standard deviation for fat percentage is (28.783333333333328, 30.7, 9.2543948224296)\n",
            "-----------------------------------------------------------------------------------------------------------\n",
            "-----------------------------------------------------------------------------------------------------------\n",
            "Answer to Q2.3.b\n",
            "The following box-plot is for age\n"
          ]
        },
        {
          "output_type": "display_data",
          "data": {
            "image/png": "[encoded data removed]",
            "text/plain": [
              "<Figure size 720x504 with 1 Axes>"
            ]
          },
          "metadata": {
            "needs_background": "light"
          }
        },
        {
          "output_type": "stream",
          "name": "stdout",
          "text": [
            "\n",
            "\n",
            "The following box-plot is for fat percentage\n"
          ]
        },
        {
          "output_type": "display_data",
          "data": {
            "image/png": "[encoded data removed]",
            "text/plain": [
              "<Figure size 720x504 with 1 Axes>"
            ]
          },
          "metadata": {
            "needs_background": "light"
          }
        },
        {
          "output_type": "stream",
          "name": "stdout",
          "text": [
            "-----------------------------------------------------------------------------------------------------------\n",
            "\n",
            "\n",
            "-----------------------------------------------------------------------------------------------------------\n",
            "Answer to Q2.3.c\n",
            "The scatter plot between fat percentage and age is \n"
          ]
        },
        {
          "output_type": "display_data",
          "data": {
            "image/png": "[encoded data removed]",
            "text/plain": [
              "<Figure size 432x288 with 1 Axes>"
            ]
          },
          "metadata": {
            "needs_background": "light"
          }
        },
        {
          "output_type": "stream",
          "name": "stdout",
          "text": [
            "\n",
            "\n",
            "The Quantile-quantile plot for AGE is \n"
          ]
        },
        {
          "output_type": "display_data",
          "data": {
            "image/png": "[encoded data removed]",
            "text/plain": [
              "<Figure size 432x288 with 1 Axes>"
            ]
          },
          "metadata": {
            "needs_background": "light"
          }
        },
        {
          "output_type": "stream",
          "name": "stdout",
          "text": [
            "\n",
            "\n",
            "The Quantile-quantile plot for Fat percentage is \n"
          ]
        },
        {
          "output_type": "display_data",
          "data": {
            "image/png": "[encoded data removed]",
            "text/plain": [
              "<Figure size 432x288 with 1 Axes>"
            ]
          },
          "metadata": {
            "needs_background": "light"
          }
        },
        {
          "output_type": "stream",
          "name": "stdout",
          "text": [
            "\n",
            "\n",
            "-----------------------------------------------------------------------------------------------------------\n"
          ]
        }
      ]
    },
    {
      "cell_type": "code",
      "metadata": {
        "id": "AoJ7JiGuigI3"
      },
      "source": [
        ""
      ],
      "execution_count": null,
      "outputs": []
    }
  ]
}