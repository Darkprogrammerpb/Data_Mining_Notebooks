{
  "cells": [
    {
      "cell_type": "code",
      "execution_count": null,
      "metadata": {
        "id": "xuHwNlQEiyKX"
      },
      "outputs": [],
      "source": [
        "import pandas as pd\n",
        "import numpy as np"
      ]
    },
    {
      "cell_type": "code",
      "execution_count": null,
      "metadata": {
        "colab": {
          "base_uri": "https://localhost:8080/",
          "height": 174
        },
        "id": "p_GoNpjViv8G",
        "outputId": "ed7effae-4efd-431f-bce1-d96430304bb7"
      },
      "outputs": [
        {
          "data": {
            "text/html": [
              "<div>\n",
              "<style scoped>\n",
              "    .dataframe tbody tr th:only-of-type {\n",
              "        vertical-align: middle;\n",
              "    }\n",
              "\n",
              "    .dataframe tbody tr th {\n",
              "        vertical-align: top;\n",
              "    }\n",
              "\n",
              "    .dataframe thead th {\n",
              "        text-align: right;\n",
              "    }\n",
              "</style>\n",
              "<table border=\"1\" class=\"dataframe\">\n",
              "  <thead>\n",
              "    <tr style=\"text-align: right;\">\n",
              "      <th></th>\n",
              "      <th>Name</th>\n",
              "      <th>Income</th>\n",
              "      <th>Profession</th>\n",
              "      <th>Mother Tongue</th>\n",
              "      <th>Native Place</th>\n",
              "    </tr>\n",
              "  </thead>\n",
              "  <tbody>\n",
              "    <tr>\n",
              "      <th>0</th>\n",
              "      <td>ram</td>\n",
              "      <td>0.67</td>\n",
              "      <td>Doctor</td>\n",
              "      <td>Bengali</td>\n",
              "      <td>1</td>\n",
              "    </tr>\n",
              "    <tr>\n",
              "      <th>1</th>\n",
              "      <td>balram</td>\n",
              "      <td>0.00</td>\n",
              "      <td>Data Scientist</td>\n",
              "      <td>Hindi</td>\n",
              "      <td>2</td>\n",
              "    </tr>\n",
              "    <tr>\n",
              "      <th>2</th>\n",
              "      <td>bharat</td>\n",
              "      <td>0.33</td>\n",
              "      <td>Carpenter</td>\n",
              "      <td>Hindi</td>\n",
              "      <td>3</td>\n",
              "    </tr>\n",
              "    <tr>\n",
              "      <th>3</th>\n",
              "      <td>kishan</td>\n",
              "      <td>1.00</td>\n",
              "      <td>Doctor</td>\n",
              "      <td>Bhojpuri</td>\n",
              "      <td>4</td>\n",
              "    </tr>\n",
              "  </tbody>\n",
              "</table>\n",
              "</div>"
            ],
            "text/plain": [
              "     Name  Income      Profession Mother Tongue  Native Place\n",
              "0     ram    0.67          Doctor       Bengali             1\n",
              "1  balram    0.00  Data Scientist         Hindi             2\n",
              "2  bharat    0.33       Carpenter         Hindi             3\n",
              "3  kishan    1.00          Doctor      Bhojpuri             4"
            ]
          },
          "execution_count": 2,
          "metadata": {},
          "output_type": "execute_result"
        }
      ],
      "source": [
        "test1 = [0.67,0,0.33,1]\n",
        "test2 = ['Doctor','Data Scientist','Carpenter','Doctor']\n",
        "test3 = ['Bengali','Hindi','Hindi','Bhojpuri']\n",
        "test4 = [1,2,3,4]\n",
        "name  = ['ram','balram','bharat','kishan']\n",
        "df    = pd.DataFrame(columns = ['Name','Income','Profession','Mother Tongue','Native Place'])\n",
        "df['Name']               = name\n",
        "df['Income']             = test1\n",
        "df['Profession']         = test2\n",
        "df['Mother Tongue']      = test3\n",
        "df['Native Place']       = test4\n",
        "df"
      ]
    },
    {
      "cell_type": "markdown",
      "metadata": {
        "id": "Ynky2s6EjuY9"
      },
      "source": [
        "# Step 1:- Dissimilarity of nominal attribute -Profession"
      ]
    },
    {
      "cell_type": "code",
      "execution_count": null,
      "metadata": {
        "colab": {
          "base_uri": "https://localhost:8080/",
          "height": 296
        },
        "id": "kirw11SxjlW7",
        "outputId": "c786f73e-8061-4726-e883-fad84032f3f4"
      },
      "outputs": [
        {
          "name": "stdout",
          "output_type": "stream",
          "text": [
            "----------------------------------------------------------------------------------------------------------\n",
            "We have the following list of nominal attributes\n",
            "['Doctor' 'Data Scientist' 'Carpenter' 'Doctor']\n",
            "\n",
            "\n",
            "----------------------------------------------------------------------------------------------------------\n",
            "The dissimilarity matrix attained where 0 refers to similarity and 1 refers to dissimilarity is given as \n"
          ]
        },
        {
          "data": {
            "text/html": [
              "<div>\n",
              "<style scoped>\n",
              "    .dataframe tbody tr th:only-of-type {\n",
              "        vertical-align: middle;\n",
              "    }\n",
              "\n",
              "    .dataframe tbody tr th {\n",
              "        vertical-align: top;\n",
              "    }\n",
              "\n",
              "    .dataframe thead th {\n",
              "        text-align: right;\n",
              "    }\n",
              "</style>\n",
              "<table border=\"1\" class=\"dataframe\">\n",
              "  <thead>\n",
              "    <tr style=\"text-align: right;\">\n",
              "      <th></th>\n",
              "      <th>object_1</th>\n",
              "      <th>object_2</th>\n",
              "      <th>object_3</th>\n",
              "      <th>object_4</th>\n",
              "    </tr>\n",
              "  </thead>\n",
              "  <tbody>\n",
              "    <tr>\n",
              "      <th>object_1</th>\n",
              "      <td>1.0</td>\n",
              "      <td>1.0</td>\n",
              "      <td>1.0</td>\n",
              "      <td>0.0</td>\n",
              "    </tr>\n",
              "    <tr>\n",
              "      <th>object_2</th>\n",
              "      <td>1.0</td>\n",
              "      <td>1.0</td>\n",
              "      <td>1.0</td>\n",
              "      <td>1.0</td>\n",
              "    </tr>\n",
              "    <tr>\n",
              "      <th>object_3</th>\n",
              "      <td>1.0</td>\n",
              "      <td>1.0</td>\n",
              "      <td>1.0</td>\n",
              "      <td>1.0</td>\n",
              "    </tr>\n",
              "    <tr>\n",
              "      <th>object_4</th>\n",
              "      <td>0.0</td>\n",
              "      <td>1.0</td>\n",
              "      <td>1.0</td>\n",
              "      <td>1.0</td>\n",
              "    </tr>\n",
              "  </tbody>\n",
              "</table>\n",
              "</div>"
            ],
            "text/plain": [
              "          object_1  object_2  object_3  object_4\n",
              "object_1       1.0       1.0       1.0       0.0\n",
              "object_2       1.0       1.0       1.0       1.0\n",
              "object_3       1.0       1.0       1.0       1.0\n",
              "object_4       0.0       1.0       1.0       1.0"
            ]
          },
          "metadata": {},
          "output_type": "display_data"
        }
      ],
      "source": [
        "nominal_column = 'Profession'\n",
        "test1 = df[nominal_column].values\n",
        "print('----------------------------------------------------------------------------------------------------------')\n",
        "print('We have the following list of nominal attributes')\n",
        "print(df[nominal_column].values)\n",
        "print('\\n')\n",
        "test1       = df[nominal_column].values\n",
        "dis_sim     = np.ones((len(test1),len(test1)))\n",
        "dis_sim     = np.ones((len(test1),len(test1)))\n",
        "for i in range(len(test1)):\n",
        "  for j in range(len(test1)):\n",
        "    if i<j:\n",
        "      if test1[i]==test1[j]:\n",
        "        dis_sim[i][j] = 0\n",
        "        dis_sim[j][i] = 0\n",
        "\n",
        "dis_sim_profession = dis_sim.copy()\n",
        "print('----------------------------------------------------------------------------------------------------------')\n",
        "print('The dissimilarity matrix attained where 0 refers to similarity and 1 refers to dissimilarity is given as ')\n",
        "dissimilarity_nominal = pd.DataFrame(dis_sim,columns = [f'object_{i+1}' for i in range(len(test1))], index = [f'object_{i+1}' for i in range(len(test1))])\n",
        "display(dissimilarity_nominal)\n"
      ]
    },
    {
      "cell_type": "markdown",
      "metadata": {
        "id": "IDsUUtcWkGqd"
      },
      "source": [
        "## Step2:- Dissimilarity calculation for nominal attribute - Mother Tongue"
      ]
    },
    {
      "cell_type": "code",
      "execution_count": null,
      "metadata": {
        "colab": {
          "base_uri": "https://localhost:8080/",
          "height": 296
        },
        "id": "BTGQwykJkF1s",
        "outputId": "6fe49931-782f-471f-e732-7d282d594942"
      },
      "outputs": [
        {
          "name": "stdout",
          "output_type": "stream",
          "text": [
            "----------------------------------------------------------------------------------------------------------\n",
            "We have the following list of nominal attributes\n",
            "['Bengali' 'Hindi' 'Hindi' 'Bhojpuri']\n",
            "\n",
            "\n",
            "----------------------------------------------------------------------------------------------------------\n",
            "The dissimilarity matrix attained where 0 refers to similarity and 1 refers to dissimilarity is given as \n"
          ]
        },
        {
          "data": {
            "text/html": [
              "<div>\n",
              "<style scoped>\n",
              "    .dataframe tbody tr th:only-of-type {\n",
              "        vertical-align: middle;\n",
              "    }\n",
              "\n",
              "    .dataframe tbody tr th {\n",
              "        vertical-align: top;\n",
              "    }\n",
              "\n",
              "    .dataframe thead th {\n",
              "        text-align: right;\n",
              "    }\n",
              "</style>\n",
              "<table border=\"1\" class=\"dataframe\">\n",
              "  <thead>\n",
              "    <tr style=\"text-align: right;\">\n",
              "      <th></th>\n",
              "      <th>object_1</th>\n",
              "      <th>object_2</th>\n",
              "      <th>object_3</th>\n",
              "      <th>object_4</th>\n",
              "    </tr>\n",
              "  </thead>\n",
              "  <tbody>\n",
              "    <tr>\n",
              "      <th>object_1</th>\n",
              "      <td>1.0</td>\n",
              "      <td>1.0</td>\n",
              "      <td>1.0</td>\n",
              "      <td>1.0</td>\n",
              "    </tr>\n",
              "    <tr>\n",
              "      <th>object_2</th>\n",
              "      <td>1.0</td>\n",
              "      <td>1.0</td>\n",
              "      <td>0.0</td>\n",
              "      <td>1.0</td>\n",
              "    </tr>\n",
              "    <tr>\n",
              "      <th>object_3</th>\n",
              "      <td>1.0</td>\n",
              "      <td>0.0</td>\n",
              "      <td>1.0</td>\n",
              "      <td>1.0</td>\n",
              "    </tr>\n",
              "    <tr>\n",
              "      <th>object_4</th>\n",
              "      <td>1.0</td>\n",
              "      <td>1.0</td>\n",
              "      <td>1.0</td>\n",
              "      <td>1.0</td>\n",
              "    </tr>\n",
              "  </tbody>\n",
              "</table>\n",
              "</div>"
            ],
            "text/plain": [
              "          object_1  object_2  object_3  object_4\n",
              "object_1       1.0       1.0       1.0       1.0\n",
              "object_2       1.0       1.0       0.0       1.0\n",
              "object_3       1.0       0.0       1.0       1.0\n",
              "object_4       1.0       1.0       1.0       1.0"
            ]
          },
          "metadata": {},
          "output_type": "display_data"
        }
      ],
      "source": [
        "nominal_column = 'Mother Tongue'\n",
        "test1 = df[nominal_column].values\n",
        "print('----------------------------------------------------------------------------------------------------------')\n",
        "print('We have the following list of nominal attributes')\n",
        "print(df[nominal_column].values)\n",
        "print('\\n')\n",
        "test1       = df[nominal_column].values\n",
        "dis_sim     = np.ones((len(test1),len(test1)))\n",
        "dis_sim     = np.ones((len(test1),len(test1)))\n",
        "for i in range(len(test1)):\n",
        "  for j in range(len(test1)):\n",
        "    if i<j:\n",
        "      if test1[i]==test1[j]:\n",
        "        dis_sim[i][j] = 0\n",
        "        dis_sim[j][i] = 0\n",
        "\n",
        "dis_sim_mother_tongue = dis_sim.copy()\n",
        "print('----------------------------------------------------------------------------------------------------------')\n",
        "print('The dissimilarity matrix attained where 0 refers to similarity and 1 refers to dissimilarity is given as ')\n",
        "dissimilarity_nominal = pd.DataFrame(dis_sim,columns = [f'object_{i+1}' for i in range(len(test1))], index = [f'object_{i+1}' for i in range(len(test1))])\n",
        "display(dissimilarity_nominal)\n"
      ]
    },
    {
      "cell_type": "markdown",
      "metadata": {
        "id": "X6p8pdudkej9"
      },
      "source": [
        "# Step 3: Dissimilarity based on ordinal attribute native place"
      ]
    },
    {
      "cell_type": "code",
      "execution_count": null,
      "metadata": {
        "colab": {
          "base_uri": "https://localhost:8080/",
          "height": 505
        },
        "id": "lTgZ144Zj37z",
        "outputId": "707fde15-722e-4521-a099-08cd24cb7079"
      },
      "outputs": [
        {
          "name": "stdout",
          "output_type": "stream",
          "text": [
            "--------------------------------------------------------------------------------------------------------------------------------------------------------\n",
            "Step1\n",
            "The dictionary to be used for label encoding is {4: 4, 3: 3, 2: 2, 1: 1}\n",
            "\n",
            "\n",
            "The label encoded value for [1 2 3 4] will be [1, 2, 3, 4]\n",
            "\n",
            "\n",
            "--------------------------------------------------------------------------------------------------------------------------------------------------------\n",
            "Step 2\n",
            "We find the distinct number of values in encoded list ie., M\n",
            "The value of M is 4\n",
            "--------------------------------------------------------------------------------------------------------------------------------------------------------\n",
            "Step3\n",
            "The ordinal list [1 2 3 4] which was label encoded to be [1, 2, 3, 4] is now normalized using the formula mentioned to get [0.         0.33333333 0.66666667 1.        ] \n",
            "\n",
            "--------------------------------------------------------------------------------------------------------------------------------------------------------\n",
            "Step4\n",
            "We calculated the distance between successive points to get the distance matrix as \n"
          ]
        },
        {
          "data": {
            "text/html": [
              "<div>\n",
              "<style scoped>\n",
              "    .dataframe tbody tr th:only-of-type {\n",
              "        vertical-align: middle;\n",
              "    }\n",
              "\n",
              "    .dataframe tbody tr th {\n",
              "        vertical-align: top;\n",
              "    }\n",
              "\n",
              "    .dataframe thead th {\n",
              "        text-align: right;\n",
              "    }\n",
              "</style>\n",
              "<table border=\"1\" class=\"dataframe\">\n",
              "  <thead>\n",
              "    <tr style=\"text-align: right;\">\n",
              "      <th></th>\n",
              "      <th>1</th>\n",
              "      <th>2</th>\n",
              "      <th>3</th>\n",
              "      <th>4</th>\n",
              "    </tr>\n",
              "  </thead>\n",
              "  <tbody>\n",
              "    <tr>\n",
              "      <th>1</th>\n",
              "      <td>0.000000</td>\n",
              "      <td>0.333333</td>\n",
              "      <td>0.666667</td>\n",
              "      <td>1.000000</td>\n",
              "    </tr>\n",
              "    <tr>\n",
              "      <th>2</th>\n",
              "      <td>0.333333</td>\n",
              "      <td>0.000000</td>\n",
              "      <td>0.333333</td>\n",
              "      <td>0.666667</td>\n",
              "    </tr>\n",
              "    <tr>\n",
              "      <th>3</th>\n",
              "      <td>0.666667</td>\n",
              "      <td>0.333333</td>\n",
              "      <td>0.000000</td>\n",
              "      <td>0.333333</td>\n",
              "    </tr>\n",
              "    <tr>\n",
              "      <th>4</th>\n",
              "      <td>1.000000</td>\n",
              "      <td>0.666667</td>\n",
              "      <td>0.333333</td>\n",
              "      <td>0.000000</td>\n",
              "    </tr>\n",
              "  </tbody>\n",
              "</table>\n",
              "</div>"
            ],
            "text/plain": [
              "          1         2         3         4\n",
              "1  0.000000  0.333333  0.666667  1.000000\n",
              "2  0.333333  0.000000  0.333333  0.666667\n",
              "3  0.666667  0.333333  0.000000  0.333333\n",
              "4  1.000000  0.666667  0.333333  0.000000"
            ]
          },
          "metadata": {},
          "output_type": "display_data"
        }
      ],
      "source": [
        "ordinal_column = 'Native Place'\n",
        "test2      = df[ordinal_column].values\n",
        "print('--------------------------------------------------------------------------------------------------------------------------------------------------------')\n",
        "label_encode_ordinal = {4:4,3:3,2:2,1:1}\n",
        "\n",
        "############# update anything above this line ######################\n",
        "\n",
        "print('Step1')\n",
        "print(f'The dictionary to be used for label encoding is {label_encode_ordinal}')\n",
        "print('\\n')\n",
        "\n",
        "test2_enc            = [label_encode_ordinal[i] for i in test2]\n",
        "print(f'The label encoded value for {test2} will be {test2_enc}')\n",
        "print('\\n')\n",
        "\n",
        "\n",
        "print('--------------------------------------------------------------------------------------------------------------------------------------------------------')\n",
        "print('Step 2')\n",
        "print('We find the distinct number of values in encoded list ie., M')\n",
        "M                    = len(set(test2_enc))\n",
        "print(f'The value of M is {M}')\n",
        "print('--------------------------------------------------------------------------------------------------------------------------------------------------------')\n",
        "\n",
        "print('Step3')\n",
        "ordinal_list_norm    = np.float_(np.array([(val-1)/(M-1) for val in test2_enc]))\n",
        "print(f'The ordinal list {test2} which was label encoded to be {test2_enc} is now normalized using the formula mentioned to get {ordinal_list_norm} \\n')\n",
        "print('--------------------------------------------------------------------------------------------------------------------------------------------------------')\n",
        "\n",
        "print('Step4')\n",
        "dissimilarity_ordinal          = np.zeros((len(ordinal_list_norm),(len(ordinal_list_norm))))\n",
        "for i in range(dissimilarity_ordinal.shape[0]):\n",
        "  for j in range(dissimilarity_ordinal.shape[1]):\n",
        "    dissimilarity_ordinal[i][j] = np.sqrt((ordinal_list_norm[i]-ordinal_list_norm[j])**2)\n",
        "print('We calculated the distance between successive points to get the distance matrix as ')\n",
        "display(pd.DataFrame(dissimilarity_ordinal,columns = test2,index=test2))"
      ]
    },
    {
      "cell_type": "markdown",
      "metadata": {
        "id": "xKxZFiLek0pm"
      },
      "source": [
        "## Step4: Finding dissimilarity based on numerical attribute Income"
      ]
    },
    {
      "cell_type": "code",
      "execution_count": null,
      "metadata": {
        "colab": {
          "base_uri": "https://localhost:8080/",
          "height": 227
        },
        "id": "BdMlfGmakyWf",
        "outputId": "81b3090f-ae7c-4471-eca2-827f3be95a0d"
      },
      "outputs": [
        {
          "name": "stdout",
          "output_type": "stream",
          "text": [
            "[0.67, 0.0, 0.33, 1.0]\n",
            "--------------------------------------------------------------------------------------------------------------------------------------------------------\n",
            "We calculated the distance between successive points to get the distance matrix as \n"
          ]
        },
        {
          "data": {
            "text/html": [
              "<div>\n",
              "<style scoped>\n",
              "    .dataframe tbody tr th:only-of-type {\n",
              "        vertical-align: middle;\n",
              "    }\n",
              "\n",
              "    .dataframe tbody tr th {\n",
              "        vertical-align: top;\n",
              "    }\n",
              "\n",
              "    .dataframe thead th {\n",
              "        text-align: right;\n",
              "    }\n",
              "</style>\n",
              "<table border=\"1\" class=\"dataframe\">\n",
              "  <thead>\n",
              "    <tr style=\"text-align: right;\">\n",
              "      <th></th>\n",
              "      <th>0.67</th>\n",
              "      <th>0.00</th>\n",
              "      <th>0.33</th>\n",
              "      <th>1.00</th>\n",
              "    </tr>\n",
              "  </thead>\n",
              "  <tbody>\n",
              "    <tr>\n",
              "      <th>0.67</th>\n",
              "      <td>0.00</td>\n",
              "      <td>0.67</td>\n",
              "      <td>0.34</td>\n",
              "      <td>0.33</td>\n",
              "    </tr>\n",
              "    <tr>\n",
              "      <th>0.00</th>\n",
              "      <td>0.67</td>\n",
              "      <td>0.00</td>\n",
              "      <td>0.33</td>\n",
              "      <td>1.00</td>\n",
              "    </tr>\n",
              "    <tr>\n",
              "      <th>0.33</th>\n",
              "      <td>0.34</td>\n",
              "      <td>0.33</td>\n",
              "      <td>0.00</td>\n",
              "      <td>0.67</td>\n",
              "    </tr>\n",
              "    <tr>\n",
              "      <th>1.00</th>\n",
              "      <td>0.33</td>\n",
              "      <td>1.00</td>\n",
              "      <td>0.67</td>\n",
              "      <td>0.00</td>\n",
              "    </tr>\n",
              "  </tbody>\n",
              "</table>\n",
              "</div>"
            ],
            "text/plain": [
              "      0.67  0.00  0.33  1.00\n",
              "0.67  0.00  0.67  0.34  0.33\n",
              "0.00  0.67  0.00  0.33  1.00\n",
              "0.33  0.34  0.33  0.00  0.67\n",
              "1.00  0.33  1.00  0.67  0.00"
            ]
          },
          "metadata": {},
          "output_type": "display_data"
        }
      ],
      "source": [
        "num_column = 'Income'\n",
        "test3      = df[num_column].values\n",
        "max        = 1\n",
        "min        = 0\n",
        "\n",
        "############ Update everything above this line ###########\n",
        "\n",
        "norm_test3 = [(val-min)/(max-min) for val in test3]\n",
        "print(norm_test3)\n",
        "print('--------------------------------------------------------------------------------------------------------------------------------------------------------')\n",
        "\n",
        "dissimilarity_numerical          = np.zeros((len(norm_test3),(len(norm_test3))))\n",
        "for i in range(dissimilarity_numerical.shape[0]):\n",
        "  for j in range(dissimilarity_numerical.shape[1]):\n",
        "    dissimilarity_numerical[i][j] = np.sqrt((norm_test3[i]-norm_test3[j])**2)\n",
        "print('We calculated the distance between successive points to get the distance matrix as ')\n",
        "display(pd.DataFrame(dissimilarity_numerical,columns = test3,index=test3))"
      ]
    },
    {
      "cell_type": "markdown",
      "metadata": {
        "id": "23uojp4olJ58"
      },
      "source": [
        "## Finding overall dissimilarity"
      ]
    },
    {
      "cell_type": "code",
      "execution_count": null,
      "metadata": {
        "colab": {
          "base_uri": "https://localhost:8080/",
          "height": 572
        },
        "id": "r6F8orkolIdK",
        "outputId": "52fbd13e-b1e2-4710-9390-9ef2c0145272"
      },
      "outputs": [
        {
          "name": "stdout",
          "output_type": "stream",
          "text": [
            "----------------------------------------------------------------------\n",
            "We have similarity matrix corresponding to nominal attribute - Profession\n"
          ]
        },
        {
          "data": {
            "text/plain": [
              "array([[1., 1., 1., 0.],\n",
              "       [1., 1., 1., 1.],\n",
              "       [1., 1., 1., 1.],\n",
              "       [0., 1., 1., 1.]])"
            ]
          },
          "metadata": {},
          "output_type": "display_data"
        },
        {
          "name": "stdout",
          "output_type": "stream",
          "text": [
            "\n",
            "\n",
            "----------------------------------------------------------------------\n",
            "We have similarity matrix corresponding to ordinal attribute - Mother Tongue\n"
          ]
        },
        {
          "data": {
            "text/plain": [
              "array([[1., 1., 1., 1.],\n",
              "       [1., 1., 0., 1.],\n",
              "       [1., 0., 1., 1.],\n",
              "       [1., 1., 1., 1.]])"
            ]
          },
          "metadata": {},
          "output_type": "display_data"
        },
        {
          "name": "stdout",
          "output_type": "stream",
          "text": [
            "\n",
            "\n",
            "----------------------------------------------------------------------\n",
            "We have similarity matrix corresponding to numerical attribute - Income\n"
          ]
        },
        {
          "data": {
            "text/plain": [
              "array([[0.  , 0.67, 0.34, 0.33],\n",
              "       [0.67, 0.  , 0.33, 1.  ],\n",
              "       [0.34, 0.33, 0.  , 0.67],\n",
              "       [0.33, 1.  , 0.67, 0.  ]])"
            ]
          },
          "metadata": {},
          "output_type": "display_data"
        },
        {
          "name": "stdout",
          "output_type": "stream",
          "text": [
            "\n",
            "\n",
            "----------------------------------------------------------------------\n",
            "We have similarity matrix corresponding to ordinal attribute -Native Place\n"
          ]
        },
        {
          "data": {
            "text/plain": [
              "array([[0.        , 0.33333333, 0.66666667, 1.        ],\n",
              "       [0.33333333, 0.        , 0.33333333, 0.66666667],\n",
              "       [0.66666667, 0.33333333, 0.        , 0.33333333],\n",
              "       [1.        , 0.66666667, 0.33333333, 0.        ]])"
            ]
          },
          "metadata": {},
          "output_type": "display_data"
        },
        {
          "name": "stdout",
          "output_type": "stream",
          "text": [
            "\n",
            "\n"
          ]
        }
      ],
      "source": [
        "print('----------------------------------------------------------------------')\n",
        "print('We have similarity matrix corresponding to nominal attribute - Profession')\n",
        "display(dis_sim_profession)\n",
        "print('\\n')\n",
        "\n",
        "print('----------------------------------------------------------------------')\n",
        "print('We have similarity matrix corresponding to ordinal attribute - Mother Tongue')\n",
        "display(dis_sim_mother_tongue)\n",
        "print('\\n')\n",
        "\n",
        "print('----------------------------------------------------------------------')\n",
        "print('We have similarity matrix corresponding to numerical attribute - Income')\n",
        "display(dissimilarity_numerical)\n",
        "print('\\n')\n",
        "\n",
        "print('----------------------------------------------------------------------')\n",
        "print('We have similarity matrix corresponding to ordinal attribute -Native Place')\n",
        "display(dissimilarity_ordinal)\n",
        "print('\\n')"
      ]
    },
    {
      "cell_type": "code",
      "execution_count": null,
      "metadata": {
        "colab": {
          "base_uri": "https://localhost:8080/",
          "height": 210
        },
        "id": "167gha65lh1Y",
        "outputId": "ccf30ec5-7ad3-4484-cb77-809687557879"
      },
      "outputs": [
        {
          "name": "stdout",
          "output_type": "stream",
          "text": [
            "Overall similarity matrix for attributes of mixed type is -\n"
          ]
        },
        {
          "data": {
            "text/html": [
              "<div>\n",
              "<style scoped>\n",
              "    .dataframe tbody tr th:only-of-type {\n",
              "        vertical-align: middle;\n",
              "    }\n",
              "\n",
              "    .dataframe tbody tr th {\n",
              "        vertical-align: top;\n",
              "    }\n",
              "\n",
              "    .dataframe thead th {\n",
              "        text-align: right;\n",
              "    }\n",
              "</style>\n",
              "<table border=\"1\" class=\"dataframe\">\n",
              "  <thead>\n",
              "    <tr style=\"text-align: right;\">\n",
              "      <th></th>\n",
              "      <th>ram</th>\n",
              "      <th>balram</th>\n",
              "      <th>bharat</th>\n",
              "      <th>kishan</th>\n",
              "    </tr>\n",
              "  </thead>\n",
              "  <tbody>\n",
              "    <tr>\n",
              "      <th>ram</th>\n",
              "      <td>0.500000</td>\n",
              "      <td>0.750833</td>\n",
              "      <td>0.751667</td>\n",
              "      <td>0.582500</td>\n",
              "    </tr>\n",
              "    <tr>\n",
              "      <th>balram</th>\n",
              "      <td>0.750833</td>\n",
              "      <td>0.500000</td>\n",
              "      <td>0.415833</td>\n",
              "      <td>0.916667</td>\n",
              "    </tr>\n",
              "    <tr>\n",
              "      <th>bharat</th>\n",
              "      <td>0.751667</td>\n",
              "      <td>0.415833</td>\n",
              "      <td>0.500000</td>\n",
              "      <td>0.750833</td>\n",
              "    </tr>\n",
              "    <tr>\n",
              "      <th>kishan</th>\n",
              "      <td>0.582500</td>\n",
              "      <td>0.916667</td>\n",
              "      <td>0.750833</td>\n",
              "      <td>0.500000</td>\n",
              "    </tr>\n",
              "  </tbody>\n",
              "</table>\n",
              "</div>"
            ],
            "text/plain": [
              "             ram    balram    bharat    kishan\n",
              "ram     0.500000  0.750833  0.751667  0.582500\n",
              "balram  0.750833  0.500000  0.415833  0.916667\n",
              "bharat  0.751667  0.415833  0.500000  0.750833\n",
              "kishan  0.582500  0.916667  0.750833  0.500000"
            ]
          },
          "metadata": {},
          "output_type": "display_data"
        },
        {
          "name": "stdout",
          "output_type": "stream",
          "text": [
            "--------------------------------------------------------------------------------------------------------\n"
          ]
        }
      ],
      "source": [
        "total_sim = dissimilarity_numerical+dissimilarity_ordinal+dis_sim_profession+dis_sim_mother_tongue\n",
        "print('Overall similarity matrix for attributes of mixed type is -')\n",
        "\n",
        "findf = pd.DataFrame(total_sim/4,columns = df['Name'].values,index = df['Name'].values)\n",
        "display(findf)\n",
        "print('--------------------------------------------------------------------------------------------------------')"
      ]
    },
    {
      "cell_type": "code",
      "execution_count": null,
      "metadata": {
        "colab": {
          "base_uri": "https://localhost:8080/"
        },
        "id": "Ir26enjCluPi",
        "outputId": "fa0be882-7c47-4531-8d74-21d11822a025"
      },
      "outputs": [
        {
          "name": "stdout",
          "output_type": "stream",
          "text": [
            "The most similar - Balram and Bharat (similarity of 0.416)\n",
            "The most dissimilar - Balram and Kishan (similarity of 0.92)\n"
          ]
        }
      ],
      "source": [
        "print(f'The most similar - Balram and Bharat (similarity of 0.416)')\n",
        "print(f'The most dissimilar - Balram and Kishan (similarity of 0.92)')"
      ]
    },
    {
      "cell_type": "code",
      "execution_count": null,
      "metadata": {
        "colab": {
          "base_uri": "https://localhost:8080/",
          "height": 174
        },
        "id": "vT2fKnXKn6ki",
        "outputId": "e188bd10-aaca-4692-d082-08a84e8b7e25"
      },
      "outputs": [
        {
          "data": {
            "text/html": [
              "<div>\n",
              "<style scoped>\n",
              "    .dataframe tbody tr th:only-of-type {\n",
              "        vertical-align: middle;\n",
              "    }\n",
              "\n",
              "    .dataframe tbody tr th {\n",
              "        vertical-align: top;\n",
              "    }\n",
              "\n",
              "    .dataframe thead th {\n",
              "        text-align: right;\n",
              "    }\n",
              "</style>\n",
              "<table border=\"1\" class=\"dataframe\">\n",
              "  <thead>\n",
              "    <tr style=\"text-align: right;\">\n",
              "      <th></th>\n",
              "      <th>Name</th>\n",
              "      <th>Income</th>\n",
              "      <th>Profession</th>\n",
              "      <th>Mother Tongue</th>\n",
              "      <th>Native Place</th>\n",
              "    </tr>\n",
              "  </thead>\n",
              "  <tbody>\n",
              "    <tr>\n",
              "      <th>0</th>\n",
              "      <td>ram</td>\n",
              "      <td>0.67</td>\n",
              "      <td>Doctor</td>\n",
              "      <td>Bengali</td>\n",
              "      <td>1</td>\n",
              "    </tr>\n",
              "    <tr>\n",
              "      <th>1</th>\n",
              "      <td>balram</td>\n",
              "      <td>0.00</td>\n",
              "      <td>Data Scientist</td>\n",
              "      <td>Hindi</td>\n",
              "      <td>2</td>\n",
              "    </tr>\n",
              "    <tr>\n",
              "      <th>2</th>\n",
              "      <td>bharat</td>\n",
              "      <td>0.33</td>\n",
              "      <td>Carpenter</td>\n",
              "      <td>Hindi</td>\n",
              "      <td>3</td>\n",
              "    </tr>\n",
              "    <tr>\n",
              "      <th>3</th>\n",
              "      <td>kishan</td>\n",
              "      <td>1.00</td>\n",
              "      <td>Doctor</td>\n",
              "      <td>Bhojpuri</td>\n",
              "      <td>4</td>\n",
              "    </tr>\n",
              "  </tbody>\n",
              "</table>\n",
              "</div>"
            ],
            "text/plain": [
              "     Name  Income      Profession Mother Tongue  Native Place\n",
              "0     ram    0.67          Doctor       Bengali             1\n",
              "1  balram    0.00  Data Scientist         Hindi             2\n",
              "2  bharat    0.33       Carpenter         Hindi             3\n",
              "3  kishan    1.00          Doctor      Bhojpuri             4"
            ]
          },
          "execution_count": 16,
          "metadata": {},
          "output_type": "execute_result"
        }
      ],
      "source": [
        "df"
      ]
    },
    {
      "cell_type": "code",
      "execution_count": null,
      "metadata": {
        "id": "c9F_Xuo-n62d"
      },
      "outputs": [],
      "source": []
    },
    {
      "cell_type": "markdown",
      "metadata": {
        "id": "zP0nXMB4eprI"
      },
      "source": [
        "# Cosine Similirality\n",
        "\n",
        "## The formula for calculating the cosine similarity is : \n",
        "```\n",
        "Cos(x, y) = x . y / ||x|| * ||y||\n",
        "```\n"
      ]
    },
    {
      "cell_type": "code",
      "execution_count": 2,
      "metadata": {
        "colab": {
          "base_uri": "https://localhost:8080/"
        },
        "id": "wdaB72sefVOM",
        "outputId": "28684741-5798-4e16-8009-93c99d0535fd"
      },
      "outputs": [
        {
          "name": "stdout",
          "output_type": "stream",
          "text": [
            "Cosine Similarity between A and B:0.995306445590965\n",
            "Cosine Distance between A and B:0.004693554409034961\n",
            "Cosine Similarity between B and C:0.9558495142872933\n",
            "Cosine Distance between B and C:0.044150485712706744\n",
            "Cosine Similarity between A and C:0.9572824128565306\n",
            "Cosine Distance between A and C:0.042717587143469404\n",
            "Cosine is  0.995306445590965\n"
          ]
        }
      ],
      "source": [
        "import pandas as pd\n",
        "import numpy as np\n",
        "from scipy import stats\n",
        "\n",
        "A=np.array([2,7,1,4])\n",
        "B=np.array([3,8,1,4])\n",
        "C=np.array([6,56,1,16])\n",
        "\n",
        "cos_sim_1=np.dot(A,B)/(np.linalg.norm(A)*np.linalg.norm(B))\n",
        "print (f\"Cosine Similarity between A and B:{cos_sim_1}\")\n",
        "print (f\"Cosine Distance between A and B:{1-cos_sim_1}\")\n",
        "\n",
        "\n",
        "cos_sim_2=np.dot(B,C)/(np.linalg.norm(B)*np.linalg.norm(C))\n",
        "print (f\"Cosine Similarity between B and C:{cos_sim_2}\")\n",
        "print (f\"Cosine Distance between B and C:{1-cos_sim_2}\")\n",
        "\n",
        "cos_sim_3=np.dot(A,C)/(np.linalg.norm(A)*np.linalg.norm(C))\n",
        "print (f\"Cosine Similarity between A and C:{cos_sim_3}\")\n",
        "print (f\"Cosine Distance between A and C:{1-cos_sim_3}\")\n",
        "\n",
        "print(\"Cosine Similarity is \", max(cos_sim_1,cos_sim_2,cos_sim_3))"
      ]
    }
  ],
  "metadata": {
    "colab": {
      "collapsed_sections": [],
      "name": "ppt_question_dissimilarity.ipynb",
      "provenance": []
    },
    "kernelspec": {
      "display_name": "Python 3",
      "name": "python3"
    },
    "language_info": {
      "name": "python"
    }
  },
  "nbformat": 4,
  "nbformat_minor": 0
}
