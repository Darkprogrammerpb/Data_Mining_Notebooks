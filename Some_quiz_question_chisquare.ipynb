{
  "nbformat": 4,
  "nbformat_minor": 0,
  "metadata": {
    "colab": {
      "name": "Some_quiz_question_chisquare.ipynb",
      "provenance": [],
      "collapsed_sections": []
    },
    "kernelspec": {
      "name": "python3",
      "display_name": "Python 3"
    },
    "language_info": {
      "name": "python"
    }
  },
  "cells": [
    {
      "cell_type": "code",
      "metadata": {
        "id": "jvxUGcbXo6hZ"
      },
      "source": [
        "import pandas as pd\n",
        "import numpy as np\n",
        "import scipy.stats\n",
        "from scipy.stats import *"
      ],
      "execution_count": 1,
      "outputs": []
    },
    {
      "cell_type": "code",
      "metadata": {
        "colab": {
          "base_uri": "https://localhost:8080/"
        },
        "id": "E2DBxWDWpAOK",
        "outputId": "190907ef-59cd-4427-b99f-7eb3cc94af7c"
      },
      "source": [
        "attribute1 = 'voting preference'\n",
        "index      = ['Party A','Party B']\n",
        "\n",
        "attribute2 = 'major'\n",
        "columns    = ['science','humanities']\n",
        "\n",
        "los        = 0.05\n",
        "\n",
        "print('---------------------------------------------------------------------------------------------')\n",
        "print(f'We have attributes - {attribute1} and {attribute2} both of which are nominal')\n",
        "print('\\n')\n",
        "print(f'The values corresponding to {attribute1} is {index}')\n",
        "print('\\n')\n",
        "print(f'The values corresponding to {attribute2} is {columns}')\n",
        "print('\\n')\n",
        "print(f'The level of significance for the test is {los}')\n",
        "print('---------------------------------------------------------------------------------------------')"
      ],
      "execution_count": 2,
      "outputs": [
        {
          "output_type": "stream",
          "name": "stdout",
          "text": [
            "---------------------------------------------------------------------------------------------\n",
            "We have attributes - voting preference and major both of which are nominal\n",
            "\n",
            "\n",
            "The values corresponding to voting preference is ['Party A', 'Party B']\n",
            "\n",
            "\n",
            "The values corresponding to major is ['science', 'humanities']\n",
            "\n",
            "\n",
            "The level of significance for the test is 0.05\n",
            "---------------------------------------------------------------------------------------------\n"
          ]
        }
      ]
    },
    {
      "cell_type": "code",
      "metadata": {
        "id": "MONuqnQwpMEg"
      },
      "source": [
        "contingency_df                              = pd.DataFrame(columns = columns,index=index)\n",
        "contingency_df.loc['Party A','science']     = 1\n",
        "contingency_df.loc['Party B','science']     = 2\n",
        "contingency_df.loc['Party A','humanities']  = 3\n",
        "contingency_df.loc['Party B','humanities']  = 1"
      ],
      "execution_count": 5,
      "outputs": []
    },
    {
      "cell_type": "code",
      "metadata": {
        "colab": {
          "base_uri": "https://localhost:8080/",
          "height": 537
        },
        "id": "RpS_FYQxpggu",
        "outputId": "4bcc9ee2-7c1f-432c-b2aa-f962f2a0c2e2"
      },
      "source": [
        "print('-----------------------------------------------------------------------------------------------------------')\n",
        "print('We have contingency matrix defined as ')\n",
        "display(contingency_df)\n",
        "print('\\n')\n",
        "observed_matrix                             = contingency_df.values\n",
        "\n",
        "row_sum                                     = contingency_df.sum(axis=1).values\n",
        "col_sum                                     = contingency_df.sum(axis=0).values\n",
        "expected_matrix                             = np.zeros((contingency_df.shape[0],contingency_df.shape[1]))\n",
        "for i in range(expected_matrix.shape[0]):\n",
        "  for j in range(expected_matrix.shape[1]):\n",
        "    expected_matrix[i][j]                   = (row_sum[i]*col_sum[j])/np.sum(row_sum)\n",
        "\n",
        "print('-----------------------------------------------------------------------------------------------------------')\n",
        "print('The matrix with expected frequencies is given as ')\n",
        "display(pd.DataFrame(expected_matrix,columns = columns,index=index))\n",
        "print('\\n')\n",
        "\n",
        "print('-----------------------------------------------------------------------------------------------------------')\n",
        "test_statistic                               = 0\n",
        "for i in range(expected_matrix.shape[0]):\n",
        "  for j in range(expected_matrix.shape[1]):\n",
        "    test_statistic                          += ((observed_matrix[i][j]-expected_matrix[i][j])**2)/expected_matrix[i][j]\n",
        "print(f'The value of test statistic is {test_statistic}')\n",
        "\n",
        "degree_of_freedom                            = (len(index)-1)*(len(columns)-1)\n",
        "chisq_val                                    = scipy.stats.chi2.ppf(1-los, df=degree_of_freedom)\n",
        "print(f'The value of chisquare at {degree_of_freedom} degrees of freedom is {chisq_val}')\n",
        "print('\\n')\n",
        "print('------------------------------------------------------------------------------------------------------------')\n",
        "\n",
        "print('Conclusion - ')\n",
        "if test_statistic<chisq_val:\n",
        "  print(f'we may accept the Null Hypothesis H0: {attribute1} and {attribute2} are independent at level of significance being {los}')\n",
        "else:\n",
        "  print(f'We may accept the alternative hypothesis that {attribute1} and {attribute2} are dependent/strongly correlated at level of significance being {los}')\n",
        "print('\\n')\n",
        "print('------------------------------------------------------------------------------------------------------------')"
      ],
      "execution_count": 6,
      "outputs": [
        {
          "output_type": "stream",
          "name": "stdout",
          "text": [
            "-----------------------------------------------------------------------------------------------------------\n",
            "We have contingency matrix defined as \n"
          ]
        },
        {
          "output_type": "display_data",
          "data": {
            "text/html": [
              "<div>\n",
              "<style scoped>\n",
              "    .dataframe tbody tr th:only-of-type {\n",
              "        vertical-align: middle;\n",
              "    }\n",
              "\n",
              "    .dataframe tbody tr th {\n",
              "        vertical-align: top;\n",
              "    }\n",
              "\n",
              "    .dataframe thead th {\n",
              "        text-align: right;\n",
              "    }\n",
              "</style>\n",
              "<table border=\"1\" class=\"dataframe\">\n",
              "  <thead>\n",
              "    <tr style=\"text-align: right;\">\n",
              "      <th></th>\n",
              "      <th>science</th>\n",
              "      <th>humanities</th>\n",
              "    </tr>\n",
              "  </thead>\n",
              "  <tbody>\n",
              "    <tr>\n",
              "      <th>Party A</th>\n",
              "      <td>1</td>\n",
              "      <td>3</td>\n",
              "    </tr>\n",
              "    <tr>\n",
              "      <th>Party B</th>\n",
              "      <td>2</td>\n",
              "      <td>1</td>\n",
              "    </tr>\n",
              "  </tbody>\n",
              "</table>\n",
              "</div>"
            ],
            "text/plain": [
              "        science humanities\n",
              "Party A       1          3\n",
              "Party B       2          1"
            ]
          },
          "metadata": {}
        },
        {
          "output_type": "stream",
          "name": "stdout",
          "text": [
            "\n",
            "\n",
            "-----------------------------------------------------------------------------------------------------------\n",
            "The matrix with expected frequencies is given as \n"
          ]
        },
        {
          "output_type": "display_data",
          "data": {
            "text/html": [
              "<div>\n",
              "<style scoped>\n",
              "    .dataframe tbody tr th:only-of-type {\n",
              "        vertical-align: middle;\n",
              "    }\n",
              "\n",
              "    .dataframe tbody tr th {\n",
              "        vertical-align: top;\n",
              "    }\n",
              "\n",
              "    .dataframe thead th {\n",
              "        text-align: right;\n",
              "    }\n",
              "</style>\n",
              "<table border=\"1\" class=\"dataframe\">\n",
              "  <thead>\n",
              "    <tr style=\"text-align: right;\">\n",
              "      <th></th>\n",
              "      <th>science</th>\n",
              "      <th>humanities</th>\n",
              "    </tr>\n",
              "  </thead>\n",
              "  <tbody>\n",
              "    <tr>\n",
              "      <th>Party A</th>\n",
              "      <td>1.714286</td>\n",
              "      <td>2.285714</td>\n",
              "    </tr>\n",
              "    <tr>\n",
              "      <th>Party B</th>\n",
              "      <td>1.285714</td>\n",
              "      <td>1.714286</td>\n",
              "    </tr>\n",
              "  </tbody>\n",
              "</table>\n",
              "</div>"
            ],
            "text/plain": [
              "          science  humanities\n",
              "Party A  1.714286    2.285714\n",
              "Party B  1.285714    1.714286"
            ]
          },
          "metadata": {}
        },
        {
          "output_type": "stream",
          "name": "stdout",
          "text": [
            "\n",
            "\n",
            "-----------------------------------------------------------------------------------------------------------\n",
            "The value of test statistic is 1.2152777777777777\n",
            "The value of chisquare at 1 degrees of freedom is 3.841458820694124\n",
            "\n",
            "\n",
            "------------------------------------------------------------------------------------------------------------\n",
            "Conclusion - \n",
            "we may accept the Null Hypothesis H0: voting preference and major are independent at level of significance being 0.05\n",
            "\n",
            "\n",
            "------------------------------------------------------------------------------------------------------------\n"
          ]
        }
      ]
    },
    {
      "cell_type": "code",
      "metadata": {
        "id": "_PDz-N19piWe"
      },
      "source": [
        ""
      ],
      "execution_count": null,
      "outputs": []
    }
  ]
}