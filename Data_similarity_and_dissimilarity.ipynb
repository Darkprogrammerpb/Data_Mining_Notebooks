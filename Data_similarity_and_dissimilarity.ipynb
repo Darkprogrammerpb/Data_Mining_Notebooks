{
  "nbformat": 4,
  "nbformat_minor": 0,
  "metadata": {
    "colab": {
      "name": "Data_similarity_and_dissimilarity.ipynb",
      "provenance": [],
      "collapsed_sections": []
    },
    "kernelspec": {
      "name": "python3",
      "display_name": "Python 3"
    },
    "language_info": {
      "name": "python"
    }
  },
  "cells": [
    {
      "cell_type": "code",
      "metadata": {
        "id": "YCmQmf2YUQGg"
      },
      "source": [
        "import numpy as np\n",
        "import pandas as pd\n",
        "import operator\n",
        "from IPython.display import display"
      ],
      "execution_count": null,
      "outputs": []
    },
    {
      "cell_type": "markdown",
      "metadata": {
        "id": "GhQ5yQzoU5tM"
      },
      "source": [
        "# Proximity measure for binary attributes\n",
        "* Binary attributes have only two states - 0 and 1\n",
        "* _How to compute the dissimilarity between two binary attributes?_ <br>\n",
        "Using dissimilarity matrix from given binary data. \n",
        "* Assumption - All binary attributes are assumed to have same weight and we will be having a 2x2 contingency matrix. \n",
        "### Notations used - \n",
        "* q := number of attributes that equal 1 for both objects i and j (vector1 and vector2 in our example)\n",
        "* t := number of attributes that equal 0 for both objects i and j \n",
        "* r := number of attributes that equal 1 for object i (vector1) and 0 for object j (vector2)\n",
        "* s := number of attributes that equal 0 for object i (vector1) and 0 for object j (vector2) \n",
        "\n",
        "* Symmetric binary similarity := Each state is considered equaly valuable \n",
        "* Asymmetric binary similarity := similarity based on asymmetric binary attributes (two states not considered equally important) \n"
      ]
    },
    {
      "cell_type": "code",
      "metadata": {
        "colab": {
          "base_uri": "https://localhost:8080/",
          "height": 269
        },
        "id": "o5yNezAdUdHm",
        "outputId": "93c4e628-65af-4192-9e88-736fc83dc083"
      },
      "source": [
        "vector1  = np.array([1,1,0,1,0,0,1])\n",
        "vector2  = np.array([1,0,1,1,0,0,1]) \n",
        "\n",
        "df       = pd.DataFrame(columns=['attribute1','attribute2'])\n",
        "df['attribute1'] = vector1\n",
        "df['attribute2'] = vector2\n",
        "df"
      ],
      "execution_count": null,
      "outputs": [
        {
          "output_type": "execute_result",
          "data": {
            "text/html": [
              "<div>\n",
              "<style scoped>\n",
              "    .dataframe tbody tr th:only-of-type {\n",
              "        vertical-align: middle;\n",
              "    }\n",
              "\n",
              "    .dataframe tbody tr th {\n",
              "        vertical-align: top;\n",
              "    }\n",
              "\n",
              "    .dataframe thead th {\n",
              "        text-align: right;\n",
              "    }\n",
              "</style>\n",
              "<table border=\"1\" class=\"dataframe\">\n",
              "  <thead>\n",
              "    <tr style=\"text-align: right;\">\n",
              "      <th></th>\n",
              "      <th>attribute1</th>\n",
              "      <th>attribute2</th>\n",
              "    </tr>\n",
              "  </thead>\n",
              "  <tbody>\n",
              "    <tr>\n",
              "      <th>0</th>\n",
              "      <td>1</td>\n",
              "      <td>1</td>\n",
              "    </tr>\n",
              "    <tr>\n",
              "      <th>1</th>\n",
              "      <td>1</td>\n",
              "      <td>0</td>\n",
              "    </tr>\n",
              "    <tr>\n",
              "      <th>2</th>\n",
              "      <td>0</td>\n",
              "      <td>1</td>\n",
              "    </tr>\n",
              "    <tr>\n",
              "      <th>3</th>\n",
              "      <td>1</td>\n",
              "      <td>1</td>\n",
              "    </tr>\n",
              "    <tr>\n",
              "      <th>4</th>\n",
              "      <td>0</td>\n",
              "      <td>0</td>\n",
              "    </tr>\n",
              "    <tr>\n",
              "      <th>5</th>\n",
              "      <td>0</td>\n",
              "      <td>0</td>\n",
              "    </tr>\n",
              "    <tr>\n",
              "      <th>6</th>\n",
              "      <td>1</td>\n",
              "      <td>1</td>\n",
              "    </tr>\n",
              "  </tbody>\n",
              "</table>\n",
              "</div>"
            ],
            "text/plain": [
              "   attribute1  attribute2\n",
              "0           1           1\n",
              "1           1           0\n",
              "2           0           1\n",
              "3           1           1\n",
              "4           0           0\n",
              "5           0           0\n",
              "6           1           1"
            ]
          },
          "metadata": {},
          "execution_count": 2
        }
      ]
    },
    {
      "cell_type": "code",
      "metadata": {
        "colab": {
          "base_uri": "https://localhost:8080/",
          "height": 589
        },
        "id": "H4dy9LDsa9BS",
        "outputId": "4f06ced7-4483-443e-a19c-9e9a7f466e6f"
      },
      "source": [
        "q = len(np.where((vector1==vector2) & (vector1==1))[0])\n",
        "t = len(np.where((vector1==vector2) & (vector1==0))[0])\n",
        "r = len(np.where((vector1!=vector2) & (vector1==1))[0])\n",
        "s = len(np.where((vector1!=vector2) & (vector1==0))[0])\n",
        "\n",
        "contingency_table_layout = pd.DataFrame(np.array(['q','r','s','t']).reshape(2,2),columns=['vector2_1','vector2_0'],index=['vector1_1','vector1_0'])\n",
        "contingency_table        = pd.DataFrame(np.array([q,r,s,t]).reshape(2,2),columns=['vector2_1','vector2_0'],index=['vector1_1','vector1_0'])\n",
        "\n",
        "print('The contingency table attained is given as \\n')\n",
        "display(contingency_table)\n",
        "print('\\n')\n",
        "\n",
        "print('The contingency table layout attained is denoted as \\n')\n",
        "display(contingency_table_layout)\n",
        "print('\\n')\n",
        "\n",
        "print('-----------------------------------------------------------------------------------------------------------------------------------------------------')\n",
        "symmetric_dissim = (r+s)/(q+t+r+s)\n",
        "print(f'The symmetric binary dissimilarity between vector1 and vector2  is given as {symmetric_dissim} ')\n",
        "print(f'The formula for symmetric binary dissimilarity between vector1 and vector2  is given as (r+s)/(q+t+r+s) \\n')\n",
        "print('-----------------------------------------------------------------------------------------------------------------------------------------------------')\n",
        "\n",
        "asymmetric_dissim = (r+s)/(q+r+s)\n",
        "print(f'The formula for asymmetric binary dissimilarity between vector1 and vector2 considering match of 1 to be more significant is given as (r+s)/(q+r+s)')\n",
        "print(f'The asymmetric binary dissimilarity between the vector1 and vector2 considering match of 1 to be more significant is {asymmetric_dissim}')\n",
        "print('\\n')\n",
        "print('-----------------------------------------------------------------------------------------------------------------------------------------------------')\n",
        "\n",
        "asym_sim = q/(q+r+s)\n",
        "print(f'The asymmetric similarity between vector 1 and 2 is {asym_sim} (note that it is actually 1-asymmetric dissimilarity)')\n",
        "print(f'This asymmetric similarity between vector 1 and 2 is also called Jaccard coefficient')\n",
        "print(f'The formula for Jaccard coefficient hence becomes -  q/(q+r+s)')\n",
        "print('-----------------------------------------------------------------------------------------------------------------------------------------------------')"
      ],
      "execution_count": null,
      "outputs": [
        {
          "output_type": "stream",
          "name": "stdout",
          "text": [
            "The contingency table attained is given as \n",
            "\n"
          ]
        },
        {
          "output_type": "display_data",
          "data": {
            "text/html": [
              "<div>\n",
              "<style scoped>\n",
              "    .dataframe tbody tr th:only-of-type {\n",
              "        vertical-align: middle;\n",
              "    }\n",
              "\n",
              "    .dataframe tbody tr th {\n",
              "        vertical-align: top;\n",
              "    }\n",
              "\n",
              "    .dataframe thead th {\n",
              "        text-align: right;\n",
              "    }\n",
              "</style>\n",
              "<table border=\"1\" class=\"dataframe\">\n",
              "  <thead>\n",
              "    <tr style=\"text-align: right;\">\n",
              "      <th></th>\n",
              "      <th>vector2_1</th>\n",
              "      <th>vector2_0</th>\n",
              "    </tr>\n",
              "  </thead>\n",
              "  <tbody>\n",
              "    <tr>\n",
              "      <th>vector1_1</th>\n",
              "      <td>3</td>\n",
              "      <td>1</td>\n",
              "    </tr>\n",
              "    <tr>\n",
              "      <th>vector1_0</th>\n",
              "      <td>1</td>\n",
              "      <td>2</td>\n",
              "    </tr>\n",
              "  </tbody>\n",
              "</table>\n",
              "</div>"
            ],
            "text/plain": [
              "           vector2_1  vector2_0\n",
              "vector1_1          3          1\n",
              "vector1_0          1          2"
            ]
          },
          "metadata": {}
        },
        {
          "output_type": "stream",
          "name": "stdout",
          "text": [
            "\n",
            "\n",
            "The contingency table layout attained is denoted as \n",
            "\n"
          ]
        },
        {
          "output_type": "display_data",
          "data": {
            "text/html": [
              "<div>\n",
              "<style scoped>\n",
              "    .dataframe tbody tr th:only-of-type {\n",
              "        vertical-align: middle;\n",
              "    }\n",
              "\n",
              "    .dataframe tbody tr th {\n",
              "        vertical-align: top;\n",
              "    }\n",
              "\n",
              "    .dataframe thead th {\n",
              "        text-align: right;\n",
              "    }\n",
              "</style>\n",
              "<table border=\"1\" class=\"dataframe\">\n",
              "  <thead>\n",
              "    <tr style=\"text-align: right;\">\n",
              "      <th></th>\n",
              "      <th>vector2_1</th>\n",
              "      <th>vector2_0</th>\n",
              "    </tr>\n",
              "  </thead>\n",
              "  <tbody>\n",
              "    <tr>\n",
              "      <th>vector1_1</th>\n",
              "      <td>q</td>\n",
              "      <td>r</td>\n",
              "    </tr>\n",
              "    <tr>\n",
              "      <th>vector1_0</th>\n",
              "      <td>s</td>\n",
              "      <td>t</td>\n",
              "    </tr>\n",
              "  </tbody>\n",
              "</table>\n",
              "</div>"
            ],
            "text/plain": [
              "          vector2_1 vector2_0\n",
              "vector1_1         q         r\n",
              "vector1_0         s         t"
            ]
          },
          "metadata": {}
        },
        {
          "output_type": "stream",
          "name": "stdout",
          "text": [
            "\n",
            "\n",
            "-----------------------------------------------------------------------------------------------------------------------------------------------------\n",
            "The symmetric binary dissimilarity between vector1 and vector2  is given as 0.2857142857142857 \n",
            "The formula for symmetric binary dissimilarity between vector1 and vector2  is given as (r+s)/(q+t+r+s) \n",
            "\n",
            "-----------------------------------------------------------------------------------------------------------------------------------------------------\n",
            "The formula for asymmetric binary dissimilarity between vector1 and vector2 considering match of 1 to be more significant is given as (r+s)/(q+r+s)\n",
            "The asymmetric binary dissimilarity between the vector1 and vector2 considering match of 1 to be more significant is 0.4\n",
            "\n",
            "\n",
            "-----------------------------------------------------------------------------------------------------------------------------------------------------\n",
            "The asymmetric similarity between vector 1 and 2 is 0.6 (note that it is actually 1-asymmetric dissimilarity)\n",
            "This asymmetric similarity between vector 1 and 2 is also called Jaccard coefficient\n",
            "The formula for Jaccard coefficient hence becomes -  q/(q+r+s)\n",
            "-----------------------------------------------------------------------------------------------------------------------------------------------------\n"
          ]
        }
      ]
    },
    {
      "cell_type": "markdown",
      "metadata": {
        "id": "V3Fc7PVogdey"
      },
      "source": [
        "## Book example for solving Jaccard similarity (Example 2.18)\n",
        "Suppose that a patient record table contains attributes gender, name, fever, cough, test1, test2, test3 and test4; where name is object identifier, gender is a symmetric attribute, and remaining attributes are asymmetric binary. \n",
        "\n",
        "We assume Yes(Y) and Positive (P) to be 1, The value of No(N) and negative (N) an be set to 0.\n",
        "\n"
      ]
    },
    {
      "cell_type": "code",
      "metadata": {
        "colab": {
          "base_uri": "https://localhost:8080/",
          "height": 1000
        },
        "id": "S0WU3e83b_ns",
        "outputId": "c0afe340-88e1-46e8-89ee-5ca679f4a431"
      },
      "source": [
        "jack = np.array(['jack','M','Y','N','P','N','N','N'])\n",
        "jim  = np.array(['jim','M','Y','Y','N','N','N','N'])\n",
        "array = np.vstack((jack,jim))\n",
        "df = pd.DataFrame(array,columns = ['name','gender','fever','cough','test1','test2','test3','test4'])\n",
        "\n",
        "\n",
        "print('-------------------------------------------------------------------------------------------')\n",
        "print('STEP1')\n",
        "print('The dataframe having the binary attributes/features given to us is in form ')\n",
        "display(df)\n",
        "print('\\n')\n",
        "print('We will first Encode the variables to binary form of 0 and 1')\n",
        "for cols in df.columns:\n",
        "  if cols in ['name','gender']:\n",
        "    continue\n",
        "  else:\n",
        "    df[cols] = df[cols].map({'Y':1,'N':0,'P':1})\n",
        "print('The encoded dataframe looks like this')\n",
        "display(df)\n",
        "print('-------------------------------------------------------------------------------------------------------------')\n",
        "\n",
        "print('We will need to find the similarity between the asymmetric attributes of both Jack and Jim')\n",
        "print('This means we need to exclude both name and gender from the feature set and find the similarity \\n')\n",
        "\n",
        "\n",
        "vector1 = df.loc[0][2:].values\n",
        "print(f'The representative vector for Jack is {vector1}')\n",
        "vector2 = df.loc[1][2:].values\n",
        "print(f'The representative vector for Jim is {vector2}')\n",
        "\n",
        "q = len(np.where((vector1==vector2) & (vector1==1))[0])\n",
        "t = len(np.where((vector1==vector2) & (vector1==0))[0])\n",
        "r = len(np.where((vector1!=vector2) & (vector1==1))[0])\n",
        "s = len(np.where((vector1!=vector2) & (vector1==0))[0])\n",
        "\n",
        "contingency_table_layout = pd.DataFrame(np.array(['q','r','s','t']).reshape(2,2),columns=['Jim_1','Jim_0'],index=['Jack_1','Jack_0'])\n",
        "contingency_table        = pd.DataFrame(np.array([q,r,s,t]).reshape(2,2),columns=['Jim_1','Jim_0'],index=['Jack_1','Jack_0'])\n",
        "\n",
        "print('The contingency table attained is given as \\n')\n",
        "display(contingency_table)\n",
        "print('\\n')\n",
        "\n",
        "print('The contingency table layout attained is denoted as \\n')\n",
        "display(contingency_table_layout)\n",
        "print('\\n')\n",
        "\n",
        "\n",
        "print('-----------------------------------------------------------------------------------------------------------------------------------------------------')\n",
        "symmetric_dissim = (r+s)/(q+t+r+s)\n",
        "print(f'The symmetric binary dissimilarity between vector1 and vector2  is given as {round(symmetric_dissim,3)} ')\n",
        "print(f'The formula for symmetric binary dissimilarity between vector1 and vector2  is given as (r+s)/(q+t+r+s) \\n')\n",
        "print('-----------------------------------------------------------------------------------------------------------------------------------------------------')\n",
        "\n",
        "asymmetric_dissim = (r+s)/(q+r+s)\n",
        "print(f'The formula for asymmetric binary dissimilarity between vector1 and vector2 considering match of 1 to be more significant is given as (r+s)/(q+r+s)')\n",
        "print(f'The asymmetric binary dissimilarity between the vector1 and vector2 considering match of 1 to be more significant is {round(asymmetric_dissim,3)}')\n",
        "print('\\n')\n",
        "print('-----------------------------------------------------------------------------------------------------------------------------------------------------')\n",
        "\n",
        "asym_sim = q/(q+r+s)\n",
        "print(f'The asymmetric similarity between vector 1 and 2 is {round(asym_sim,3)} (note that it is actually 1-asymmetric dissimilarity)')\n",
        "print(f'This asymmetric similarity between vector 1 and 2 is also called Jaccard coefficient')\n",
        "print(f'The formula for Jaccard coefficient hence becomes -  q/(q+r+s)')\n",
        "print('-----------------------------------------------------------------------------------------------------------------------------------------------------')\n",
        "print('\\n')\n",
        "print('Jack and Jim are likely to suffer from different disease because the Jaccard similarity is very low between them')"
      ],
      "execution_count": null,
      "outputs": [
        {
          "output_type": "stream",
          "name": "stdout",
          "text": [
            "-------------------------------------------------------------------------------------------\n",
            "STEP1\n",
            "The dataframe having the binary attributes/features given to us is in form \n"
          ]
        },
        {
          "output_type": "display_data",
          "data": {
            "text/html": [
              "<div>\n",
              "<style scoped>\n",
              "    .dataframe tbody tr th:only-of-type {\n",
              "        vertical-align: middle;\n",
              "    }\n",
              "\n",
              "    .dataframe tbody tr th {\n",
              "        vertical-align: top;\n",
              "    }\n",
              "\n",
              "    .dataframe thead th {\n",
              "        text-align: right;\n",
              "    }\n",
              "</style>\n",
              "<table border=\"1\" class=\"dataframe\">\n",
              "  <thead>\n",
              "    <tr style=\"text-align: right;\">\n",
              "      <th></th>\n",
              "      <th>name</th>\n",
              "      <th>gender</th>\n",
              "      <th>fever</th>\n",
              "      <th>cough</th>\n",
              "      <th>test1</th>\n",
              "      <th>test2</th>\n",
              "      <th>test3</th>\n",
              "      <th>test4</th>\n",
              "    </tr>\n",
              "  </thead>\n",
              "  <tbody>\n",
              "    <tr>\n",
              "      <th>0</th>\n",
              "      <td>jack</td>\n",
              "      <td>M</td>\n",
              "      <td>Y</td>\n",
              "      <td>N</td>\n",
              "      <td>P</td>\n",
              "      <td>N</td>\n",
              "      <td>N</td>\n",
              "      <td>N</td>\n",
              "    </tr>\n",
              "    <tr>\n",
              "      <th>1</th>\n",
              "      <td>jim</td>\n",
              "      <td>M</td>\n",
              "      <td>Y</td>\n",
              "      <td>Y</td>\n",
              "      <td>N</td>\n",
              "      <td>N</td>\n",
              "      <td>N</td>\n",
              "      <td>N</td>\n",
              "    </tr>\n",
              "  </tbody>\n",
              "</table>\n",
              "</div>"
            ],
            "text/plain": [
              "   name gender fever cough test1 test2 test3 test4\n",
              "0  jack      M     Y     N     P     N     N     N\n",
              "1   jim      M     Y     Y     N     N     N     N"
            ]
          },
          "metadata": {}
        },
        {
          "output_type": "stream",
          "name": "stdout",
          "text": [
            "\n",
            "\n",
            "We will first Encode the variables to binary form of 0 and 1\n",
            "The encoded dataframe looks like this\n"
          ]
        },
        {
          "output_type": "display_data",
          "data": {
            "text/html": [
              "<div>\n",
              "<style scoped>\n",
              "    .dataframe tbody tr th:only-of-type {\n",
              "        vertical-align: middle;\n",
              "    }\n",
              "\n",
              "    .dataframe tbody tr th {\n",
              "        vertical-align: top;\n",
              "    }\n",
              "\n",
              "    .dataframe thead th {\n",
              "        text-align: right;\n",
              "    }\n",
              "</style>\n",
              "<table border=\"1\" class=\"dataframe\">\n",
              "  <thead>\n",
              "    <tr style=\"text-align: right;\">\n",
              "      <th></th>\n",
              "      <th>name</th>\n",
              "      <th>gender</th>\n",
              "      <th>fever</th>\n",
              "      <th>cough</th>\n",
              "      <th>test1</th>\n",
              "      <th>test2</th>\n",
              "      <th>test3</th>\n",
              "      <th>test4</th>\n",
              "    </tr>\n",
              "  </thead>\n",
              "  <tbody>\n",
              "    <tr>\n",
              "      <th>0</th>\n",
              "      <td>jack</td>\n",
              "      <td>M</td>\n",
              "      <td>1</td>\n",
              "      <td>0</td>\n",
              "      <td>1</td>\n",
              "      <td>0</td>\n",
              "      <td>0</td>\n",
              "      <td>0</td>\n",
              "    </tr>\n",
              "    <tr>\n",
              "      <th>1</th>\n",
              "      <td>jim</td>\n",
              "      <td>M</td>\n",
              "      <td>1</td>\n",
              "      <td>1</td>\n",
              "      <td>0</td>\n",
              "      <td>0</td>\n",
              "      <td>0</td>\n",
              "      <td>0</td>\n",
              "    </tr>\n",
              "  </tbody>\n",
              "</table>\n",
              "</div>"
            ],
            "text/plain": [
              "   name gender  fever  cough  test1  test2  test3  test4\n",
              "0  jack      M      1      0      1      0      0      0\n",
              "1   jim      M      1      1      0      0      0      0"
            ]
          },
          "metadata": {}
        },
        {
          "output_type": "stream",
          "name": "stdout",
          "text": [
            "-------------------------------------------------------------------------------------------------------------\n",
            "We will need to find the similarity between the asymmetric attributes of both Jack and Jim\n",
            "This means we need to exclude both name and gender from the feature set and find the similarity \n",
            "\n",
            "The representative vector for Jack is [1 0 1 0 0 0]\n",
            "The representative vector for Jim is [1 1 0 0 0 0]\n",
            "The contingency table attained is given as \n",
            "\n"
          ]
        },
        {
          "output_type": "display_data",
          "data": {
            "text/html": [
              "<div>\n",
              "<style scoped>\n",
              "    .dataframe tbody tr th:only-of-type {\n",
              "        vertical-align: middle;\n",
              "    }\n",
              "\n",
              "    .dataframe tbody tr th {\n",
              "        vertical-align: top;\n",
              "    }\n",
              "\n",
              "    .dataframe thead th {\n",
              "        text-align: right;\n",
              "    }\n",
              "</style>\n",
              "<table border=\"1\" class=\"dataframe\">\n",
              "  <thead>\n",
              "    <tr style=\"text-align: right;\">\n",
              "      <th></th>\n",
              "      <th>Jim_1</th>\n",
              "      <th>Jim_0</th>\n",
              "    </tr>\n",
              "  </thead>\n",
              "  <tbody>\n",
              "    <tr>\n",
              "      <th>Jack_1</th>\n",
              "      <td>1</td>\n",
              "      <td>1</td>\n",
              "    </tr>\n",
              "    <tr>\n",
              "      <th>Jack_0</th>\n",
              "      <td>1</td>\n",
              "      <td>3</td>\n",
              "    </tr>\n",
              "  </tbody>\n",
              "</table>\n",
              "</div>"
            ],
            "text/plain": [
              "        Jim_1  Jim_0\n",
              "Jack_1      1      1\n",
              "Jack_0      1      3"
            ]
          },
          "metadata": {}
        },
        {
          "output_type": "stream",
          "name": "stdout",
          "text": [
            "\n",
            "\n",
            "The contingency table layout attained is denoted as \n",
            "\n"
          ]
        },
        {
          "output_type": "display_data",
          "data": {
            "text/html": [
              "<div>\n",
              "<style scoped>\n",
              "    .dataframe tbody tr th:only-of-type {\n",
              "        vertical-align: middle;\n",
              "    }\n",
              "\n",
              "    .dataframe tbody tr th {\n",
              "        vertical-align: top;\n",
              "    }\n",
              "\n",
              "    .dataframe thead th {\n",
              "        text-align: right;\n",
              "    }\n",
              "</style>\n",
              "<table border=\"1\" class=\"dataframe\">\n",
              "  <thead>\n",
              "    <tr style=\"text-align: right;\">\n",
              "      <th></th>\n",
              "      <th>Jim_1</th>\n",
              "      <th>Jim_0</th>\n",
              "    </tr>\n",
              "  </thead>\n",
              "  <tbody>\n",
              "    <tr>\n",
              "      <th>Jack_1</th>\n",
              "      <td>q</td>\n",
              "      <td>r</td>\n",
              "    </tr>\n",
              "    <tr>\n",
              "      <th>Jack_0</th>\n",
              "      <td>s</td>\n",
              "      <td>t</td>\n",
              "    </tr>\n",
              "  </tbody>\n",
              "</table>\n",
              "</div>"
            ],
            "text/plain": [
              "       Jim_1 Jim_0\n",
              "Jack_1     q     r\n",
              "Jack_0     s     t"
            ]
          },
          "metadata": {}
        },
        {
          "output_type": "stream",
          "name": "stdout",
          "text": [
            "\n",
            "\n",
            "-----------------------------------------------------------------------------------------------------------------------------------------------------\n",
            "The symmetric binary dissimilarity between vector1 and vector2  is given as 0.333 \n",
            "The formula for symmetric binary dissimilarity between vector1 and vector2  is given as (r+s)/(q+t+r+s) \n",
            "\n",
            "-----------------------------------------------------------------------------------------------------------------------------------------------------\n",
            "The formula for asymmetric binary dissimilarity between vector1 and vector2 considering match of 1 to be more significant is given as (r+s)/(q+r+s)\n",
            "The asymmetric binary dissimilarity between the vector1 and vector2 considering match of 1 to be more significant is 0.667\n",
            "\n",
            "\n",
            "-----------------------------------------------------------------------------------------------------------------------------------------------------\n",
            "The asymmetric similarity between vector 1 and 2 is 0.333 (note that it is actually 1-asymmetric dissimilarity)\n",
            "This asymmetric similarity between vector 1 and 2 is also called Jaccard coefficient\n",
            "The formula for Jaccard coefficient hence becomes -  q/(q+r+s)\n",
            "-----------------------------------------------------------------------------------------------------------------------------------------------------\n",
            "\n",
            "\n",
            "Jack and Jim are likely to suffer from different disease because the Jaccard similarity is very low between them\n"
          ]
        }
      ]
    },
    {
      "cell_type": "code",
      "metadata": {
        "id": "CiDqBjpfh7lK"
      },
      "source": [
        "def jaccard(vector1,vector2):\n",
        "  '''\n",
        "      Function to compute Jaccard similarity between two vectors\n",
        "  '''\n",
        "  q = len(np.where((vector1==vector2) & (vector1==1))[0])\n",
        "  t = len(np.where((vector1==vector2) & (vector1==0))[0])\n",
        "  r = len(np.where((vector1!=vector2) & (vector1==1))[0])\n",
        "  s = len(np.where((vector1!=vector2) & (vector1==0))[0])\n",
        "\n",
        "  return q/(q+r+s)"
      ],
      "execution_count": null,
      "outputs": []
    },
    {
      "cell_type": "markdown",
      "metadata": {
        "id": "wknN_kO2qlpV"
      },
      "source": [
        "#### Solving a Quiz Question\n",
        "Assuming all attributes are binary asymmetric; what is the Jaccard\n",
        "Coefficient for IT and FIN departments from the given table?"
      ]
    },
    {
      "cell_type": "code",
      "metadata": {
        "colab": {
          "base_uri": "https://localhost:8080/",
          "height": 796
        },
        "id": "xZ9bhiBWis1A",
        "outputId": "7b9d30f8-a757-4e50-fc43-e6a722b765a7"
      },
      "source": [
        "it    = np.array(['IT','Y','Y','N','N'])\n",
        "fin   = np.array(['FIN','N','Y','Y','N'])\n",
        "array = np.vstack((it,fin))\n",
        "df = pd.DataFrame(array,columns = ['Department','Attribute1','attribute2','attribute3','attribute4'])\n",
        "\n",
        "print('-------------------------------------------------------------------------------------------')\n",
        "print('STEP1')\n",
        "print('The dataframe having the binary attributes/features given to us is in form ')\n",
        "display(df)\n",
        "print('\\n')\n",
        "print('We will first Encode the variables to binary form of 0 and 1')\n",
        "for cols in df.columns:\n",
        "  if cols in ['Department']:\n",
        "    continue\n",
        "  else:\n",
        "    df[cols] = df[cols].map({'Y':1,'N':0,'P':1})\n",
        "print('The encoded dataframe looks like this')\n",
        "display(df)\n",
        "print('-------------------------------------------------------------------------------------------------------------')\n",
        "\n",
        "print('We will need to find the similarity between the asymmetric attributes of both Jack and Jim')\n",
        "print('This means we need to exclude both name and gender from the feature set and find the similarity \\n')\n",
        "\n",
        "\n",
        "vector1 = df.loc[0][1:].values\n",
        "print(f'The representative vector for IT is {vector1}')\n",
        "vector2 = df.loc[1][1:].values\n",
        "print(f'The representative vector for Fin is {vector2}')\n",
        "\n",
        "q = len(np.where((vector1==vector2) & (vector1==1))[0])\n",
        "t = len(np.where((vector1==vector2) & (vector1==0))[0])\n",
        "r = len(np.where((vector1!=vector2) & (vector1==1))[0])\n",
        "s = len(np.where((vector1!=vector2) & (vector1==0))[0])\n",
        "\n",
        "contingency_table_layout = pd.DataFrame(np.array(['q','r','s','t']).reshape(2,2),columns=['IT_1','IT_0'],index=['FIN_1','FIN_0'])\n",
        "contingency_table        = pd.DataFrame(np.array([q,r,s,t]).reshape(2,2),columns=['IT_1','IT_0'],index=['FIN_1','FIN_0'])\n",
        "\n",
        "print('The contingency table attained is given as \\n')\n",
        "display(contingency_table)\n",
        "print('\\n')\n",
        "\n",
        "print('The contingency table layout attained is denoted as \\n')\n",
        "display(contingency_table_layout)\n",
        "print('\\n')\n",
        "\n",
        "print('-------------------------------------------------------------------------------------------------------------')\n",
        "print(f'The jaccard similarity from the function defined above will be {jaccard(vector1,vector2)}')"
      ],
      "execution_count": null,
      "outputs": [
        {
          "output_type": "stream",
          "name": "stdout",
          "text": [
            "-------------------------------------------------------------------------------------------\n",
            "STEP1\n",
            "The dataframe having the binary attributes/features given to us is in form \n"
          ]
        },
        {
          "output_type": "display_data",
          "data": {
            "text/html": [
              "<div>\n",
              "<style scoped>\n",
              "    .dataframe tbody tr th:only-of-type {\n",
              "        vertical-align: middle;\n",
              "    }\n",
              "\n",
              "    .dataframe tbody tr th {\n",
              "        vertical-align: top;\n",
              "    }\n",
              "\n",
              "    .dataframe thead th {\n",
              "        text-align: right;\n",
              "    }\n",
              "</style>\n",
              "<table border=\"1\" class=\"dataframe\">\n",
              "  <thead>\n",
              "    <tr style=\"text-align: right;\">\n",
              "      <th></th>\n",
              "      <th>Department</th>\n",
              "      <th>Attribute1</th>\n",
              "      <th>attribute2</th>\n",
              "      <th>attribute3</th>\n",
              "      <th>attribute4</th>\n",
              "    </tr>\n",
              "  </thead>\n",
              "  <tbody>\n",
              "    <tr>\n",
              "      <th>0</th>\n",
              "      <td>IT</td>\n",
              "      <td>Y</td>\n",
              "      <td>Y</td>\n",
              "      <td>N</td>\n",
              "      <td>N</td>\n",
              "    </tr>\n",
              "    <tr>\n",
              "      <th>1</th>\n",
              "      <td>FIN</td>\n",
              "      <td>N</td>\n",
              "      <td>Y</td>\n",
              "      <td>Y</td>\n",
              "      <td>N</td>\n",
              "    </tr>\n",
              "  </tbody>\n",
              "</table>\n",
              "</div>"
            ],
            "text/plain": [
              "  Department Attribute1 attribute2 attribute3 attribute4\n",
              "0         IT          Y          Y          N          N\n",
              "1        FIN          N          Y          Y          N"
            ]
          },
          "metadata": {}
        },
        {
          "output_type": "stream",
          "name": "stdout",
          "text": [
            "\n",
            "\n",
            "We will first Encode the variables to binary form of 0 and 1\n",
            "The encoded dataframe looks like this\n"
          ]
        },
        {
          "output_type": "display_data",
          "data": {
            "text/html": [
              "<div>\n",
              "<style scoped>\n",
              "    .dataframe tbody tr th:only-of-type {\n",
              "        vertical-align: middle;\n",
              "    }\n",
              "\n",
              "    .dataframe tbody tr th {\n",
              "        vertical-align: top;\n",
              "    }\n",
              "\n",
              "    .dataframe thead th {\n",
              "        text-align: right;\n",
              "    }\n",
              "</style>\n",
              "<table border=\"1\" class=\"dataframe\">\n",
              "  <thead>\n",
              "    <tr style=\"text-align: right;\">\n",
              "      <th></th>\n",
              "      <th>Department</th>\n",
              "      <th>Attribute1</th>\n",
              "      <th>attribute2</th>\n",
              "      <th>attribute3</th>\n",
              "      <th>attribute4</th>\n",
              "    </tr>\n",
              "  </thead>\n",
              "  <tbody>\n",
              "    <tr>\n",
              "      <th>0</th>\n",
              "      <td>IT</td>\n",
              "      <td>1</td>\n",
              "      <td>1</td>\n",
              "      <td>0</td>\n",
              "      <td>0</td>\n",
              "    </tr>\n",
              "    <tr>\n",
              "      <th>1</th>\n",
              "      <td>FIN</td>\n",
              "      <td>0</td>\n",
              "      <td>1</td>\n",
              "      <td>1</td>\n",
              "      <td>0</td>\n",
              "    </tr>\n",
              "  </tbody>\n",
              "</table>\n",
              "</div>"
            ],
            "text/plain": [
              "  Department  Attribute1  attribute2  attribute3  attribute4\n",
              "0         IT           1           1           0           0\n",
              "1        FIN           0           1           1           0"
            ]
          },
          "metadata": {}
        },
        {
          "output_type": "stream",
          "name": "stdout",
          "text": [
            "-------------------------------------------------------------------------------------------------------------\n",
            "We will need to find the similarity between the asymmetric attributes of both Jack and Jim\n",
            "This means we need to exclude both name and gender from the feature set and find the similarity \n",
            "\n",
            "The representative vector for IT is [1 1 0 0]\n",
            "The representative vector for Fin is [0 1 1 0]\n",
            "The contingency table attained is given as \n",
            "\n"
          ]
        },
        {
          "output_type": "display_data",
          "data": {
            "text/html": [
              "<div>\n",
              "<style scoped>\n",
              "    .dataframe tbody tr th:only-of-type {\n",
              "        vertical-align: middle;\n",
              "    }\n",
              "\n",
              "    .dataframe tbody tr th {\n",
              "        vertical-align: top;\n",
              "    }\n",
              "\n",
              "    .dataframe thead th {\n",
              "        text-align: right;\n",
              "    }\n",
              "</style>\n",
              "<table border=\"1\" class=\"dataframe\">\n",
              "  <thead>\n",
              "    <tr style=\"text-align: right;\">\n",
              "      <th></th>\n",
              "      <th>IT_1</th>\n",
              "      <th>IT_0</th>\n",
              "    </tr>\n",
              "  </thead>\n",
              "  <tbody>\n",
              "    <tr>\n",
              "      <th>FIN_1</th>\n",
              "      <td>1</td>\n",
              "      <td>1</td>\n",
              "    </tr>\n",
              "    <tr>\n",
              "      <th>FIN_0</th>\n",
              "      <td>1</td>\n",
              "      <td>1</td>\n",
              "    </tr>\n",
              "  </tbody>\n",
              "</table>\n",
              "</div>"
            ],
            "text/plain": [
              "       IT_1  IT_0\n",
              "FIN_1     1     1\n",
              "FIN_0     1     1"
            ]
          },
          "metadata": {}
        },
        {
          "output_type": "stream",
          "name": "stdout",
          "text": [
            "\n",
            "\n",
            "The contingency table layout attained is denoted as \n",
            "\n"
          ]
        },
        {
          "output_type": "display_data",
          "data": {
            "text/html": [
              "<div>\n",
              "<style scoped>\n",
              "    .dataframe tbody tr th:only-of-type {\n",
              "        vertical-align: middle;\n",
              "    }\n",
              "\n",
              "    .dataframe tbody tr th {\n",
              "        vertical-align: top;\n",
              "    }\n",
              "\n",
              "    .dataframe thead th {\n",
              "        text-align: right;\n",
              "    }\n",
              "</style>\n",
              "<table border=\"1\" class=\"dataframe\">\n",
              "  <thead>\n",
              "    <tr style=\"text-align: right;\">\n",
              "      <th></th>\n",
              "      <th>IT_1</th>\n",
              "      <th>IT_0</th>\n",
              "    </tr>\n",
              "  </thead>\n",
              "  <tbody>\n",
              "    <tr>\n",
              "      <th>FIN_1</th>\n",
              "      <td>q</td>\n",
              "      <td>r</td>\n",
              "    </tr>\n",
              "    <tr>\n",
              "      <th>FIN_0</th>\n",
              "      <td>s</td>\n",
              "      <td>t</td>\n",
              "    </tr>\n",
              "  </tbody>\n",
              "</table>\n",
              "</div>"
            ],
            "text/plain": [
              "      IT_1 IT_0\n",
              "FIN_1    q    r\n",
              "FIN_0    s    t"
            ]
          },
          "metadata": {}
        },
        {
          "output_type": "stream",
          "name": "stdout",
          "text": [
            "\n",
            "\n",
            "-------------------------------------------------------------------------------------------------------------\n",
            "The jaccard similarity from the function defined above will be 0.3333333333333333\n"
          ]
        }
      ]
    },
    {
      "cell_type": "markdown",
      "metadata": {
        "id": "lrJnbCS8srO6"
      },
      "source": [
        "# Proximity measures for Nominal attributes\n",
        "* A nominal attribute can take two or more states (like color) \n",
        "* The dissimilarity between two objects i and j can be computed based on ratio of mismatches.\n",
        "<br>\n",
        "If m is the number of matches (the number of attributes for which i and j are in same state), p is total number of attributes; the dissimilarity between objects i and j is given by (p-m)/p\n",
        "* In the example below, we consider an attribute list where each object is described by just one attribute (the list where it is present) so we will set p = 1\n",
        "* Now d(i,j) := distance between i and j will evaluate to 0 if the match happens and 1 otherwise\n",
        "\n",
        "### Steps to calculate dissimilarity matrix for nominal attribute\n",
        "* Step1: Initialize a matrix of ones of size nxn (n is the size of attribute list given)\n",
        "* Step2: Loop over lower triangle of null matrix initialized above, and set 1 if object i and j are dissimilar and 0 if they are similar. \n",
        "* Step3: Output the similar objects and dissimilarity matrix"
      ]
    },
    {
      "cell_type": "code",
      "metadata": {
        "id": "6lxqV2vvz8MO"
      },
      "source": [
        "def similar_objects(row,test1):\n",
        "  '''\n",
        "      Finding similar objects in a row of a dataframe\n",
        "  '''\n",
        "  objects         = [f'object_{i+1}' for i in range(len(test1))]\n",
        "  \n",
        "  similarity_dict = dict(zip(objects,row.values))\n",
        "  \n",
        "  similar_values  = []\n",
        "  for key,vals in similarity_dict.items():\n",
        "    if vals==0:\n",
        "      similar_values.append(key)\n",
        "  return similar_values\n",
        "\n"
      ],
      "execution_count": null,
      "outputs": []
    },
    {
      "cell_type": "code",
      "metadata": {
        "colab": {
          "base_uri": "https://localhost:8080/",
          "height": 558
        },
        "id": "-UY1PyvIrDwH",
        "outputId": "23af388f-a86c-457f-b7d8-dbc303af3f25"
      },
      "source": [
        "test1       = ['code A','code B','code C','code A']\n",
        "\n",
        "print('----------------------------------------------------------------------------------------------------------')\n",
        "print('We have the following list of nominal attributes')\n",
        "print(test1)\n",
        "print('\\n')\n",
        "\n",
        "dis_sim     = np.ones((len(test1),len(test1)))\n",
        "for i in range(len(test1)):\n",
        "  for j in range(len(test1)):\n",
        "    if i<j:\n",
        "      if test1[i]==test1[j]:\n",
        "        dis_sim[i][j] = 0\n",
        "        dis_sim[j][i] = 0\n",
        "\n",
        "print('----------------------------------------------------------------------------------------------------------')\n",
        "print('The dissimilarity matrix attained where 0 refers to similarity and 1 refers to dissimilarity is given as ')\n",
        "dissimilarity = pd.DataFrame(dis_sim,columns = [f'object_{i+1}' for i in range(len(test1))], index = [f'object_{i+1}' for i in range(len(test1))])\n",
        "display(dissimilarity)\n",
        "print('\\n')\n",
        "print('----------------------------------------------------------------------------------------------------------')\n",
        "print('The similar objects for each object is given as -')\n",
        "dissimilarity['similar_object'] = dissimilarity.apply(lambda row : similar_objects(row,test1),axis=1)\n",
        "display(dissimilarity)\n",
        "print('----------------------------------------------------------------------------------------------------------')\n",
        "print('We can clearly see that object 1 and 4 are similar - code A')"
      ],
      "execution_count": null,
      "outputs": [
        {
          "output_type": "stream",
          "name": "stdout",
          "text": [
            "----------------------------------------------------------------------------------------------------------\n",
            "We have the following list of nominal attributes\n",
            "['code A', 'code B', 'code C', 'code A']\n",
            "\n",
            "\n",
            "----------------------------------------------------------------------------------------------------------\n",
            "The dissimilarity matrix attained where 0 refers to similarity and 1 refers to dissimilarity is given as \n"
          ]
        },
        {
          "output_type": "display_data",
          "data": {
            "text/html": [
              "<div>\n",
              "<style scoped>\n",
              "    .dataframe tbody tr th:only-of-type {\n",
              "        vertical-align: middle;\n",
              "    }\n",
              "\n",
              "    .dataframe tbody tr th {\n",
              "        vertical-align: top;\n",
              "    }\n",
              "\n",
              "    .dataframe thead th {\n",
              "        text-align: right;\n",
              "    }\n",
              "</style>\n",
              "<table border=\"1\" class=\"dataframe\">\n",
              "  <thead>\n",
              "    <tr style=\"text-align: right;\">\n",
              "      <th></th>\n",
              "      <th>object_1</th>\n",
              "      <th>object_2</th>\n",
              "      <th>object_3</th>\n",
              "      <th>object_4</th>\n",
              "    </tr>\n",
              "  </thead>\n",
              "  <tbody>\n",
              "    <tr>\n",
              "      <th>object_1</th>\n",
              "      <td>1.0</td>\n",
              "      <td>1.0</td>\n",
              "      <td>1.0</td>\n",
              "      <td>0.0</td>\n",
              "    </tr>\n",
              "    <tr>\n",
              "      <th>object_2</th>\n",
              "      <td>1.0</td>\n",
              "      <td>1.0</td>\n",
              "      <td>1.0</td>\n",
              "      <td>1.0</td>\n",
              "    </tr>\n",
              "    <tr>\n",
              "      <th>object_3</th>\n",
              "      <td>1.0</td>\n",
              "      <td>1.0</td>\n",
              "      <td>1.0</td>\n",
              "      <td>1.0</td>\n",
              "    </tr>\n",
              "    <tr>\n",
              "      <th>object_4</th>\n",
              "      <td>0.0</td>\n",
              "      <td>1.0</td>\n",
              "      <td>1.0</td>\n",
              "      <td>1.0</td>\n",
              "    </tr>\n",
              "  </tbody>\n",
              "</table>\n",
              "</div>"
            ],
            "text/plain": [
              "          object_1  object_2  object_3  object_4\n",
              "object_1       1.0       1.0       1.0       0.0\n",
              "object_2       1.0       1.0       1.0       1.0\n",
              "object_3       1.0       1.0       1.0       1.0\n",
              "object_4       0.0       1.0       1.0       1.0"
            ]
          },
          "metadata": {}
        },
        {
          "output_type": "stream",
          "name": "stdout",
          "text": [
            "\n",
            "\n",
            "----------------------------------------------------------------------------------------------------------\n",
            "The similar objects for each object is given as -\n"
          ]
        },
        {
          "output_type": "display_data",
          "data": {
            "text/html": [
              "<div>\n",
              "<style scoped>\n",
              "    .dataframe tbody tr th:only-of-type {\n",
              "        vertical-align: middle;\n",
              "    }\n",
              "\n",
              "    .dataframe tbody tr th {\n",
              "        vertical-align: top;\n",
              "    }\n",
              "\n",
              "    .dataframe thead th {\n",
              "        text-align: right;\n",
              "    }\n",
              "</style>\n",
              "<table border=\"1\" class=\"dataframe\">\n",
              "  <thead>\n",
              "    <tr style=\"text-align: right;\">\n",
              "      <th></th>\n",
              "      <th>object_1</th>\n",
              "      <th>object_2</th>\n",
              "      <th>object_3</th>\n",
              "      <th>object_4</th>\n",
              "      <th>similar_object</th>\n",
              "    </tr>\n",
              "  </thead>\n",
              "  <tbody>\n",
              "    <tr>\n",
              "      <th>object_1</th>\n",
              "      <td>1.0</td>\n",
              "      <td>1.0</td>\n",
              "      <td>1.0</td>\n",
              "      <td>0.0</td>\n",
              "      <td>[object_4]</td>\n",
              "    </tr>\n",
              "    <tr>\n",
              "      <th>object_2</th>\n",
              "      <td>1.0</td>\n",
              "      <td>1.0</td>\n",
              "      <td>1.0</td>\n",
              "      <td>1.0</td>\n",
              "      <td>[]</td>\n",
              "    </tr>\n",
              "    <tr>\n",
              "      <th>object_3</th>\n",
              "      <td>1.0</td>\n",
              "      <td>1.0</td>\n",
              "      <td>1.0</td>\n",
              "      <td>1.0</td>\n",
              "      <td>[]</td>\n",
              "    </tr>\n",
              "    <tr>\n",
              "      <th>object_4</th>\n",
              "      <td>0.0</td>\n",
              "      <td>1.0</td>\n",
              "      <td>1.0</td>\n",
              "      <td>1.0</td>\n",
              "      <td>[object_1]</td>\n",
              "    </tr>\n",
              "  </tbody>\n",
              "</table>\n",
              "</div>"
            ],
            "text/plain": [
              "          object_1  object_2  object_3  object_4 similar_object\n",
              "object_1       1.0       1.0       1.0       0.0     [object_4]\n",
              "object_2       1.0       1.0       1.0       1.0             []\n",
              "object_3       1.0       1.0       1.0       1.0             []\n",
              "object_4       0.0       1.0       1.0       1.0     [object_1]"
            ]
          },
          "metadata": {}
        },
        {
          "output_type": "stream",
          "name": "stdout",
          "text": [
            "----------------------------------------------------------------------------------------------------------\n",
            "We can clearly see that object 1 and 4 are similar - code A\n"
          ]
        }
      ]
    },
    {
      "cell_type": "markdown",
      "metadata": {
        "id": "DE1hrvvE03mk"
      },
      "source": [
        "### Solving a quiz question based on similarity of nominal attributes\n",
        "\n",
        "For the given records in the table, is similarity matrix correct for Gender attribute\n"
      ]
    },
    {
      "cell_type": "code",
      "metadata": {
        "colab": {
          "base_uri": "https://localhost:8080/",
          "height": 541
        },
        "id": "-uDMC6G5sLrK",
        "outputId": "d616ecd4-3e8d-4023-edde-2b15c5bfdaac"
      },
      "source": [
        "\n",
        "gender   = np.array(['M','M','F','M'])\n",
        "test1    = gender.copy()\n",
        "\n",
        "print('----------------------------------------------------------------------------------------------------------')\n",
        "print('We have the following list of nominal attributes')\n",
        "print(test1)\n",
        "print('\\n')\n",
        "\n",
        "dis_sim     = np.ones((len(test1),len(test1)))\n",
        "for i in range(len(test1)):\n",
        "  for j in range(len(test1)):\n",
        "    if i<j:\n",
        "      if test1[i]==test1[j]:\n",
        "        dis_sim[i][j] = 0\n",
        "        dis_sim[j][i] = 0\n",
        "\n",
        "print('----------------------------------------------------------------------------------------------------------')\n",
        "print('The dissimilarity matrix attained where 0 refers to similarity and 1 refers to dissimilarity is given as ')\n",
        "dissimilarity = pd.DataFrame(dis_sim,columns = [f'object_{i+1}' for i in range(len(test1))], index = [f'object_{i+1}' for i in range(len(test1))])\n",
        "display(dissimilarity)\n",
        "print('\\n')\n",
        "print('----------------------------------------------------------------------------------------------------------')\n",
        "print('The similar objects for each object is given as -')\n",
        "dissimilarity['similar_object'] = dissimilarity.apply(lambda row : similar_objects(row,test1),axis=1)\n",
        "display(dissimilarity)\n",
        "print('----------------------------------------------------------------------------------------------------------')"
      ],
      "execution_count": null,
      "outputs": [
        {
          "output_type": "stream",
          "name": "stdout",
          "text": [
            "----------------------------------------------------------------------------------------------------------\n",
            "We have the following list of nominal attributes\n",
            "['M' 'M' 'F' 'M']\n",
            "\n",
            "\n",
            "----------------------------------------------------------------------------------------------------------\n",
            "The dissimilarity matrix attained where 0 refers to similarity and 1 refers to dissimilarity is given as \n"
          ]
        },
        {
          "output_type": "display_data",
          "data": {
            "text/html": [
              "<div>\n",
              "<style scoped>\n",
              "    .dataframe tbody tr th:only-of-type {\n",
              "        vertical-align: middle;\n",
              "    }\n",
              "\n",
              "    .dataframe tbody tr th {\n",
              "        vertical-align: top;\n",
              "    }\n",
              "\n",
              "    .dataframe thead th {\n",
              "        text-align: right;\n",
              "    }\n",
              "</style>\n",
              "<table border=\"1\" class=\"dataframe\">\n",
              "  <thead>\n",
              "    <tr style=\"text-align: right;\">\n",
              "      <th></th>\n",
              "      <th>object_1</th>\n",
              "      <th>object_2</th>\n",
              "      <th>object_3</th>\n",
              "      <th>object_4</th>\n",
              "    </tr>\n",
              "  </thead>\n",
              "  <tbody>\n",
              "    <tr>\n",
              "      <th>object_1</th>\n",
              "      <td>1.0</td>\n",
              "      <td>0.0</td>\n",
              "      <td>1.0</td>\n",
              "      <td>0.0</td>\n",
              "    </tr>\n",
              "    <tr>\n",
              "      <th>object_2</th>\n",
              "      <td>0.0</td>\n",
              "      <td>1.0</td>\n",
              "      <td>1.0</td>\n",
              "      <td>0.0</td>\n",
              "    </tr>\n",
              "    <tr>\n",
              "      <th>object_3</th>\n",
              "      <td>1.0</td>\n",
              "      <td>1.0</td>\n",
              "      <td>1.0</td>\n",
              "      <td>1.0</td>\n",
              "    </tr>\n",
              "    <tr>\n",
              "      <th>object_4</th>\n",
              "      <td>0.0</td>\n",
              "      <td>0.0</td>\n",
              "      <td>1.0</td>\n",
              "      <td>1.0</td>\n",
              "    </tr>\n",
              "  </tbody>\n",
              "</table>\n",
              "</div>"
            ],
            "text/plain": [
              "          object_1  object_2  object_3  object_4\n",
              "object_1       1.0       0.0       1.0       0.0\n",
              "object_2       0.0       1.0       1.0       0.0\n",
              "object_3       1.0       1.0       1.0       1.0\n",
              "object_4       0.0       0.0       1.0       1.0"
            ]
          },
          "metadata": {}
        },
        {
          "output_type": "stream",
          "name": "stdout",
          "text": [
            "\n",
            "\n",
            "----------------------------------------------------------------------------------------------------------\n",
            "The similar objects for each object is given as -\n"
          ]
        },
        {
          "output_type": "display_data",
          "data": {
            "text/html": [
              "<div>\n",
              "<style scoped>\n",
              "    .dataframe tbody tr th:only-of-type {\n",
              "        vertical-align: middle;\n",
              "    }\n",
              "\n",
              "    .dataframe tbody tr th {\n",
              "        vertical-align: top;\n",
              "    }\n",
              "\n",
              "    .dataframe thead th {\n",
              "        text-align: right;\n",
              "    }\n",
              "</style>\n",
              "<table border=\"1\" class=\"dataframe\">\n",
              "  <thead>\n",
              "    <tr style=\"text-align: right;\">\n",
              "      <th></th>\n",
              "      <th>object_1</th>\n",
              "      <th>object_2</th>\n",
              "      <th>object_3</th>\n",
              "      <th>object_4</th>\n",
              "      <th>similar_object</th>\n",
              "    </tr>\n",
              "  </thead>\n",
              "  <tbody>\n",
              "    <tr>\n",
              "      <th>object_1</th>\n",
              "      <td>1.0</td>\n",
              "      <td>0.0</td>\n",
              "      <td>1.0</td>\n",
              "      <td>0.0</td>\n",
              "      <td>[object_2, object_4]</td>\n",
              "    </tr>\n",
              "    <tr>\n",
              "      <th>object_2</th>\n",
              "      <td>0.0</td>\n",
              "      <td>1.0</td>\n",
              "      <td>1.0</td>\n",
              "      <td>0.0</td>\n",
              "      <td>[object_1, object_4]</td>\n",
              "    </tr>\n",
              "    <tr>\n",
              "      <th>object_3</th>\n",
              "      <td>1.0</td>\n",
              "      <td>1.0</td>\n",
              "      <td>1.0</td>\n",
              "      <td>1.0</td>\n",
              "      <td>[]</td>\n",
              "    </tr>\n",
              "    <tr>\n",
              "      <th>object_4</th>\n",
              "      <td>0.0</td>\n",
              "      <td>0.0</td>\n",
              "      <td>1.0</td>\n",
              "      <td>1.0</td>\n",
              "      <td>[object_1, object_2]</td>\n",
              "    </tr>\n",
              "  </tbody>\n",
              "</table>\n",
              "</div>"
            ],
            "text/plain": [
              "          object_1  object_2  object_3  object_4        similar_object\n",
              "object_1       1.0       0.0       1.0       0.0  [object_2, object_4]\n",
              "object_2       0.0       1.0       1.0       0.0  [object_1, object_4]\n",
              "object_3       1.0       1.0       1.0       1.0                    []\n",
              "object_4       0.0       0.0       1.0       1.0  [object_1, object_2]"
            ]
          },
          "metadata": {}
        },
        {
          "output_type": "stream",
          "name": "stdout",
          "text": [
            "----------------------------------------------------------------------------------------------------------\n"
          ]
        }
      ]
    },
    {
      "cell_type": "markdown",
      "metadata": {
        "id": "wvbViPDl3AUB"
      },
      "source": [
        "# Dissimilarity of Numeric data - Minkowski distance\n",
        "* Normalize the data before distance calculations\n",
        "* Euclidean distance - distance as the crow flies\n",
        "* Manhattan distance - block distance between two points\n",
        "* Supremum distance  - Chebychev distance (L_max norm) \n",
        "* Cosine similarity  - Dot product of two vectors\n",
        "<br>\n",
        "<br>\n",
        "There will be two vectors present for the distance calculation for numeric data points. We will use sklearn's distance metric over here to compute the distances between the points\n",
        "<br>\n",
        "<br>\n",
        "We will solve problem 2.6 of textbook"
      ]
    },
    {
      "cell_type": "code",
      "metadata": {
        "id": "3l9Aiia_4xKS"
      },
      "source": [
        "from sklearn.neighbors import DistanceMetric"
      ],
      "execution_count": null,
      "outputs": []
    },
    {
      "cell_type": "code",
      "metadata": {
        "colab": {
          "base_uri": "https://localhost:8080/"
        },
        "id": "i8KL0w7xxL8H",
        "outputId": "dbe71b2c-853a-4be3-e282-cebcd60bfd72"
      },
      "source": [
        "vector1 = [22,1,42,10]\n",
        "vector2 = [20,0,36,8]\n",
        "print('---------------------------------------------------------------------------------------')\n",
        "vector1 = np.array(vector1)\n",
        "vector2 = np.array(vector2)\n",
        "\n",
        "print(f'The vectors given are - {vector1} and {vector2}')\n",
        "X      = np.vstack((vector1,vector2))\n",
        "\n",
        "print('---------------------------------------------------------------------------------------')\n",
        "print('Calculating Euclidean distance')\n",
        "dist     = DistanceMetric.get_metric('euclidean')\n",
        "euc_dist = round(dist.pairwise(X)[0,1],3)\n",
        "print(f'The Euclidean distance between both the vectors is {euc_dist}')\n",
        "print('\\n')\n",
        "\n",
        "print('---------------------------------------------------------------------------------------')\n",
        "print('Calculating Supremum/Chebychev distance')\n",
        "dist     = DistanceMetric.get_metric('chebyshev')\n",
        "sup_dist = round(dist.pairwise(X)[0,1],3)\n",
        "print(f'The Supremum(Chebychev) distance between both the vectors is {sup_dist}')\n",
        "print('\\n')\n",
        "\n",
        "print('---------------------------------------------------------------------------------------')\n",
        "print('Calculating Manhattan distance')\n",
        "dist     = DistanceMetric.get_metric('manhattan')\n",
        "man_dist = round(dist.pairwise(X)[0,1],3)\n",
        "print(f'The Manhattan distance between both the vectors is {man_dist}')\n",
        "print('\\n')\n",
        "\n",
        "print('---------------------------------------------------------------------------------------')\n",
        "print('Calculating Minkowski distance with p=4')\n",
        "dist     = DistanceMetric.get_metric('minkowski',p=3)\n",
        "min_dist = round(dist.pairwise(X)[0,1],3)\n",
        "print(f'The Minkowski distance (at p=3) between both the vectors is {min_dist}')\n",
        "print('\\n')"
      ],
      "execution_count": null,
      "outputs": [
        {
          "output_type": "stream",
          "name": "stdout",
          "text": [
            "---------------------------------------------------------------------------------------\n",
            "The vectors given are - [22  1 42 10] and [20  0 36  8]\n",
            "---------------------------------------------------------------------------------------\n",
            "Calculating Euclidean distance\n",
            "The Euclidean distance between both the vectors is 6.708\n",
            "\n",
            "\n",
            "---------------------------------------------------------------------------------------\n",
            "Calculating Supremum/Chebychev distance\n",
            "The Supremum(Chebychev) distance between both the vectors is 6.0\n",
            "\n",
            "\n",
            "---------------------------------------------------------------------------------------\n",
            "Calculating Manhattan distance\n",
            "The Manhattan distance between both the vectors is 11.0\n",
            "\n",
            "\n",
            "---------------------------------------------------------------------------------------\n",
            "Calculating Minkowski distance with p=4\n",
            "The Minkowski distance (at p=3) between both the vectors is 6.153\n",
            "\n",
            "\n"
          ]
        }
      ]
    },
    {
      "cell_type": "markdown",
      "metadata": {
        "id": "_ZhmM3ki7MA2"
      },
      "source": [
        "### Textbook question 2.8 "
      ]
    },
    {
      "cell_type": "code",
      "metadata": {
        "colab": {
          "base_uri": "https://localhost:8080/",
          "height": 223
        },
        "id": "uTlUhygcy-Sg",
        "outputId": "35d36e15-0bb9-4ce6-c3c4-cf39ddaaaedc"
      },
      "source": [
        "df = pd.DataFrame(np.array([[1.5,1.7],[2,1.9],[1.6,1.8],[1.2,1.5],[1.5,1]]),columns=['A1','A2'],index = [f'x{i+1}' for i in range(5)])\n",
        "print('We have the following 2d Dataset')\n",
        "display(df)"
      ],
      "execution_count": null,
      "outputs": [
        {
          "output_type": "stream",
          "name": "stdout",
          "text": [
            "We have the following 2d Dataset\n"
          ]
        },
        {
          "output_type": "display_data",
          "data": {
            "text/html": [
              "<div>\n",
              "<style scoped>\n",
              "    .dataframe tbody tr th:only-of-type {\n",
              "        vertical-align: middle;\n",
              "    }\n",
              "\n",
              "    .dataframe tbody tr th {\n",
              "        vertical-align: top;\n",
              "    }\n",
              "\n",
              "    .dataframe thead th {\n",
              "        text-align: right;\n",
              "    }\n",
              "</style>\n",
              "<table border=\"1\" class=\"dataframe\">\n",
              "  <thead>\n",
              "    <tr style=\"text-align: right;\">\n",
              "      <th></th>\n",
              "      <th>A1</th>\n",
              "      <th>A2</th>\n",
              "    </tr>\n",
              "  </thead>\n",
              "  <tbody>\n",
              "    <tr>\n",
              "      <th>x1</th>\n",
              "      <td>1.5</td>\n",
              "      <td>1.7</td>\n",
              "    </tr>\n",
              "    <tr>\n",
              "      <th>x2</th>\n",
              "      <td>2.0</td>\n",
              "      <td>1.9</td>\n",
              "    </tr>\n",
              "    <tr>\n",
              "      <th>x3</th>\n",
              "      <td>1.6</td>\n",
              "      <td>1.8</td>\n",
              "    </tr>\n",
              "    <tr>\n",
              "      <th>x4</th>\n",
              "      <td>1.2</td>\n",
              "      <td>1.5</td>\n",
              "    </tr>\n",
              "    <tr>\n",
              "      <th>x5</th>\n",
              "      <td>1.5</td>\n",
              "      <td>1.0</td>\n",
              "    </tr>\n",
              "  </tbody>\n",
              "</table>\n",
              "</div>"
            ],
            "text/plain": [
              "     A1   A2\n",
              "x1  1.5  1.7\n",
              "x2  2.0  1.9\n",
              "x3  1.6  1.8\n",
              "x4  1.2  1.5\n",
              "x5  1.5  1.0"
            ]
          },
          "metadata": {}
        }
      ]
    },
    {
      "cell_type": "markdown",
      "metadata": {
        "id": "NGlVeNGU7wge"
      },
      "source": [
        "#### Solution to 2.8 (a) \n",
        "We have ranked the sample points in an order of their distance from the new point"
      ]
    },
    {
      "cell_type": "code",
      "metadata": {
        "id": "Bi9Z7lHCC6eg"
      },
      "source": [
        "from sklearn.metrics.pairwise import cosine_similarity"
      ],
      "execution_count": null,
      "outputs": []
    },
    {
      "cell_type": "code",
      "metadata": {
        "colab": {
          "base_uri": "https://localhost:8080/",
          "height": 1000
        },
        "id": "yJMNLF0B5XRp",
        "outputId": "7e64049c-5a96-4266-a902-83bf640bb7b0"
      },
      "source": [
        "points_map = dict(zip(df.index,df.values))\n",
        "print('------------------------------------------------------------------------------------------------------------------')\n",
        "X          = df.values\n",
        "print('The existing data point values from the dataframe is given as ')\n",
        "display(X)\n",
        "print('\\n')\n",
        "new_point  = [1.4,1.6]\n",
        "print(f'The new sample point is {new_point}\\n')\n",
        "X_new      = np.append(X,[new_point],0)\n",
        "print(f'Updated sample after adding the new point is ')\n",
        "display(X_new)\n",
        "print('\\n')\n",
        "\n",
        "print('------------------------------------------------------------------------------------------------------------------')\n",
        "dist       = DistanceMetric.get_metric('euclidean')\n",
        "euc_dist   = dist.pairwise(X_new)\n",
        "distance_val  = euc_dist[-1,:-1]\n",
        "distance_dict = dict(zip(df.index,distance_val))\n",
        "similar_df    = pd.DataFrame(np.array(sorted(distance_dict.items(), key=operator.itemgetter(1),reverse=False)),columns= ['Points','Euclidean_distance'])\n",
        "similar_df['sample_point'] = similar_df['Points'].map(points_map)\n",
        "similar_df['comparison_point'] = [new_point]*len(similar_df)\n",
        "similar_df['Euclidean_distance'] = similar_df['Euclidean_distance'].apply(lambda z: round(np.float(z),3))\n",
        "print('Euclidean distance calculated and the dataset points are ranked based on similarty based on Euclidean distance')\n",
        "display(similar_df)\n",
        "print('\\n')\n",
        "\n",
        "print('------------------------------------------------------------------------------------------------------------------')\n",
        "dist          = DistanceMetric.get_metric('manhattan')\n",
        "man_dist      = dist.pairwise(X_new)\n",
        "distance_val  = man_dist[-1,:-1]\n",
        "distance_dict = dict(zip(df.index,distance_val))\n",
        "similar_df    = pd.DataFrame(np.array(sorted(distance_dict.items(), key=operator.itemgetter(1),reverse=False)),columns= ['Points','Manhattan_distance'])\n",
        "similar_df['sample_point'] = similar_df['Points'].map(points_map)\n",
        "similar_df['comparison_point'] = [new_point]*len(similar_df)\n",
        "similar_df['Manhattan_distance'] = similar_df['Manhattan_distance'].apply(lambda z: round(np.float(z),3))\n",
        "print('Manhattan distance calculated and the dataset points are ranked based on similarty based on Manhattan distance')\n",
        "display(similar_df)\n",
        "print('\\n')\n",
        "\n",
        "\n",
        "print('------------------------------------------------------------------------------------------------------------------')\n",
        "dist          = DistanceMetric.get_metric('chebyshev')\n",
        "sup_dist      = dist.pairwise(X_new)\n",
        "distance_val  = sup_dist[-1,:-1]\n",
        "distance_dict = dict(zip(df.index,distance_val))\n",
        "similar_df    = pd.DataFrame(np.array(sorted(distance_dict.items(), key=operator.itemgetter(1),reverse=False)),columns= ['Points','Supremum_distance'])\n",
        "similar_df['sample_point'] = similar_df['Points'].map(points_map)\n",
        "similar_df['comparison_point'] = [new_point]*len(similar_df)\n",
        "similar_df['Supremum_distance'] = similar_df['Supremum_distance'].apply(lambda z: round(np.float(z),3))\n",
        "print('Supremum distance calculated and the dataset points are ranked based on similarty based on Supremum distance')\n",
        "display(similar_df)\n",
        "print('\\n')\n",
        "\n",
        "\n",
        "print('------------------------------------------------------------------------------------------------------------------')\n",
        "cosine_distance = {}\n",
        "for i in range(X.shape[0]):\n",
        "  cosine_distance[f'x{i+1}'] = cosine_similarity(X_new[-1].reshape(1,-1),X_new[i].reshape(1,-1))[0][0]\n",
        "\n",
        "similar_df    = pd.DataFrame(np.array(sorted(cosine_distance.items(), key=operator.itemgetter(1),reverse=True)),columns= ['Points','Cosine_distance'])\n",
        "similar_df['sample_point'] = similar_df['Points'].map(points_map)\n",
        "similar_df['comparison_point'] = [new_point]*len(similar_df)\n",
        "similar_df['Cosine_distance'] = similar_df['Cosine_distance'].apply(lambda z: round(np.float(z),5))\n",
        "print('Cosine similarity distance calculated and the dataset points are ranked based on similarty based on cosine similarity')\n",
        "display(similar_df)"
      ],
      "execution_count": null,
      "outputs": [
        {
          "output_type": "stream",
          "name": "stdout",
          "text": [
            "------------------------------------------------------------------------------------------------------------------\n",
            "The existing data point values from the dataframe is given as \n"
          ]
        },
        {
          "output_type": "display_data",
          "data": {
            "text/plain": [
              "array([[1.5, 1.7],\n",
              "       [2. , 1.9],\n",
              "       [1.6, 1.8],\n",
              "       [1.2, 1.5],\n",
              "       [1.5, 1. ]])"
            ]
          },
          "metadata": {}
        },
        {
          "output_type": "stream",
          "name": "stdout",
          "text": [
            "\n",
            "\n",
            "The new sample point is [1.4, 1.6]\n",
            "\n",
            "Updated sample after adding the new point is \n"
          ]
        },
        {
          "output_type": "display_data",
          "data": {
            "text/plain": [
              "array([[1.5, 1.7],\n",
              "       [2. , 1.9],\n",
              "       [1.6, 1.8],\n",
              "       [1.2, 1.5],\n",
              "       [1.5, 1. ],\n",
              "       [1.4, 1.6]])"
            ]
          },
          "metadata": {}
        },
        {
          "output_type": "stream",
          "name": "stdout",
          "text": [
            "\n",
            "\n",
            "------------------------------------------------------------------------------------------------------------------\n",
            "Euclidean distance calculated and the dataset points are ranked based on similarty based on Euclidean distance\n"
          ]
        },
        {
          "output_type": "display_data",
          "data": {
            "text/html": [
              "<div>\n",
              "<style scoped>\n",
              "    .dataframe tbody tr th:only-of-type {\n",
              "        vertical-align: middle;\n",
              "    }\n",
              "\n",
              "    .dataframe tbody tr th {\n",
              "        vertical-align: top;\n",
              "    }\n",
              "\n",
              "    .dataframe thead th {\n",
              "        text-align: right;\n",
              "    }\n",
              "</style>\n",
              "<table border=\"1\" class=\"dataframe\">\n",
              "  <thead>\n",
              "    <tr style=\"text-align: right;\">\n",
              "      <th></th>\n",
              "      <th>Points</th>\n",
              "      <th>Euclidean_distance</th>\n",
              "      <th>sample_point</th>\n",
              "      <th>comparison_point</th>\n",
              "    </tr>\n",
              "  </thead>\n",
              "  <tbody>\n",
              "    <tr>\n",
              "      <th>0</th>\n",
              "      <td>x1</td>\n",
              "      <td>0.141</td>\n",
              "      <td>[1.5, 1.7]</td>\n",
              "      <td>[1.4, 1.6]</td>\n",
              "    </tr>\n",
              "    <tr>\n",
              "      <th>1</th>\n",
              "      <td>x4</td>\n",
              "      <td>0.224</td>\n",
              "      <td>[1.2, 1.5]</td>\n",
              "      <td>[1.4, 1.6]</td>\n",
              "    </tr>\n",
              "    <tr>\n",
              "      <th>2</th>\n",
              "      <td>x3</td>\n",
              "      <td>0.283</td>\n",
              "      <td>[1.6, 1.8]</td>\n",
              "      <td>[1.4, 1.6]</td>\n",
              "    </tr>\n",
              "    <tr>\n",
              "      <th>3</th>\n",
              "      <td>x5</td>\n",
              "      <td>0.608</td>\n",
              "      <td>[1.5, 1.0]</td>\n",
              "      <td>[1.4, 1.6]</td>\n",
              "    </tr>\n",
              "    <tr>\n",
              "      <th>4</th>\n",
              "      <td>x2</td>\n",
              "      <td>0.671</td>\n",
              "      <td>[2.0, 1.9]</td>\n",
              "      <td>[1.4, 1.6]</td>\n",
              "    </tr>\n",
              "  </tbody>\n",
              "</table>\n",
              "</div>"
            ],
            "text/plain": [
              "  Points  Euclidean_distance sample_point comparison_point\n",
              "0     x1               0.141   [1.5, 1.7]       [1.4, 1.6]\n",
              "1     x4               0.224   [1.2, 1.5]       [1.4, 1.6]\n",
              "2     x3               0.283   [1.6, 1.8]       [1.4, 1.6]\n",
              "3     x5               0.608   [1.5, 1.0]       [1.4, 1.6]\n",
              "4     x2               0.671   [2.0, 1.9]       [1.4, 1.6]"
            ]
          },
          "metadata": {}
        },
        {
          "output_type": "stream",
          "name": "stdout",
          "text": [
            "\n",
            "\n",
            "------------------------------------------------------------------------------------------------------------------\n",
            "Manhattan distance calculated and the dataset points are ranked based on similarty based on Manhattan distance\n"
          ]
        },
        {
          "output_type": "display_data",
          "data": {
            "text/html": [
              "<div>\n",
              "<style scoped>\n",
              "    .dataframe tbody tr th:only-of-type {\n",
              "        vertical-align: middle;\n",
              "    }\n",
              "\n",
              "    .dataframe tbody tr th {\n",
              "        vertical-align: top;\n",
              "    }\n",
              "\n",
              "    .dataframe thead th {\n",
              "        text-align: right;\n",
              "    }\n",
              "</style>\n",
              "<table border=\"1\" class=\"dataframe\">\n",
              "  <thead>\n",
              "    <tr style=\"text-align: right;\">\n",
              "      <th></th>\n",
              "      <th>Points</th>\n",
              "      <th>Manhattan_distance</th>\n",
              "      <th>sample_point</th>\n",
              "      <th>comparison_point</th>\n",
              "    </tr>\n",
              "  </thead>\n",
              "  <tbody>\n",
              "    <tr>\n",
              "      <th>0</th>\n",
              "      <td>x1</td>\n",
              "      <td>0.2</td>\n",
              "      <td>[1.5, 1.7]</td>\n",
              "      <td>[1.4, 1.6]</td>\n",
              "    </tr>\n",
              "    <tr>\n",
              "      <th>1</th>\n",
              "      <td>x4</td>\n",
              "      <td>0.3</td>\n",
              "      <td>[1.2, 1.5]</td>\n",
              "      <td>[1.4, 1.6]</td>\n",
              "    </tr>\n",
              "    <tr>\n",
              "      <th>2</th>\n",
              "      <td>x3</td>\n",
              "      <td>0.4</td>\n",
              "      <td>[1.6, 1.8]</td>\n",
              "      <td>[1.4, 1.6]</td>\n",
              "    </tr>\n",
              "    <tr>\n",
              "      <th>3</th>\n",
              "      <td>x5</td>\n",
              "      <td>0.7</td>\n",
              "      <td>[1.5, 1.0]</td>\n",
              "      <td>[1.4, 1.6]</td>\n",
              "    </tr>\n",
              "    <tr>\n",
              "      <th>4</th>\n",
              "      <td>x2</td>\n",
              "      <td>0.9</td>\n",
              "      <td>[2.0, 1.9]</td>\n",
              "      <td>[1.4, 1.6]</td>\n",
              "    </tr>\n",
              "  </tbody>\n",
              "</table>\n",
              "</div>"
            ],
            "text/plain": [
              "  Points  Manhattan_distance sample_point comparison_point\n",
              "0     x1                 0.2   [1.5, 1.7]       [1.4, 1.6]\n",
              "1     x4                 0.3   [1.2, 1.5]       [1.4, 1.6]\n",
              "2     x3                 0.4   [1.6, 1.8]       [1.4, 1.6]\n",
              "3     x5                 0.7   [1.5, 1.0]       [1.4, 1.6]\n",
              "4     x2                 0.9   [2.0, 1.9]       [1.4, 1.6]"
            ]
          },
          "metadata": {}
        },
        {
          "output_type": "stream",
          "name": "stdout",
          "text": [
            "\n",
            "\n",
            "------------------------------------------------------------------------------------------------------------------\n",
            "Supremum distance calculated and the dataset points are ranked based on similarty based on Supremum distance\n"
          ]
        },
        {
          "output_type": "display_data",
          "data": {
            "text/html": [
              "<div>\n",
              "<style scoped>\n",
              "    .dataframe tbody tr th:only-of-type {\n",
              "        vertical-align: middle;\n",
              "    }\n",
              "\n",
              "    .dataframe tbody tr th {\n",
              "        vertical-align: top;\n",
              "    }\n",
              "\n",
              "    .dataframe thead th {\n",
              "        text-align: right;\n",
              "    }\n",
              "</style>\n",
              "<table border=\"1\" class=\"dataframe\">\n",
              "  <thead>\n",
              "    <tr style=\"text-align: right;\">\n",
              "      <th></th>\n",
              "      <th>Points</th>\n",
              "      <th>Supremum_distance</th>\n",
              "      <th>sample_point</th>\n",
              "      <th>comparison_point</th>\n",
              "    </tr>\n",
              "  </thead>\n",
              "  <tbody>\n",
              "    <tr>\n",
              "      <th>0</th>\n",
              "      <td>x1</td>\n",
              "      <td>0.1</td>\n",
              "      <td>[1.5, 1.7]</td>\n",
              "      <td>[1.4, 1.6]</td>\n",
              "    </tr>\n",
              "    <tr>\n",
              "      <th>1</th>\n",
              "      <td>x4</td>\n",
              "      <td>0.2</td>\n",
              "      <td>[1.2, 1.5]</td>\n",
              "      <td>[1.4, 1.6]</td>\n",
              "    </tr>\n",
              "    <tr>\n",
              "      <th>2</th>\n",
              "      <td>x3</td>\n",
              "      <td>0.2</td>\n",
              "      <td>[1.6, 1.8]</td>\n",
              "      <td>[1.4, 1.6]</td>\n",
              "    </tr>\n",
              "    <tr>\n",
              "      <th>3</th>\n",
              "      <td>x2</td>\n",
              "      <td>0.6</td>\n",
              "      <td>[2.0, 1.9]</td>\n",
              "      <td>[1.4, 1.6]</td>\n",
              "    </tr>\n",
              "    <tr>\n",
              "      <th>4</th>\n",
              "      <td>x5</td>\n",
              "      <td>0.6</td>\n",
              "      <td>[1.5, 1.0]</td>\n",
              "      <td>[1.4, 1.6]</td>\n",
              "    </tr>\n",
              "  </tbody>\n",
              "</table>\n",
              "</div>"
            ],
            "text/plain": [
              "  Points  Supremum_distance sample_point comparison_point\n",
              "0     x1                0.1   [1.5, 1.7]       [1.4, 1.6]\n",
              "1     x4                0.2   [1.2, 1.5]       [1.4, 1.6]\n",
              "2     x3                0.2   [1.6, 1.8]       [1.4, 1.6]\n",
              "3     x2                0.6   [2.0, 1.9]       [1.4, 1.6]\n",
              "4     x5                0.6   [1.5, 1.0]       [1.4, 1.6]"
            ]
          },
          "metadata": {}
        },
        {
          "output_type": "stream",
          "name": "stdout",
          "text": [
            "\n",
            "\n",
            "------------------------------------------------------------------------------------------------------------------\n",
            "Cosine similarity distance calculated and the dataset points are ranked based on similarty based on cosine similarity\n"
          ]
        },
        {
          "output_type": "display_data",
          "data": {
            "text/html": [
              "<div>\n",
              "<style scoped>\n",
              "    .dataframe tbody tr th:only-of-type {\n",
              "        vertical-align: middle;\n",
              "    }\n",
              "\n",
              "    .dataframe tbody tr th {\n",
              "        vertical-align: top;\n",
              "    }\n",
              "\n",
              "    .dataframe thead th {\n",
              "        text-align: right;\n",
              "    }\n",
              "</style>\n",
              "<table border=\"1\" class=\"dataframe\">\n",
              "  <thead>\n",
              "    <tr style=\"text-align: right;\">\n",
              "      <th></th>\n",
              "      <th>Points</th>\n",
              "      <th>Cosine_distance</th>\n",
              "      <th>sample_point</th>\n",
              "      <th>comparison_point</th>\n",
              "    </tr>\n",
              "  </thead>\n",
              "  <tbody>\n",
              "    <tr>\n",
              "      <th>0</th>\n",
              "      <td>x1</td>\n",
              "      <td>0.99999</td>\n",
              "      <td>[1.5, 1.7]</td>\n",
              "      <td>[1.4, 1.6]</td>\n",
              "    </tr>\n",
              "    <tr>\n",
              "      <th>1</th>\n",
              "      <td>x3</td>\n",
              "      <td>0.99997</td>\n",
              "      <td>[1.6, 1.8]</td>\n",
              "      <td>[1.4, 1.6]</td>\n",
              "    </tr>\n",
              "    <tr>\n",
              "      <th>2</th>\n",
              "      <td>x4</td>\n",
              "      <td>0.99903</td>\n",
              "      <td>[1.2, 1.5]</td>\n",
              "      <td>[1.4, 1.6]</td>\n",
              "    </tr>\n",
              "    <tr>\n",
              "      <th>3</th>\n",
              "      <td>x2</td>\n",
              "      <td>0.99575</td>\n",
              "      <td>[2.0, 1.9]</td>\n",
              "      <td>[1.4, 1.6]</td>\n",
              "    </tr>\n",
              "    <tr>\n",
              "      <th>4</th>\n",
              "      <td>x5</td>\n",
              "      <td>0.96536</td>\n",
              "      <td>[1.5, 1.0]</td>\n",
              "      <td>[1.4, 1.6]</td>\n",
              "    </tr>\n",
              "  </tbody>\n",
              "</table>\n",
              "</div>"
            ],
            "text/plain": [
              "  Points  Cosine_distance sample_point comparison_point\n",
              "0     x1          0.99999   [1.5, 1.7]       [1.4, 1.6]\n",
              "1     x3          0.99997   [1.6, 1.8]       [1.4, 1.6]\n",
              "2     x4          0.99903   [1.2, 1.5]       [1.4, 1.6]\n",
              "3     x2          0.99575   [2.0, 1.9]       [1.4, 1.6]\n",
              "4     x5          0.96536   [1.5, 1.0]       [1.4, 1.6]"
            ]
          },
          "metadata": {}
        }
      ]
    },
    {
      "cell_type": "markdown",
      "metadata": {
        "id": "yDukpJGRFC7-"
      },
      "source": [
        "#### Solving 2.8 (b) \n",
        "We already have X_new. We will just have to normalize it and find the distance metric as usual in 2.8(a)"
      ]
    },
    {
      "cell_type": "code",
      "metadata": {
        "id": "s1IXm19b-6zT"
      },
      "source": [
        "def normalize(x):\n",
        "  return x/np.linalg.norm(x)\n",
        "\n",
        "X_new_norm = []\n",
        "\n",
        "for i in range(X_new.shape[0]):\n",
        "  X_new_norm.append(normalize(X_new[i]))\n",
        "\n",
        "X_new_norm = np.array(X_new_norm)"
      ],
      "execution_count": null,
      "outputs": []
    },
    {
      "cell_type": "code",
      "metadata": {
        "colab": {
          "base_uri": "https://localhost:8080/",
          "height": 1000
        },
        "id": "_dGNXOSbC0C9",
        "outputId": "7f212a5a-6fab-4a1f-bbd4-df830923980a"
      },
      "source": [
        "ndf = pd.DataFrame(X_new_norm[:-1],columns = df.columns,index=df.index)\n",
        "points_map = dict(zip(ndf.index,ndf.values))\n",
        "print('------------------------------------------------------------------------------------------------------------------')\n",
        "X          = df.values\n",
        "print('The normalized data is given as  ')\n",
        "display(X_new_norm)\n",
        "print('\\n')\n",
        "\n",
        "print('------------------------------------------------------------------------------------------------------------------')\n",
        "dist       = DistanceMetric.get_metric('euclidean')\n",
        "euc_dist   = dist.pairwise(X_new_norm)\n",
        "distance_val  = euc_dist[-1,:-1]\n",
        "distance_dict = dict(zip(df.index,distance_val))\n",
        "similar_df    = pd.DataFrame(np.array(sorted(distance_dict.items(), key=operator.itemgetter(1),reverse=False)),columns= ['Points','Euclidean_distance'])\n",
        "similar_df['sample_point'] = similar_df['Points'].map(points_map)\n",
        "similar_df['comparison_point'] = [X_new_norm[-1]]*len(similar_df)\n",
        "similar_df['Euclidean_distance'] = similar_df['Euclidean_distance'].apply(lambda z: round(np.float(z),3))\n",
        "print('Euclidean distance calculated and the dataset points are ranked based on similarty based on Euclidean distance')\n",
        "display(similar_df)\n",
        "print('\\n')\n",
        "\n",
        "print('------------------------------------------------------------------------------------------------------------------')\n",
        "dist          = DistanceMetric.get_metric('manhattan')\n",
        "man_dist      = dist.pairwise(X_new_norm)\n",
        "distance_val  = man_dist[-1,:-1]\n",
        "distance_dict = dict(zip(df.index,distance_val))\n",
        "similar_df    = pd.DataFrame(np.array(sorted(distance_dict.items(), key=operator.itemgetter(1),reverse=False)),columns= ['Points','Manhattan_distance'])\n",
        "similar_df['sample_point'] = similar_df['Points'].map(points_map)\n",
        "similar_df['comparison_point'] = [X_new_norm[-1]]*len(similar_df)\n",
        "similar_df['Manhattan_distance'] = similar_df['Manhattan_distance'].apply(lambda z: round(np.float(z),3))\n",
        "print('Manhattan distance calculated and the dataset points are ranked based on similarty based on Manhattan distance')\n",
        "display(similar_df)\n",
        "print('\\n')\n",
        "\n",
        "\n",
        "print('------------------------------------------------------------------------------------------------------------------')\n",
        "dist          = DistanceMetric.get_metric('chebyshev')\n",
        "sup_dist      = dist.pairwise(X_new_norm)\n",
        "distance_val  = sup_dist[-1,:-1]\n",
        "distance_dict = dict(zip(df.index,distance_val))\n",
        "similar_df    = pd.DataFrame(np.array(sorted(distance_dict.items(), key=operator.itemgetter(1),reverse=False)),columns= ['Points','Supremum_distance'])\n",
        "similar_df['sample_point'] = similar_df['Points'].map(points_map)\n",
        "similar_df['comparison_point'] = [X_new_norm[-1]]*len(similar_df)\n",
        "similar_df['Supremum_distance'] = similar_df['Supremum_distance'].apply(lambda z: round(np.float(z),3))\n",
        "print('Supremum distance calculated and the dataset points are ranked based on similarty based on Supremum distance')\n",
        "display(similar_df)\n",
        "print('\\n')\n",
        "\n",
        "\n",
        "print('------------------------------------------------------------------------------------------------------------------')\n",
        "cosine_distance = {}\n",
        "for i in range(X.shape[0]):\n",
        "  cosine_distance[f'x{i+1}'] = cosine_similarity(X_new_norm[-1].reshape(1,-1),X_new_norm[i].reshape(1,-1))[0][0]\n",
        "\n",
        "similar_df    = pd.DataFrame(np.array(sorted(cosine_distance.items(), key=operator.itemgetter(1),reverse=True)),columns= ['Points','Cosine_distance'])\n",
        "similar_df['sample_point'] = similar_df['Points'].map(points_map)\n",
        "similar_df['comparison_point'] = [X_new_norm[-1]]*len(similar_df)\n",
        "similar_df['Cosine_distance'] = similar_df['Cosine_distance'].apply(lambda z: round(np.float(z),5))\n",
        "print('Cosine similarity distance calculated and the dataset points are ranked based on similarty based on cosine similarity')\n",
        "display(similar_df)"
      ],
      "execution_count": null,
      "outputs": [
        {
          "output_type": "stream",
          "name": "stdout",
          "text": [
            "------------------------------------------------------------------------------------------------------------------\n",
            "The normalized data is given as  \n"
          ]
        },
        {
          "output_type": "display_data",
          "data": {
            "text/plain": [
              "array([[0.66162164, 0.74983786],\n",
              "       [0.72499943, 0.68874946],\n",
              "       [0.66436384, 0.74740932],\n",
              "       [0.62469505, 0.78086881],\n",
              "       [0.83205029, 0.5547002 ],\n",
              "       [0.65850461, 0.75257669]])"
            ]
          },
          "metadata": {}
        },
        {
          "output_type": "stream",
          "name": "stdout",
          "text": [
            "\n",
            "\n",
            "------------------------------------------------------------------------------------------------------------------\n",
            "Euclidean distance calculated and the dataset points are ranked based on similarty based on Euclidean distance\n"
          ]
        },
        {
          "output_type": "display_data",
          "data": {
            "text/html": [
              "<div>\n",
              "<style scoped>\n",
              "    .dataframe tbody tr th:only-of-type {\n",
              "        vertical-align: middle;\n",
              "    }\n",
              "\n",
              "    .dataframe tbody tr th {\n",
              "        vertical-align: top;\n",
              "    }\n",
              "\n",
              "    .dataframe thead th {\n",
              "        text-align: right;\n",
              "    }\n",
              "</style>\n",
              "<table border=\"1\" class=\"dataframe\">\n",
              "  <thead>\n",
              "    <tr style=\"text-align: right;\">\n",
              "      <th></th>\n",
              "      <th>Points</th>\n",
              "      <th>Euclidean_distance</th>\n",
              "      <th>sample_point</th>\n",
              "      <th>comparison_point</th>\n",
              "    </tr>\n",
              "  </thead>\n",
              "  <tbody>\n",
              "    <tr>\n",
              "      <th>0</th>\n",
              "      <td>x1</td>\n",
              "      <td>0.004</td>\n",
              "      <td>[0.6616216370868464, 0.7498378553650925]</td>\n",
              "      <td>[0.658504607868518, 0.7525766947068778]</td>\n",
              "    </tr>\n",
              "    <tr>\n",
              "      <th>1</th>\n",
              "      <td>x3</td>\n",
              "      <td>0.008</td>\n",
              "      <td>[0.6643638388299198, 0.7474093186836597]</td>\n",
              "      <td>[0.658504607868518, 0.7525766947068778]</td>\n",
              "    </tr>\n",
              "    <tr>\n",
              "      <th>2</th>\n",
              "      <td>x4</td>\n",
              "      <td>0.044</td>\n",
              "      <td>[0.6246950475544242, 0.7808688094430303]</td>\n",
              "      <td>[0.658504607868518, 0.7525766947068778]</td>\n",
              "    </tr>\n",
              "    <tr>\n",
              "      <th>3</th>\n",
              "      <td>x2</td>\n",
              "      <td>0.092</td>\n",
              "      <td>[0.7249994335944139, 0.6887494619146931]</td>\n",
              "      <td>[0.658504607868518, 0.7525766947068778]</td>\n",
              "    </tr>\n",
              "    <tr>\n",
              "      <th>4</th>\n",
              "      <td>x5</td>\n",
              "      <td>0.263</td>\n",
              "      <td>[0.8320502943378437, 0.5547001962252291]</td>\n",
              "      <td>[0.658504607868518, 0.7525766947068778]</td>\n",
              "    </tr>\n",
              "  </tbody>\n",
              "</table>\n",
              "</div>"
            ],
            "text/plain": [
              "  Points  ...                         comparison_point\n",
              "0     x1  ...  [0.658504607868518, 0.7525766947068778]\n",
              "1     x3  ...  [0.658504607868518, 0.7525766947068778]\n",
              "2     x4  ...  [0.658504607868518, 0.7525766947068778]\n",
              "3     x2  ...  [0.658504607868518, 0.7525766947068778]\n",
              "4     x5  ...  [0.658504607868518, 0.7525766947068778]\n",
              "\n",
              "[5 rows x 4 columns]"
            ]
          },
          "metadata": {}
        },
        {
          "output_type": "stream",
          "name": "stdout",
          "text": [
            "\n",
            "\n",
            "------------------------------------------------------------------------------------------------------------------\n",
            "Manhattan distance calculated and the dataset points are ranked based on similarty based on Manhattan distance\n"
          ]
        },
        {
          "output_type": "display_data",
          "data": {
            "text/html": [
              "<div>\n",
              "<style scoped>\n",
              "    .dataframe tbody tr th:only-of-type {\n",
              "        vertical-align: middle;\n",
              "    }\n",
              "\n",
              "    .dataframe tbody tr th {\n",
              "        vertical-align: top;\n",
              "    }\n",
              "\n",
              "    .dataframe thead th {\n",
              "        text-align: right;\n",
              "    }\n",
              "</style>\n",
              "<table border=\"1\" class=\"dataframe\">\n",
              "  <thead>\n",
              "    <tr style=\"text-align: right;\">\n",
              "      <th></th>\n",
              "      <th>Points</th>\n",
              "      <th>Manhattan_distance</th>\n",
              "      <th>sample_point</th>\n",
              "      <th>comparison_point</th>\n",
              "    </tr>\n",
              "  </thead>\n",
              "  <tbody>\n",
              "    <tr>\n",
              "      <th>0</th>\n",
              "      <td>x1</td>\n",
              "      <td>0.006</td>\n",
              "      <td>[0.6616216370868464, 0.7498378553650925]</td>\n",
              "      <td>[0.658504607868518, 0.7525766947068778]</td>\n",
              "    </tr>\n",
              "    <tr>\n",
              "      <th>1</th>\n",
              "      <td>x3</td>\n",
              "      <td>0.011</td>\n",
              "      <td>[0.6643638388299198, 0.7474093186836597]</td>\n",
              "      <td>[0.658504607868518, 0.7525766947068778]</td>\n",
              "    </tr>\n",
              "    <tr>\n",
              "      <th>2</th>\n",
              "      <td>x4</td>\n",
              "      <td>0.062</td>\n",
              "      <td>[0.6246950475544242, 0.7808688094430303]</td>\n",
              "      <td>[0.658504607868518, 0.7525766947068778]</td>\n",
              "    </tr>\n",
              "    <tr>\n",
              "      <th>3</th>\n",
              "      <td>x2</td>\n",
              "      <td>0.130</td>\n",
              "      <td>[0.7249994335944139, 0.6887494619146931]</td>\n",
              "      <td>[0.658504607868518, 0.7525766947068778]</td>\n",
              "    </tr>\n",
              "    <tr>\n",
              "      <th>4</th>\n",
              "      <td>x5</td>\n",
              "      <td>0.371</td>\n",
              "      <td>[0.8320502943378437, 0.5547001962252291]</td>\n",
              "      <td>[0.658504607868518, 0.7525766947068778]</td>\n",
              "    </tr>\n",
              "  </tbody>\n",
              "</table>\n",
              "</div>"
            ],
            "text/plain": [
              "  Points  ...                         comparison_point\n",
              "0     x1  ...  [0.658504607868518, 0.7525766947068778]\n",
              "1     x3  ...  [0.658504607868518, 0.7525766947068778]\n",
              "2     x4  ...  [0.658504607868518, 0.7525766947068778]\n",
              "3     x2  ...  [0.658504607868518, 0.7525766947068778]\n",
              "4     x5  ...  [0.658504607868518, 0.7525766947068778]\n",
              "\n",
              "[5 rows x 4 columns]"
            ]
          },
          "metadata": {}
        },
        {
          "output_type": "stream",
          "name": "stdout",
          "text": [
            "\n",
            "\n",
            "------------------------------------------------------------------------------------------------------------------\n",
            "Supremum distance calculated and the dataset points are ranked based on similarty based on Supremum distance\n"
          ]
        },
        {
          "output_type": "display_data",
          "data": {
            "text/html": [
              "<div>\n",
              "<style scoped>\n",
              "    .dataframe tbody tr th:only-of-type {\n",
              "        vertical-align: middle;\n",
              "    }\n",
              "\n",
              "    .dataframe tbody tr th {\n",
              "        vertical-align: top;\n",
              "    }\n",
              "\n",
              "    .dataframe thead th {\n",
              "        text-align: right;\n",
              "    }\n",
              "</style>\n",
              "<table border=\"1\" class=\"dataframe\">\n",
              "  <thead>\n",
              "    <tr style=\"text-align: right;\">\n",
              "      <th></th>\n",
              "      <th>Points</th>\n",
              "      <th>Supremum_distance</th>\n",
              "      <th>sample_point</th>\n",
              "      <th>comparison_point</th>\n",
              "    </tr>\n",
              "  </thead>\n",
              "  <tbody>\n",
              "    <tr>\n",
              "      <th>0</th>\n",
              "      <td>x1</td>\n",
              "      <td>0.003</td>\n",
              "      <td>[0.6616216370868464, 0.7498378553650925]</td>\n",
              "      <td>[0.658504607868518, 0.7525766947068778]</td>\n",
              "    </tr>\n",
              "    <tr>\n",
              "      <th>1</th>\n",
              "      <td>x3</td>\n",
              "      <td>0.006</td>\n",
              "      <td>[0.6643638388299198, 0.7474093186836597]</td>\n",
              "      <td>[0.658504607868518, 0.7525766947068778]</td>\n",
              "    </tr>\n",
              "    <tr>\n",
              "      <th>2</th>\n",
              "      <td>x4</td>\n",
              "      <td>0.034</td>\n",
              "      <td>[0.6246950475544242, 0.7808688094430303]</td>\n",
              "      <td>[0.658504607868518, 0.7525766947068778]</td>\n",
              "    </tr>\n",
              "    <tr>\n",
              "      <th>3</th>\n",
              "      <td>x2</td>\n",
              "      <td>0.066</td>\n",
              "      <td>[0.7249994335944139, 0.6887494619146931]</td>\n",
              "      <td>[0.658504607868518, 0.7525766947068778]</td>\n",
              "    </tr>\n",
              "    <tr>\n",
              "      <th>4</th>\n",
              "      <td>x5</td>\n",
              "      <td>0.198</td>\n",
              "      <td>[0.8320502943378437, 0.5547001962252291]</td>\n",
              "      <td>[0.658504607868518, 0.7525766947068778]</td>\n",
              "    </tr>\n",
              "  </tbody>\n",
              "</table>\n",
              "</div>"
            ],
            "text/plain": [
              "  Points  ...                         comparison_point\n",
              "0     x1  ...  [0.658504607868518, 0.7525766947068778]\n",
              "1     x3  ...  [0.658504607868518, 0.7525766947068778]\n",
              "2     x4  ...  [0.658504607868518, 0.7525766947068778]\n",
              "3     x2  ...  [0.658504607868518, 0.7525766947068778]\n",
              "4     x5  ...  [0.658504607868518, 0.7525766947068778]\n",
              "\n",
              "[5 rows x 4 columns]"
            ]
          },
          "metadata": {}
        },
        {
          "output_type": "stream",
          "name": "stdout",
          "text": [
            "\n",
            "\n",
            "------------------------------------------------------------------------------------------------------------------\n",
            "Cosine similarity distance calculated and the dataset points are ranked based on similarty based on cosine similarity\n"
          ]
        },
        {
          "output_type": "display_data",
          "data": {
            "text/html": [
              "<div>\n",
              "<style scoped>\n",
              "    .dataframe tbody tr th:only-of-type {\n",
              "        vertical-align: middle;\n",
              "    }\n",
              "\n",
              "    .dataframe tbody tr th {\n",
              "        vertical-align: top;\n",
              "    }\n",
              "\n",
              "    .dataframe thead th {\n",
              "        text-align: right;\n",
              "    }\n",
              "</style>\n",
              "<table border=\"1\" class=\"dataframe\">\n",
              "  <thead>\n",
              "    <tr style=\"text-align: right;\">\n",
              "      <th></th>\n",
              "      <th>Points</th>\n",
              "      <th>Cosine_distance</th>\n",
              "      <th>sample_point</th>\n",
              "      <th>comparison_point</th>\n",
              "    </tr>\n",
              "  </thead>\n",
              "  <tbody>\n",
              "    <tr>\n",
              "      <th>0</th>\n",
              "      <td>x1</td>\n",
              "      <td>0.99999</td>\n",
              "      <td>[0.6616216370868464, 0.7498378553650925]</td>\n",
              "      <td>[0.658504607868518, 0.7525766947068778]</td>\n",
              "    </tr>\n",
              "    <tr>\n",
              "      <th>1</th>\n",
              "      <td>x3</td>\n",
              "      <td>0.99997</td>\n",
              "      <td>[0.6643638388299198, 0.7474093186836597]</td>\n",
              "      <td>[0.658504607868518, 0.7525766947068778]</td>\n",
              "    </tr>\n",
              "    <tr>\n",
              "      <th>2</th>\n",
              "      <td>x4</td>\n",
              "      <td>0.99903</td>\n",
              "      <td>[0.6246950475544242, 0.7808688094430303]</td>\n",
              "      <td>[0.658504607868518, 0.7525766947068778]</td>\n",
              "    </tr>\n",
              "    <tr>\n",
              "      <th>3</th>\n",
              "      <td>x2</td>\n",
              "      <td>0.99575</td>\n",
              "      <td>[0.7249994335944139, 0.6887494619146931]</td>\n",
              "      <td>[0.658504607868518, 0.7525766947068778]</td>\n",
              "    </tr>\n",
              "    <tr>\n",
              "      <th>4</th>\n",
              "      <td>x5</td>\n",
              "      <td>0.96536</td>\n",
              "      <td>[0.8320502943378437, 0.5547001962252291]</td>\n",
              "      <td>[0.658504607868518, 0.7525766947068778]</td>\n",
              "    </tr>\n",
              "  </tbody>\n",
              "</table>\n",
              "</div>"
            ],
            "text/plain": [
              "  Points  ...                         comparison_point\n",
              "0     x1  ...  [0.658504607868518, 0.7525766947068778]\n",
              "1     x3  ...  [0.658504607868518, 0.7525766947068778]\n",
              "2     x4  ...  [0.658504607868518, 0.7525766947068778]\n",
              "3     x2  ...  [0.658504607868518, 0.7525766947068778]\n",
              "4     x5  ...  [0.658504607868518, 0.7525766947068778]\n",
              "\n",
              "[5 rows x 4 columns]"
            ]
          },
          "metadata": {}
        }
      ]
    },
    {
      "cell_type": "markdown",
      "metadata": {
        "id": "nF0Qzw7QHqxE"
      },
      "source": [
        "### Solving a Quiz question\n",
        "Given the following vectors, find the pair with maximum cosine similarity"
      ]
    },
    {
      "cell_type": "code",
      "metadata": {
        "colab": {
          "base_uri": "https://localhost:8080/",
          "height": 404
        },
        "id": "NtDGjcM5E7MR",
        "outputId": "c0667fef-bb4e-4e50-b591-72047ba39582"
      },
      "source": [
        "v1  = np.array([2,7,1,4])\n",
        "v2  = np.array([3,8,1,4])\n",
        "v3  = np.array([4,14,2,8])\n",
        "X   = np.array([v1,v2,v3])\n",
        "print('-------------------------------------------------------------------')\n",
        "sim = cosine_similarity(X,X)\n",
        "print('We have calculated the pairwise vector cosine similarity as below')\n",
        "display(sim)\n",
        "print('\\n')\n",
        "\n",
        "print('We set all diagonal values to 0')\n",
        "for i in range(X.shape[0]):\n",
        "  for j in range(X.shape[1]):\n",
        "    if i==j:\n",
        "      sim[i][j]=0\n",
        "print('-------------------------------------------------------------------')\n",
        "simdf = pd.DataFrame(sim,columns = [f'X{i+1}' for i in range(3)],index = [f'X{i+1}' for i in range(3)])\n",
        "max_val  = simdf.max(axis=1)\n",
        "max_ind  = simdf.idxmax(axis=1)\n",
        "simdf['max_dist'] = max_val\n",
        "simdf['max_ind']  = max_ind\n",
        "print('We get the following similarity matrix - \\n')\n",
        "display(simdf.sort_values(by=['max_dist'],ascending=False))\n",
        "print('\\n')\n",
        "print('-------------------------------------------------------------------')\n",
        "print('1 and 3 are similar')"
      ],
      "execution_count": null,
      "outputs": [
        {
          "output_type": "stream",
          "name": "stdout",
          "text": [
            "-------------------------------------------------------------------\n",
            "We have calculated the pairwise vector cosine similarity as below\n"
          ]
        },
        {
          "output_type": "display_data",
          "data": {
            "text/plain": [
              "array([[1.        , 0.99530645, 1.        ],\n",
              "       [0.99530645, 1.        , 0.99530645],\n",
              "       [1.        , 0.99530645, 1.        ]])"
            ]
          },
          "metadata": {}
        },
        {
          "output_type": "stream",
          "name": "stdout",
          "text": [
            "\n",
            "\n",
            "We set all diagonal values to 0\n",
            "-------------------------------------------------------------------\n",
            "We get the following similarity matrix - \n",
            "\n"
          ]
        },
        {
          "output_type": "display_data",
          "data": {
            "text/html": [
              "<div>\n",
              "<style scoped>\n",
              "    .dataframe tbody tr th:only-of-type {\n",
              "        vertical-align: middle;\n",
              "    }\n",
              "\n",
              "    .dataframe tbody tr th {\n",
              "        vertical-align: top;\n",
              "    }\n",
              "\n",
              "    .dataframe thead th {\n",
              "        text-align: right;\n",
              "    }\n",
              "</style>\n",
              "<table border=\"1\" class=\"dataframe\">\n",
              "  <thead>\n",
              "    <tr style=\"text-align: right;\">\n",
              "      <th></th>\n",
              "      <th>X1</th>\n",
              "      <th>X2</th>\n",
              "      <th>X3</th>\n",
              "      <th>max_dist</th>\n",
              "      <th>max_ind</th>\n",
              "    </tr>\n",
              "  </thead>\n",
              "  <tbody>\n",
              "    <tr>\n",
              "      <th>X1</th>\n",
              "      <td>0.000000</td>\n",
              "      <td>0.995306</td>\n",
              "      <td>1.000000</td>\n",
              "      <td>1.000000</td>\n",
              "      <td>X3</td>\n",
              "    </tr>\n",
              "    <tr>\n",
              "      <th>X3</th>\n",
              "      <td>1.000000</td>\n",
              "      <td>0.995306</td>\n",
              "      <td>0.000000</td>\n",
              "      <td>1.000000</td>\n",
              "      <td>X1</td>\n",
              "    </tr>\n",
              "    <tr>\n",
              "      <th>X2</th>\n",
              "      <td>0.995306</td>\n",
              "      <td>0.000000</td>\n",
              "      <td>0.995306</td>\n",
              "      <td>0.995306</td>\n",
              "      <td>X1</td>\n",
              "    </tr>\n",
              "  </tbody>\n",
              "</table>\n",
              "</div>"
            ],
            "text/plain": [
              "          X1        X2        X3  max_dist max_ind\n",
              "X1  0.000000  0.995306  1.000000  1.000000      X3\n",
              "X3  1.000000  0.995306  0.000000  1.000000      X1\n",
              "X2  0.995306  0.000000  0.995306  0.995306      X1"
            ]
          },
          "metadata": {}
        },
        {
          "output_type": "stream",
          "name": "stdout",
          "text": [
            "\n",
            "\n",
            "-------------------------------------------------------------------\n",
            "1 and 3 are similar\n"
          ]
        }
      ]
    },
    {
      "cell_type": "markdown",
      "metadata": {
        "id": "EWkV0hPvJ4Eb"
      },
      "source": [
        "# Proximity measures for Ordinal attributes\n",
        "\n",
        "* Step1 - We will first label encode the list given to us with excellent>good>fair and accodingly assign 3 to excellent and 1 to fair\n",
        "* Step2 - Find the distinct number of values in the encoded list to find M (number of states)\n",
        "* Step3 - We perform data normalization on test2_enc <br>\n",
        "formula is z = (r-1)/(M-1) where r is a value from test2_enc\n",
        "* Step4 - Find the distance using any ways implemented to calculate distance for numerical attributes"
      ]
    },
    {
      "cell_type": "code",
      "metadata": {
        "id": "rnEHyLvTH-I9"
      },
      "source": [
        "test2 = ['excellent','fair','good','excellent']"
      ],
      "execution_count": null,
      "outputs": []
    },
    {
      "cell_type": "code",
      "metadata": {
        "colab": {
          "base_uri": "https://localhost:8080/",
          "height": 505
        },
        "id": "FeokRujVLd3c",
        "outputId": "d6ad5920-f4f6-4962-ef13-4ac8cf5ad1f4"
      },
      "source": [
        "print('--------------------------------------------------------------------------------------------------------------------------------------------------------')\n",
        "label_encode_ordinal = {'excellent':3,'good':2,'fair':1}\n",
        "print('Step1')\n",
        "print(f'The dictionary to be used for label encoding is {label_encode_ordinal}')\n",
        "print('\\n')\n",
        "\n",
        "test2_enc            = [label_encode_ordinal[i] for i in test2]\n",
        "print(f'The label encoded value for {test2} will be {test2_enc}')\n",
        "print('\\n')\n",
        "\n",
        "\n",
        "print('--------------------------------------------------------------------------------------------------------------------------------------------------------')\n",
        "print('Step 2')\n",
        "print('We find the distinct number of values in encoded list ie., M')\n",
        "M                    = len(set(test2_enc))\n",
        "print(f'The value of M is {M}')\n",
        "print('--------------------------------------------------------------------------------------------------------------------------------------------------------')\n",
        "\n",
        "print('Step3')\n",
        "ordinal_list_norm    = np.float_(np.array([(val-1)/(M-1) for val in test2_enc]))\n",
        "print(f'The ordinal list {test2} which was label encoded to be {test2_enc} is now normalized using the formula mentioned to get {ordinal_list_norm} \\n')\n",
        "print('--------------------------------------------------------------------------------------------------------------------------------------------------------')\n",
        "\n",
        "print('Step4')\n",
        "dissim               = np.zeros((len(ordinal_list_norm),(len(ordinal_list_norm))))\n",
        "for i in range(dissim.shape[0]):\n",
        "  for j in range(dissim.shape[1]):\n",
        "    dissim[i][j] = np.sqrt((ordinal_list_norm[i]-ordinal_list_norm[j])**2)\n",
        "print('We calculated the distance between successive points to get the distance matrix as ')\n",
        "display(pd.DataFrame(dissim,columns = test2,index=test2))"
      ],
      "execution_count": null,
      "outputs": [
        {
          "output_type": "stream",
          "name": "stdout",
          "text": [
            "--------------------------------------------------------------------------------------------------------------------------------------------------------\n",
            "Step1\n",
            "The dictionary to be used for label encoding is {'excellent': 3, 'good': 2, 'fair': 1}\n",
            "\n",
            "\n",
            "The label encoded value for ['excellent', 'fair', 'good', 'excellent'] will be [3, 1, 2, 3]\n",
            "\n",
            "\n",
            "--------------------------------------------------------------------------------------------------------------------------------------------------------\n",
            "Step 2\n",
            "We find the distinct number of values in encoded list ie., M\n",
            "The value of M is 3\n",
            "--------------------------------------------------------------------------------------------------------------------------------------------------------\n",
            "Step3\n",
            "The ordinal list ['excellent', 'fair', 'good', 'excellent'] which was label encoded to be [3, 1, 2, 3] is now normalized using the formula mentioned to get [1.  0.  0.5 1. ] \n",
            "\n",
            "--------------------------------------------------------------------------------------------------------------------------------------------------------\n",
            "Step4\n",
            "We calculated the distance between successive points to get the distance matrix as \n"
          ]
        },
        {
          "output_type": "display_data",
          "data": {
            "text/html": [
              "<div>\n",
              "<style scoped>\n",
              "    .dataframe tbody tr th:only-of-type {\n",
              "        vertical-align: middle;\n",
              "    }\n",
              "\n",
              "    .dataframe tbody tr th {\n",
              "        vertical-align: top;\n",
              "    }\n",
              "\n",
              "    .dataframe thead th {\n",
              "        text-align: right;\n",
              "    }\n",
              "</style>\n",
              "<table border=\"1\" class=\"dataframe\">\n",
              "  <thead>\n",
              "    <tr style=\"text-align: right;\">\n",
              "      <th></th>\n",
              "      <th>excellent</th>\n",
              "      <th>fair</th>\n",
              "      <th>good</th>\n",
              "      <th>excellent</th>\n",
              "    </tr>\n",
              "  </thead>\n",
              "  <tbody>\n",
              "    <tr>\n",
              "      <th>excellent</th>\n",
              "      <td>0.0</td>\n",
              "      <td>1.0</td>\n",
              "      <td>0.5</td>\n",
              "      <td>0.0</td>\n",
              "    </tr>\n",
              "    <tr>\n",
              "      <th>fair</th>\n",
              "      <td>1.0</td>\n",
              "      <td>0.0</td>\n",
              "      <td>0.5</td>\n",
              "      <td>1.0</td>\n",
              "    </tr>\n",
              "    <tr>\n",
              "      <th>good</th>\n",
              "      <td>0.5</td>\n",
              "      <td>0.5</td>\n",
              "      <td>0.0</td>\n",
              "      <td>0.5</td>\n",
              "    </tr>\n",
              "    <tr>\n",
              "      <th>excellent</th>\n",
              "      <td>0.0</td>\n",
              "      <td>1.0</td>\n",
              "      <td>0.5</td>\n",
              "      <td>0.0</td>\n",
              "    </tr>\n",
              "  </tbody>\n",
              "</table>\n",
              "</div>"
            ],
            "text/plain": [
              "           excellent  fair  good  excellent\n",
              "excellent        0.0   1.0   0.5        0.0\n",
              "fair             1.0   0.0   0.5        1.0\n",
              "good             0.5   0.5   0.0        0.5\n",
              "excellent        0.0   1.0   0.5        0.0"
            ]
          },
          "metadata": {}
        }
      ]
    },
    {
      "cell_type": "markdown",
      "metadata": {
        "id": "C0K6CQgNP5mP"
      },
      "source": [
        "# Dissimilarity for attrbutes of Mixed Types\n",
        "* The below text-book example contains 3 attributes. test1 is nominal attribute, test2 is ordinal attribute, test3 is numeric attribute.\n",
        "* We will evaluate the similarities of all the attributes separately and aggregate them together towards the end.\n"
      ]
    },
    {
      "cell_type": "code",
      "metadata": {
        "colab": {
          "base_uri": "https://localhost:8080/",
          "height": 174
        },
        "id": "wCjEy90TLaD3",
        "outputId": "b8681601-8176-4250-dbb2-0d098b8d7ac7"
      },
      "source": [
        "test1 = ['code A','code B','code C','code A']\n",
        "test2 = ['excellent','fair','good','excellent']\n",
        "test3 = [45,22,64,28]\n",
        "obj   = [1,2,3,4]\n",
        "df    = pd.DataFrame(columns = ['Object Identifier','test1','test2','test3'])\n",
        "df['Object Identifier'] = obj\n",
        "df['test1']             = test1\n",
        "df['test2']             = test2\n",
        "df['test3']             = test3\n",
        "df"
      ],
      "execution_count": null,
      "outputs": [
        {
          "output_type": "execute_result",
          "data": {
            "text/html": [
              "<div>\n",
              "<style scoped>\n",
              "    .dataframe tbody tr th:only-of-type {\n",
              "        vertical-align: middle;\n",
              "    }\n",
              "\n",
              "    .dataframe tbody tr th {\n",
              "        vertical-align: top;\n",
              "    }\n",
              "\n",
              "    .dataframe thead th {\n",
              "        text-align: right;\n",
              "    }\n",
              "</style>\n",
              "<table border=\"1\" class=\"dataframe\">\n",
              "  <thead>\n",
              "    <tr style=\"text-align: right;\">\n",
              "      <th></th>\n",
              "      <th>Object Identifier</th>\n",
              "      <th>test1</th>\n",
              "      <th>test2</th>\n",
              "      <th>test3</th>\n",
              "    </tr>\n",
              "  </thead>\n",
              "  <tbody>\n",
              "    <tr>\n",
              "      <th>0</th>\n",
              "      <td>1</td>\n",
              "      <td>code A</td>\n",
              "      <td>excellent</td>\n",
              "      <td>45</td>\n",
              "    </tr>\n",
              "    <tr>\n",
              "      <th>1</th>\n",
              "      <td>2</td>\n",
              "      <td>code B</td>\n",
              "      <td>fair</td>\n",
              "      <td>22</td>\n",
              "    </tr>\n",
              "    <tr>\n",
              "      <th>2</th>\n",
              "      <td>3</td>\n",
              "      <td>code C</td>\n",
              "      <td>good</td>\n",
              "      <td>64</td>\n",
              "    </tr>\n",
              "    <tr>\n",
              "      <th>3</th>\n",
              "      <td>4</td>\n",
              "      <td>code A</td>\n",
              "      <td>excellent</td>\n",
              "      <td>28</td>\n",
              "    </tr>\n",
              "  </tbody>\n",
              "</table>\n",
              "</div>"
            ],
            "text/plain": [
              "   Object Identifier   test1      test2  test3\n",
              "0                  1  code A  excellent     45\n",
              "1                  2  code B       fair     22\n",
              "2                  3  code C       good     64\n",
              "3                  4  code A  excellent     28"
            ]
          },
          "metadata": {},
          "execution_count": 39
        }
      ]
    },
    {
      "cell_type": "markdown",
      "metadata": {
        "id": "QyTasNbcSpe9"
      },
      "source": [
        "We will calculate the dissimilarity in nominal attributes (we have calculated it previously and I pasted the segment as it is) "
      ]
    },
    {
      "cell_type": "code",
      "metadata": {
        "colab": {
          "base_uri": "https://localhost:8080/",
          "height": 296
        },
        "id": "QnOEXINXR1cF",
        "outputId": "b53efee4-eb72-4072-dbc1-8f03036ae235"
      },
      "source": [
        "test1 = df['test1'].values\n",
        "print('----------------------------------------------------------------------------------------------------------')\n",
        "print('We have the following list of nominal attributes')\n",
        "print(df['test1'].values)\n",
        "print('\\n')\n",
        "test1       = df['test1'].values\n",
        "dis_sim     = np.ones((len(test1),len(test1)))\n",
        "dis_sim     = np.ones((len(test1),len(test1)))\n",
        "for i in range(len(test1)):\n",
        "  for j in range(len(test1)):\n",
        "    if i<j:\n",
        "      if test1[i]==test1[j]:\n",
        "        dis_sim[i][j] = 0\n",
        "        dis_sim[j][i] = 0\n",
        "\n",
        "\n",
        "print('----------------------------------------------------------------------------------------------------------')\n",
        "print('The dissimilarity matrix attained where 0 refers to similarity and 1 refers to dissimilarity is given as ')\n",
        "dissimilarity_nominal = pd.DataFrame(dis_sim,columns = [f'object_{i+1}' for i in range(len(test1))], index = [f'object_{i+1}' for i in range(len(test1))])\n",
        "display(dissimilarity_nominal)\n"
      ],
      "execution_count": null,
      "outputs": [
        {
          "output_type": "stream",
          "name": "stdout",
          "text": [
            "----------------------------------------------------------------------------------------------------------\n",
            "We have the following list of nominal attributes\n",
            "['code A' 'code B' 'code C' 'code A']\n",
            "\n",
            "\n",
            "----------------------------------------------------------------------------------------------------------\n",
            "The dissimilarity matrix attained where 0 refers to similarity and 1 refers to dissimilarity is given as \n"
          ]
        },
        {
          "output_type": "display_data",
          "data": {
            "text/html": [
              "<div>\n",
              "<style scoped>\n",
              "    .dataframe tbody tr th:only-of-type {\n",
              "        vertical-align: middle;\n",
              "    }\n",
              "\n",
              "    .dataframe tbody tr th {\n",
              "        vertical-align: top;\n",
              "    }\n",
              "\n",
              "    .dataframe thead th {\n",
              "        text-align: right;\n",
              "    }\n",
              "</style>\n",
              "<table border=\"1\" class=\"dataframe\">\n",
              "  <thead>\n",
              "    <tr style=\"text-align: right;\">\n",
              "      <th></th>\n",
              "      <th>object_1</th>\n",
              "      <th>object_2</th>\n",
              "      <th>object_3</th>\n",
              "      <th>object_4</th>\n",
              "    </tr>\n",
              "  </thead>\n",
              "  <tbody>\n",
              "    <tr>\n",
              "      <th>object_1</th>\n",
              "      <td>1.0</td>\n",
              "      <td>1.0</td>\n",
              "      <td>1.0</td>\n",
              "      <td>0.0</td>\n",
              "    </tr>\n",
              "    <tr>\n",
              "      <th>object_2</th>\n",
              "      <td>1.0</td>\n",
              "      <td>1.0</td>\n",
              "      <td>1.0</td>\n",
              "      <td>1.0</td>\n",
              "    </tr>\n",
              "    <tr>\n",
              "      <th>object_3</th>\n",
              "      <td>1.0</td>\n",
              "      <td>1.0</td>\n",
              "      <td>1.0</td>\n",
              "      <td>1.0</td>\n",
              "    </tr>\n",
              "    <tr>\n",
              "      <th>object_4</th>\n",
              "      <td>0.0</td>\n",
              "      <td>1.0</td>\n",
              "      <td>1.0</td>\n",
              "      <td>1.0</td>\n",
              "    </tr>\n",
              "  </tbody>\n",
              "</table>\n",
              "</div>"
            ],
            "text/plain": [
              "          object_1  object_2  object_3  object_4\n",
              "object_1       1.0       1.0       1.0       0.0\n",
              "object_2       1.0       1.0       1.0       1.0\n",
              "object_3       1.0       1.0       1.0       1.0\n",
              "object_4       0.0       1.0       1.0       1.0"
            ]
          },
          "metadata": {}
        }
      ]
    },
    {
      "cell_type": "markdown",
      "metadata": {
        "id": "dZvbNqzuS3QT"
      },
      "source": [
        "We will now solve the dissimilarity of ordinal attributes (again solved previously and we are just pasting it as it is) "
      ]
    },
    {
      "cell_type": "code",
      "metadata": {
        "colab": {
          "base_uri": "https://localhost:8080/",
          "height": 505
        },
        "id": "n0Iz4Bg_Sfpy",
        "outputId": "1482b53e-d845-44f3-996f-08d8f8bc8b31"
      },
      "source": [
        "test2      = df['test2'].values\n",
        "print('--------------------------------------------------------------------------------------------------------------------------------------------------------')\n",
        "label_encode_ordinal = {'excellent':3,'good':2,'fair':1}\n",
        "print('Step1')\n",
        "print(f'The dictionary to be used for label encoding is {label_encode_ordinal}')\n",
        "print('\\n')\n",
        "\n",
        "test2_enc            = [label_encode_ordinal[i] for i in test2]\n",
        "print(f'The label encoded value for {test2} will be {test2_enc}')\n",
        "print('\\n')\n",
        "\n",
        "\n",
        "print('--------------------------------------------------------------------------------------------------------------------------------------------------------')\n",
        "print('Step 2')\n",
        "print('We find the distinct number of values in encoded list ie., M')\n",
        "M                    = len(set(test2_enc))\n",
        "print(f'The value of M is {M}')\n",
        "print('--------------------------------------------------------------------------------------------------------------------------------------------------------')\n",
        "\n",
        "print('Step3')\n",
        "ordinal_list_norm    = np.float_(np.array([(val-1)/(M-1) for val in test2_enc]))\n",
        "print(f'The ordinal list {test2} which was label encoded to be {test2_enc} is now normalized using the formula mentioned to get {ordinal_list_norm} \\n')\n",
        "print('--------------------------------------------------------------------------------------------------------------------------------------------------------')\n",
        "\n",
        "print('Step4')\n",
        "dissimilarity_ordinal          = np.zeros((len(ordinal_list_norm),(len(ordinal_list_norm))))\n",
        "for i in range(dissimilarity_ordinal.shape[0]):\n",
        "  for j in range(dissimilarity_ordinal.shape[1]):\n",
        "    dissimilarity_ordinal[i][j] = np.sqrt((ordinal_list_norm[i]-ordinal_list_norm[j])**2)\n",
        "print('We calculated the distance between successive points to get the distance matrix as ')\n",
        "display(pd.DataFrame(dissimilarity_ordinal,columns = test2,index=test2))"
      ],
      "execution_count": null,
      "outputs": [
        {
          "output_type": "stream",
          "name": "stdout",
          "text": [
            "--------------------------------------------------------------------------------------------------------------------------------------------------------\n",
            "Step1\n",
            "The dictionary to be used for label encoding is {'excellent': 3, 'good': 2, 'fair': 1}\n",
            "\n",
            "\n",
            "The label encoded value for ['excellent' 'fair' 'good' 'excellent'] will be [3, 1, 2, 3]\n",
            "\n",
            "\n",
            "--------------------------------------------------------------------------------------------------------------------------------------------------------\n",
            "Step 2\n",
            "We find the distinct number of values in encoded list ie., M\n",
            "The value of M is 3\n",
            "--------------------------------------------------------------------------------------------------------------------------------------------------------\n",
            "Step3\n",
            "The ordinal list ['excellent' 'fair' 'good' 'excellent'] which was label encoded to be [3, 1, 2, 3] is now normalized using the formula mentioned to get [1.  0.  0.5 1. ] \n",
            "\n",
            "--------------------------------------------------------------------------------------------------------------------------------------------------------\n",
            "Step4\n",
            "We calculated the distance between successive points to get the distance matrix as \n"
          ]
        },
        {
          "output_type": "display_data",
          "data": {
            "text/html": [
              "<div>\n",
              "<style scoped>\n",
              "    .dataframe tbody tr th:only-of-type {\n",
              "        vertical-align: middle;\n",
              "    }\n",
              "\n",
              "    .dataframe tbody tr th {\n",
              "        vertical-align: top;\n",
              "    }\n",
              "\n",
              "    .dataframe thead th {\n",
              "        text-align: right;\n",
              "    }\n",
              "</style>\n",
              "<table border=\"1\" class=\"dataframe\">\n",
              "  <thead>\n",
              "    <tr style=\"text-align: right;\">\n",
              "      <th></th>\n",
              "      <th>excellent</th>\n",
              "      <th>fair</th>\n",
              "      <th>good</th>\n",
              "      <th>excellent</th>\n",
              "    </tr>\n",
              "  </thead>\n",
              "  <tbody>\n",
              "    <tr>\n",
              "      <th>excellent</th>\n",
              "      <td>0.0</td>\n",
              "      <td>1.0</td>\n",
              "      <td>0.5</td>\n",
              "      <td>0.0</td>\n",
              "    </tr>\n",
              "    <tr>\n",
              "      <th>fair</th>\n",
              "      <td>1.0</td>\n",
              "      <td>0.0</td>\n",
              "      <td>0.5</td>\n",
              "      <td>1.0</td>\n",
              "    </tr>\n",
              "    <tr>\n",
              "      <th>good</th>\n",
              "      <td>0.5</td>\n",
              "      <td>0.5</td>\n",
              "      <td>0.0</td>\n",
              "      <td>0.5</td>\n",
              "    </tr>\n",
              "    <tr>\n",
              "      <th>excellent</th>\n",
              "      <td>0.0</td>\n",
              "      <td>1.0</td>\n",
              "      <td>0.5</td>\n",
              "      <td>0.0</td>\n",
              "    </tr>\n",
              "  </tbody>\n",
              "</table>\n",
              "</div>"
            ],
            "text/plain": [
              "           excellent  fair  good  excellent\n",
              "excellent        0.0   1.0   0.5        0.0\n",
              "fair             1.0   0.0   0.5        1.0\n",
              "good             0.5   0.5   0.0        0.5\n",
              "excellent        0.0   1.0   0.5        0.0"
            ]
          },
          "metadata": {}
        }
      ]
    },
    {
      "cell_type": "markdown",
      "metadata": {
        "id": "KyMgqUhcTNpt"
      },
      "source": [
        "We now calculate the distance corresponding to numeric attribute- test3. <br>\n",
        "It was assumed in the text book that we will normalize the test3 using maximum value = 64 and minimum value = 22"
      ]
    },
    {
      "cell_type": "code",
      "metadata": {
        "colab": {
          "base_uri": "https://localhost:8080/",
          "height": 210
        },
        "id": "MMIaykViTDob",
        "outputId": "6eb9689e-ac42-4248-d198-7c23c3cf29fb"
      },
      "source": [
        "test3      = df['test3'].values\n",
        "max        = 64\n",
        "min        = 22\n",
        "norm_test3 = [(val-min)/(max-min) for val in test3]\n",
        "print('--------------------------------------------------------------------------------------------------------------------------------------------------------')\n",
        "\n",
        "dissimilarity_numerical          = np.zeros((len(norm_test3),(len(norm_test3))))\n",
        "for i in range(dissimilarity_numerical.shape[0]):\n",
        "  for j in range(dissimilarity_numerical.shape[1]):\n",
        "    dissimilarity_numerical[i][j] = np.sqrt((norm_test3[i]-norm_test3[j])**2)\n",
        "print('We calculated the distance between successive points to get the distance matrix as ')\n",
        "display(pd.DataFrame(dissimilarity_numerical,columns = test3,index=test3))"
      ],
      "execution_count": null,
      "outputs": [
        {
          "output_type": "stream",
          "name": "stdout",
          "text": [
            "--------------------------------------------------------------------------------------------------------------------------------------------------------\n",
            "We calculated the distance between successive points to get the distance matrix as \n"
          ]
        },
        {
          "output_type": "display_data",
          "data": {
            "text/html": [
              "<div>\n",
              "<style scoped>\n",
              "    .dataframe tbody tr th:only-of-type {\n",
              "        vertical-align: middle;\n",
              "    }\n",
              "\n",
              "    .dataframe tbody tr th {\n",
              "        vertical-align: top;\n",
              "    }\n",
              "\n",
              "    .dataframe thead th {\n",
              "        text-align: right;\n",
              "    }\n",
              "</style>\n",
              "<table border=\"1\" class=\"dataframe\">\n",
              "  <thead>\n",
              "    <tr style=\"text-align: right;\">\n",
              "      <th></th>\n",
              "      <th>45</th>\n",
              "      <th>22</th>\n",
              "      <th>64</th>\n",
              "      <th>28</th>\n",
              "    </tr>\n",
              "  </thead>\n",
              "  <tbody>\n",
              "    <tr>\n",
              "      <th>45</th>\n",
              "      <td>0.000000</td>\n",
              "      <td>0.547619</td>\n",
              "      <td>0.452381</td>\n",
              "      <td>0.404762</td>\n",
              "    </tr>\n",
              "    <tr>\n",
              "      <th>22</th>\n",
              "      <td>0.547619</td>\n",
              "      <td>0.000000</td>\n",
              "      <td>1.000000</td>\n",
              "      <td>0.142857</td>\n",
              "    </tr>\n",
              "    <tr>\n",
              "      <th>64</th>\n",
              "      <td>0.452381</td>\n",
              "      <td>1.000000</td>\n",
              "      <td>0.000000</td>\n",
              "      <td>0.857143</td>\n",
              "    </tr>\n",
              "    <tr>\n",
              "      <th>28</th>\n",
              "      <td>0.404762</td>\n",
              "      <td>0.142857</td>\n",
              "      <td>0.857143</td>\n",
              "      <td>0.000000</td>\n",
              "    </tr>\n",
              "  </tbody>\n",
              "</table>\n",
              "</div>"
            ],
            "text/plain": [
              "          45        22        64        28\n",
              "45  0.000000  0.547619  0.452381  0.404762\n",
              "22  0.547619  0.000000  1.000000  0.142857\n",
              "64  0.452381  1.000000  0.000000  0.857143\n",
              "28  0.404762  0.142857  0.857143  0.000000"
            ]
          },
          "metadata": {}
        }
      ]
    },
    {
      "cell_type": "markdown",
      "metadata": {
        "id": "v0xQHxamUiPy"
      },
      "source": [
        "Aggregating all the matrices"
      ]
    },
    {
      "cell_type": "code",
      "metadata": {
        "colab": {
          "base_uri": "https://localhost:8080/",
          "height": 434
        },
        "id": "BR78zcGQTqcd",
        "outputId": "ec25a6dc-24d1-4f91-e7d2-aec196aee33c"
      },
      "source": [
        "print('----------------------------------------------------------------------')\n",
        "print('We have similarity matrix corresponding to nominal attribute - test1')\n",
        "display(dissimilarity_nominal.values)\n",
        "print('\\n')\n",
        "\n",
        "print('----------------------------------------------------------------------')\n",
        "print('We have similarity matrix corresponding to ordinal attribute - test2')\n",
        "display(dissimilarity_ordinal)\n",
        "print('\\n')\n",
        "\n",
        "print('----------------------------------------------------------------------')\n",
        "print('We have similarity matrix corresponding to numerical attribute - test3')\n",
        "display(dissimilarity_numerical)\n",
        "print('\\n')"
      ],
      "execution_count": null,
      "outputs": [
        {
          "output_type": "stream",
          "name": "stdout",
          "text": [
            "----------------------------------------------------------------------\n",
            "We have similarity matrix corresponding to nominal attribute - test1\n"
          ]
        },
        {
          "output_type": "display_data",
          "data": {
            "text/plain": [
              "array([[1., 1., 1., 0.],\n",
              "       [1., 1., 1., 1.],\n",
              "       [1., 1., 1., 1.],\n",
              "       [0., 1., 1., 1.]])"
            ]
          },
          "metadata": {}
        },
        {
          "output_type": "stream",
          "name": "stdout",
          "text": [
            "\n",
            "\n",
            "----------------------------------------------------------------------\n",
            "We have similarity matrix corresponding to ordinal attribute - test2\n"
          ]
        },
        {
          "output_type": "display_data",
          "data": {
            "text/plain": [
              "array([[0. , 1. , 0.5, 0. ],\n",
              "       [1. , 0. , 0.5, 1. ],\n",
              "       [0.5, 0.5, 0. , 0.5],\n",
              "       [0. , 1. , 0.5, 0. ]])"
            ]
          },
          "metadata": {}
        },
        {
          "output_type": "stream",
          "name": "stdout",
          "text": [
            "\n",
            "\n",
            "----------------------------------------------------------------------\n",
            "We have similarity matrix corresponding to numerical attribute - test3\n"
          ]
        },
        {
          "output_type": "display_data",
          "data": {
            "text/plain": [
              "array([[0.        , 0.54761905, 0.45238095, 0.4047619 ],\n",
              "       [0.54761905, 0.        , 1.        , 0.14285714],\n",
              "       [0.45238095, 1.        , 0.        , 0.85714286],\n",
              "       [0.4047619 , 0.14285714, 0.85714286, 0.        ]])"
            ]
          },
          "metadata": {}
        },
        {
          "output_type": "stream",
          "name": "stdout",
          "text": [
            "\n",
            "\n"
          ]
        }
      ]
    },
    {
      "cell_type": "code",
      "metadata": {
        "colab": {
          "base_uri": "https://localhost:8080/",
          "height": 210
        },
        "id": "N2dRgx1MUQMj",
        "outputId": "a84afec8-6ec1-457d-f685-ead42e2c531e"
      },
      "source": [
        "total_sim = dissimilarity_numerical+dissimilarity_ordinal+dissimilarity_nominal.values\n",
        "print('Overall similarity matrix for attributes of mixed type is -')\n",
        "findf = pd.DataFrame(total_sim/3,columns = df['Object Identifier'].values,index = df['Object Identifier'].values)\n",
        "display(findf)\n",
        "print('--------------------------------------------------------------------------------------------------------')"
      ],
      "execution_count": null,
      "outputs": [
        {
          "output_type": "stream",
          "name": "stdout",
          "text": [
            "Overall similarity matrix for attributes of mixed type is -\n"
          ]
        },
        {
          "output_type": "display_data",
          "data": {
            "text/html": [
              "<div>\n",
              "<style scoped>\n",
              "    .dataframe tbody tr th:only-of-type {\n",
              "        vertical-align: middle;\n",
              "    }\n",
              "\n",
              "    .dataframe tbody tr th {\n",
              "        vertical-align: top;\n",
              "    }\n",
              "\n",
              "    .dataframe thead th {\n",
              "        text-align: right;\n",
              "    }\n",
              "</style>\n",
              "<table border=\"1\" class=\"dataframe\">\n",
              "  <thead>\n",
              "    <tr style=\"text-align: right;\">\n",
              "      <th></th>\n",
              "      <th>1</th>\n",
              "      <th>2</th>\n",
              "      <th>3</th>\n",
              "      <th>4</th>\n",
              "    </tr>\n",
              "  </thead>\n",
              "  <tbody>\n",
              "    <tr>\n",
              "      <th>1</th>\n",
              "      <td>0.333333</td>\n",
              "      <td>0.849206</td>\n",
              "      <td>0.650794</td>\n",
              "      <td>0.134921</td>\n",
              "    </tr>\n",
              "    <tr>\n",
              "      <th>2</th>\n",
              "      <td>0.849206</td>\n",
              "      <td>0.333333</td>\n",
              "      <td>0.833333</td>\n",
              "      <td>0.714286</td>\n",
              "    </tr>\n",
              "    <tr>\n",
              "      <th>3</th>\n",
              "      <td>0.650794</td>\n",
              "      <td>0.833333</td>\n",
              "      <td>0.333333</td>\n",
              "      <td>0.785714</td>\n",
              "    </tr>\n",
              "    <tr>\n",
              "      <th>4</th>\n",
              "      <td>0.134921</td>\n",
              "      <td>0.714286</td>\n",
              "      <td>0.785714</td>\n",
              "      <td>0.333333</td>\n",
              "    </tr>\n",
              "  </tbody>\n",
              "</table>\n",
              "</div>"
            ],
            "text/plain": [
              "          1         2         3         4\n",
              "1  0.333333  0.849206  0.650794  0.134921\n",
              "2  0.849206  0.333333  0.833333  0.714286\n",
              "3  0.650794  0.833333  0.333333  0.785714\n",
              "4  0.134921  0.714286  0.785714  0.333333"
            ]
          },
          "metadata": {}
        },
        {
          "output_type": "stream",
          "name": "stdout",
          "text": [
            "--------------------------------------------------------------------------------------------------------\n"
          ]
        }
      ]
    },
    {
      "cell_type": "code",
      "metadata": {
        "id": "j4wXS4WpUYMU"
      },
      "source": [
        ""
      ],
      "execution_count": null,
      "outputs": []
    }
  ]
}