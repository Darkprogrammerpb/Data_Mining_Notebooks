{
  "nbformat": 4,
  "nbformat_minor": 0,
  "metadata": {
    "colab": {
      "name": "Data Transformations.ipynb",
      "provenance": [],
      "collapsed_sections": []
    },
    "kernelspec": {
      "name": "python3",
      "display_name": "Python 3"
    },
    "language_info": {
      "name": "python"
    }
  },
  "cells": [
    {
      "cell_type": "code",
      "metadata": {
        "id": "TDw9YwIroRt5"
      },
      "source": [
        "import numpy as np\n",
        "import pandas as pd"
      ],
      "execution_count": 1,
      "outputs": []
    },
    {
      "cell_type": "markdown",
      "metadata": {
        "id": "jnGoKWnooAkx"
      },
      "source": [
        "# Normalization of univariate data\n",
        "Here we will solve the text-book question 3.6 that uses z-score normalization, min-max normalization and decimal scaling"
      ]
    },
    {
      "cell_type": "code",
      "metadata": {
        "id": "OSxUWq5kmNps",
        "colab": {
          "base_uri": "https://localhost:8080/"
        },
        "outputId": "7319e82b-a38a-406b-b23a-abdeb19f28a4"
      },
      "source": [
        "array = [200,300,400,600,1000]\n",
        "array = np.array(array)\n",
        "print('-------------------------------------------------------------------------------')\n",
        "min_val = np.min(array)\n",
        "max_val = np.max(array)\n",
        "min_needed = 0\n",
        "max_needed = 1\n",
        "normalized_array_min_max = [min_needed+((val-min_val)/(max_val-min_val))*(max_needed-min_needed) for val in array]\n",
        "print(f'The min-max normalized array is {normalized_array_min_max}')\n",
        "print('-------------------------------------------------------------------------------')\n",
        "print('\\n')\n",
        "\n",
        "print('-------------------------------------------------------------------------------')\n",
        "mean_array = np.mean(array)\n",
        "std_array  = np.std(array)\n",
        "zscore     = [(z-mean_array)/std_array for z in array]\n",
        "print(f'The z-scored normalized array is {zscore}')\n",
        "print('-------------------------------------------------------------------------------')\n",
        "print('\\n')\n",
        "\n",
        "\n",
        "\n",
        "print('-------------------------------------------------------------------------------')\n",
        "mean_array = np.mean(array)\n",
        "mad_array  = np.mean(np.absolute(array - np.mean(array)))\n",
        "zscore_mad = [(z-mean_array)/mad_array for z in array]\n",
        "print(f'The z-scored Mean absolute value normalized array is {zscore_mad}')\n",
        "print('-------------------------------------------------------------------------------')\n",
        "print('\\n')\n",
        "\n",
        "print('-------------------------------------------------------------------------------')\n",
        "dec_val = np.min(np.array([len(str(z)) for z in array]))\n",
        "dec_scaled_array = [val/(10**dec_val) for val in array]\n",
        "print(f'The decimal scaled array is {dec_scaled_array} ')\n",
        "print('-------------------------------------------------------------------------------')"
      ],
      "execution_count": 15,
      "outputs": [
        {
          "output_type": "stream",
          "name": "stdout",
          "text": [
            "-------------------------------------------------------------------------------\n",
            "The min-max normalized array is [0.0, 0.125, 0.25, 0.5, 1.0]\n",
            "-------------------------------------------------------------------------------\n",
            "\n",
            "\n",
            "-------------------------------------------------------------------------------\n",
            "The z-scored normalized array is [-1.0606601717798212, -0.7071067811865475, -0.35355339059327373, 0.35355339059327373, 1.7677669529663687]\n",
            "-------------------------------------------------------------------------------\n",
            "\n",
            "\n",
            "-------------------------------------------------------------------------------\n",
            "The z-scored Mean absolute value normalized array is [-1.25, -0.8333333333333334, -0.4166666666666667, 0.4166666666666667, 2.0833333333333335]\n",
            "-------------------------------------------------------------------------------\n",
            "\n",
            "\n",
            "-------------------------------------------------------------------------------\n",
            "The decimal scaled array is [0.2, 0.3, 0.4, 0.6, 1.0] \n",
            "-------------------------------------------------------------------------------\n"
          ]
        }
      ]
    }
  ]
}